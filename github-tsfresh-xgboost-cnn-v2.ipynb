{
 "cells": [
  {
   "cell_type": "code",
   "execution_count": 1,
   "id": "9de2e07f",
   "metadata": {
    "ExecuteTime": {
     "end_time": "2022-03-27T12:31:41.646403Z",
     "start_time": "2022-03-27T12:31:41.638401Z"
    }
   },
   "outputs": [],
   "source": [
    "# Score = 800"
   ]
  },
  {
   "cell_type": "markdown",
   "id": "73864b72",
   "metadata": {},
   "source": [
    "# import"
   ]
  },
  {
   "cell_type": "code",
   "execution_count": 2,
   "id": "c3ecb58b",
   "metadata": {
    "ExecuteTime": {
     "end_time": "2022-03-27T12:31:52.646742Z",
     "start_time": "2022-03-27T12:31:41.650403Z"
    }
   },
   "outputs": [],
   "source": [
    "%matplotlib inline\n",
    "\n",
    "import matplotlib.pylab as plt\n",
    "\n",
    "from tsfresh import extract_features, extract_relevant_features, select_features\n",
    "from tsfresh.utilities.dataframe_functions import impute\n",
    "from tsfresh.feature_extraction import ComprehensiveFCParameters\n",
    "\n",
    "from sklearn.tree import DecisionTreeClassifier\n",
    "from sklearn.model_selection import train_test_split\n",
    "from sklearn.metrics import classification_report\n",
    "\n",
    "import pandas as pd\n",
    "import numpy as np"
   ]
  },
  {
   "cell_type": "markdown",
   "id": "b709cbca",
   "metadata": {},
   "source": [
    "# load new dataset"
   ]
  },
  {
   "cell_type": "code",
   "execution_count": 2,
   "id": "edd397c4",
   "metadata": {
    "ExecuteTime": {
     "end_time": "2022-03-27T12:31:55.300388Z",
     "start_time": "2022-03-27T12:31:52.646742Z"
    }
   },
   "outputs": [],
   "source": [
    "import pickle\n",
    "with open('./train_ts_2.pkl','rb') as file:\n",
    "    train2 = pickle.load(file)\n",
    "with open('./test_ts_2.pkl','rb') as file:\n",
    "    test2 = pickle.load(file)"
   ]
  },
  {
   "cell_type": "code",
   "execution_count": 3,
   "id": "6098679f-2e40-4c7b-9253-2adf7ff7f2c9",
   "metadata": {},
   "outputs": [
    {
     "data": {
      "text/html": [
       "<div>\n",
       "<style scoped>\n",
       "    .dataframe tbody tr th:only-of-type {\n",
       "        vertical-align: middle;\n",
       "    }\n",
       "\n",
       "    .dataframe tbody tr th {\n",
       "        vertical-align: top;\n",
       "    }\n",
       "\n",
       "    .dataframe thead th {\n",
       "        text-align: right;\n",
       "    }\n",
       "</style>\n",
       "<table border=\"1\" class=\"dataframe\">\n",
       "  <thead>\n",
       "    <tr style=\"text-align: right;\">\n",
       "      <th></th>\n",
       "      <th>id</th>\n",
       "      <th>time</th>\n",
       "      <th>heart</th>\n",
       "    </tr>\n",
       "    <tr>\n",
       "      <th>id</th>\n",
       "      <th></th>\n",
       "      <th></th>\n",
       "      <th></th>\n",
       "    </tr>\n",
       "  </thead>\n",
       "  <tbody>\n",
       "    <tr>\n",
       "      <th>100000</th>\n",
       "      <td>100000</td>\n",
       "      <td>0</td>\n",
       "      <td>0.991571</td>\n",
       "    </tr>\n",
       "    <tr>\n",
       "      <th>100001</th>\n",
       "      <td>100001</td>\n",
       "      <td>0</td>\n",
       "      <td>0.607553</td>\n",
       "    </tr>\n",
       "    <tr>\n",
       "      <th>100002</th>\n",
       "      <td>100002</td>\n",
       "      <td>0</td>\n",
       "      <td>0.975273</td>\n",
       "    </tr>\n",
       "    <tr>\n",
       "      <th>100003</th>\n",
       "      <td>100003</td>\n",
       "      <td>0</td>\n",
       "      <td>0.995635</td>\n",
       "    </tr>\n",
       "    <tr>\n",
       "      <th>100004</th>\n",
       "      <td>100004</td>\n",
       "      <td>0</td>\n",
       "      <td>1.000000</td>\n",
       "    </tr>\n",
       "    <tr>\n",
       "      <th>...</th>\n",
       "      <td>...</td>\n",
       "      <td>...</td>\n",
       "      <td>...</td>\n",
       "    </tr>\n",
       "    <tr>\n",
       "      <th>119995</th>\n",
       "      <td>119995</td>\n",
       "      <td>204</td>\n",
       "      <td>0.000000</td>\n",
       "    </tr>\n",
       "    <tr>\n",
       "      <th>119996</th>\n",
       "      <td>119996</td>\n",
       "      <td>204</td>\n",
       "      <td>0.000000</td>\n",
       "    </tr>\n",
       "    <tr>\n",
       "      <th>119997</th>\n",
       "      <td>119997</td>\n",
       "      <td>204</td>\n",
       "      <td>0.000000</td>\n",
       "    </tr>\n",
       "    <tr>\n",
       "      <th>119998</th>\n",
       "      <td>119998</td>\n",
       "      <td>204</td>\n",
       "      <td>0.000000</td>\n",
       "    </tr>\n",
       "    <tr>\n",
       "      <th>119999</th>\n",
       "      <td>119999</td>\n",
       "      <td>204</td>\n",
       "      <td>0.000000</td>\n",
       "    </tr>\n",
       "  </tbody>\n",
       "</table>\n",
       "<p>4100000 rows × 3 columns</p>\n",
       "</div>"
      ],
      "text/plain": [
       "            id time     heart\n",
       "id                           \n",
       "100000  100000    0  0.991571\n",
       "100001  100001    0  0.607553\n",
       "100002  100002    0  0.975273\n",
       "100003  100003    0  0.995635\n",
       "100004  100004    0  1.000000\n",
       "...        ...  ...       ...\n",
       "119995  119995  204  0.000000\n",
       "119996  119996  204  0.000000\n",
       "119997  119997  204  0.000000\n",
       "119998  119998  204  0.000000\n",
       "119999  119999  204  0.000000\n",
       "\n",
       "[4100000 rows x 3 columns]"
      ]
     },
     "execution_count": 3,
     "metadata": {},
     "output_type": "execute_result"
    }
   ],
   "source": [
    "test2"
   ]
  },
  {
   "cell_type": "code",
   "execution_count": 4,
   "id": "c76e4cb6-7dad-4d6d-b1af-842159a11e0f",
   "metadata": {},
   "outputs": [
    {
     "data": {
      "text/html": [
       "<div>\n",
       "<style scoped>\n",
       "    .dataframe tbody tr th:only-of-type {\n",
       "        vertical-align: middle;\n",
       "    }\n",
       "\n",
       "    .dataframe tbody tr th {\n",
       "        vertical-align: top;\n",
       "    }\n",
       "\n",
       "    .dataframe thead th {\n",
       "        text-align: right;\n",
       "    }\n",
       "</style>\n",
       "<table border=\"1\" class=\"dataframe\">\n",
       "  <thead>\n",
       "    <tr style=\"text-align: right;\">\n",
       "      <th></th>\n",
       "      <th>id</th>\n",
       "      <th>time</th>\n",
       "      <th>heart</th>\n",
       "    </tr>\n",
       "    <tr>\n",
       "      <th>id</th>\n",
       "      <th></th>\n",
       "      <th></th>\n",
       "      <th></th>\n",
       "    </tr>\n",
       "  </thead>\n",
       "  <tbody>\n",
       "    <tr>\n",
       "      <th>0</th>\n",
       "      <td>0</td>\n",
       "      <td>0</td>\n",
       "      <td>0.991230</td>\n",
       "    </tr>\n",
       "    <tr>\n",
       "      <th>1</th>\n",
       "      <td>1</td>\n",
       "      <td>0</td>\n",
       "      <td>0.971482</td>\n",
       "    </tr>\n",
       "    <tr>\n",
       "      <th>2</th>\n",
       "      <td>2</td>\n",
       "      <td>0</td>\n",
       "      <td>1.000000</td>\n",
       "    </tr>\n",
       "    <tr>\n",
       "      <th>3</th>\n",
       "      <td>3</td>\n",
       "      <td>0</td>\n",
       "      <td>0.975795</td>\n",
       "    </tr>\n",
       "    <tr>\n",
       "      <th>4</th>\n",
       "      <td>4</td>\n",
       "      <td>0</td>\n",
       "      <td>0.000000</td>\n",
       "    </tr>\n",
       "    <tr>\n",
       "      <th>...</th>\n",
       "      <td>...</td>\n",
       "      <td>...</td>\n",
       "      <td>...</td>\n",
       "    </tr>\n",
       "    <tr>\n",
       "      <th>99995</th>\n",
       "      <td>99995</td>\n",
       "      <td>204</td>\n",
       "      <td>0.000000</td>\n",
       "    </tr>\n",
       "    <tr>\n",
       "      <th>99996</th>\n",
       "      <td>99996</td>\n",
       "      <td>204</td>\n",
       "      <td>0.000000</td>\n",
       "    </tr>\n",
       "    <tr>\n",
       "      <th>99997</th>\n",
       "      <td>99997</td>\n",
       "      <td>204</td>\n",
       "      <td>0.000000</td>\n",
       "    </tr>\n",
       "    <tr>\n",
       "      <th>99998</th>\n",
       "      <td>99998</td>\n",
       "      <td>204</td>\n",
       "      <td>0.000000</td>\n",
       "    </tr>\n",
       "    <tr>\n",
       "      <th>99999</th>\n",
       "      <td>99999</td>\n",
       "      <td>204</td>\n",
       "      <td>0.000000</td>\n",
       "    </tr>\n",
       "  </tbody>\n",
       "</table>\n",
       "<p>20500000 rows × 3 columns</p>\n",
       "</div>"
      ],
      "text/plain": [
       "          id time     heart\n",
       "id                         \n",
       "0          0    0  0.991230\n",
       "1          1    0  0.971482\n",
       "2          2    0  1.000000\n",
       "3          3    0  0.975795\n",
       "4          4    0  0.000000\n",
       "...      ...  ...       ...\n",
       "99995  99995  204  0.000000\n",
       "99996  99996  204  0.000000\n",
       "99997  99997  204  0.000000\n",
       "99998  99998  204  0.000000\n",
       "99999  99999  204  0.000000\n",
       "\n",
       "[20500000 rows x 3 columns]"
      ]
     },
     "execution_count": 4,
     "metadata": {},
     "output_type": "execute_result"
    }
   ],
   "source": [
    "train2"
   ]
  },
  {
   "cell_type": "markdown",
   "id": "f0a1065c-ce8c-4154-ac63-2070018682b7",
   "metadata": {},
   "source": [
    "## test2 memory processing"
   ]
  },
  {
   "cell_type": "code",
   "execution_count": 3,
   "id": "00455ffe-2906-4b82-8ca4-b7cc015c9045",
   "metadata": {},
   "outputs": [
    {
     "name": "stdout",
     "output_type": "stream",
     "text": [
      "<class 'pandas.core.frame.DataFrame'>\n",
      "Int64Index: 4100000 entries, 100000 to 119999\n",
      "Data columns (total 3 columns):\n",
      " #   Column  Dtype  \n",
      "---  ------  -----  \n",
      " 0   id      int64  \n",
      " 1   time    object \n",
      " 2   heart   float64\n",
      "dtypes: float64(1), int64(1), object(1)\n",
      "memory usage: 125.1+ MB\n"
     ]
    }
   ],
   "source": [
    "test2.info()"
   ]
  },
  {
   "cell_type": "code",
   "execution_count": 3,
   "id": "b6c14798-ffff-4ae2-bb6d-287c7b3e7e64",
   "metadata": {},
   "outputs": [
    {
     "data": {
      "text/html": [
       "<div>\n",
       "<style scoped>\n",
       "    .dataframe tbody tr th:only-of-type {\n",
       "        vertical-align: middle;\n",
       "    }\n",
       "\n",
       "    .dataframe tbody tr th {\n",
       "        vertical-align: top;\n",
       "    }\n",
       "\n",
       "    .dataframe thead th {\n",
       "        text-align: right;\n",
       "    }\n",
       "</style>\n",
       "<table border=\"1\" class=\"dataframe\">\n",
       "  <thead>\n",
       "    <tr style=\"text-align: right;\">\n",
       "      <th></th>\n",
       "      <th>id</th>\n",
       "      <th>time</th>\n",
       "      <th>heart</th>\n",
       "    </tr>\n",
       "    <tr>\n",
       "      <th>id</th>\n",
       "      <th></th>\n",
       "      <th></th>\n",
       "      <th></th>\n",
       "    </tr>\n",
       "  </thead>\n",
       "  <tbody>\n",
       "    <tr>\n",
       "      <th>100000</th>\n",
       "      <td>100000</td>\n",
       "      <td>0</td>\n",
       "      <td>0.991571</td>\n",
       "    </tr>\n",
       "    <tr>\n",
       "      <th>100001</th>\n",
       "      <td>100001</td>\n",
       "      <td>0</td>\n",
       "      <td>0.607553</td>\n",
       "    </tr>\n",
       "    <tr>\n",
       "      <th>100002</th>\n",
       "      <td>100002</td>\n",
       "      <td>0</td>\n",
       "      <td>0.975273</td>\n",
       "    </tr>\n",
       "    <tr>\n",
       "      <th>100003</th>\n",
       "      <td>100003</td>\n",
       "      <td>0</td>\n",
       "      <td>0.995635</td>\n",
       "    </tr>\n",
       "    <tr>\n",
       "      <th>100004</th>\n",
       "      <td>100004</td>\n",
       "      <td>0</td>\n",
       "      <td>1.000000</td>\n",
       "    </tr>\n",
       "    <tr>\n",
       "      <th>...</th>\n",
       "      <td>...</td>\n",
       "      <td>...</td>\n",
       "      <td>...</td>\n",
       "    </tr>\n",
       "    <tr>\n",
       "      <th>119995</th>\n",
       "      <td>119995</td>\n",
       "      <td>204</td>\n",
       "      <td>0.000000</td>\n",
       "    </tr>\n",
       "    <tr>\n",
       "      <th>119996</th>\n",
       "      <td>119996</td>\n",
       "      <td>204</td>\n",
       "      <td>0.000000</td>\n",
       "    </tr>\n",
       "    <tr>\n",
       "      <th>119997</th>\n",
       "      <td>119997</td>\n",
       "      <td>204</td>\n",
       "      <td>0.000000</td>\n",
       "    </tr>\n",
       "    <tr>\n",
       "      <th>119998</th>\n",
       "      <td>119998</td>\n",
       "      <td>204</td>\n",
       "      <td>0.000000</td>\n",
       "    </tr>\n",
       "    <tr>\n",
       "      <th>119999</th>\n",
       "      <td>119999</td>\n",
       "      <td>204</td>\n",
       "      <td>0.000000</td>\n",
       "    </tr>\n",
       "  </tbody>\n",
       "</table>\n",
       "<p>4100000 rows × 3 columns</p>\n",
       "</div>"
      ],
      "text/plain": [
       "            id  time     heart\n",
       "id                            \n",
       "100000  100000     0  0.991571\n",
       "100001  100001     0  0.607553\n",
       "100002  100002     0  0.975273\n",
       "100003  100003     0  0.995635\n",
       "100004  100004     0  1.000000\n",
       "...        ...   ...       ...\n",
       "119995  119995   204  0.000000\n",
       "119996  119996   204  0.000000\n",
       "119997  119997   204  0.000000\n",
       "119998  119998   204  0.000000\n",
       "119999  119999   204  0.000000\n",
       "\n",
       "[4100000 rows x 3 columns]"
      ]
     },
     "execution_count": 3,
     "metadata": {},
     "output_type": "execute_result"
    }
   ],
   "source": [
    "import numpy as np\n",
    "import warnings\n",
    "warnings.filterwarnings('ignore')\n",
    "test2['id'] = test2['id'].astype(np.int32)\n",
    "test2['time'] = test2['time'].astype(np.int16)\n",
    "test2['heart'] = test2['heart'].astype(np.float32)\n",
    "test2"
   ]
  },
  {
   "cell_type": "code",
   "execution_count": 4,
   "id": "7ac7ad9c-fb43-47b2-895d-228a5df0ab73",
   "metadata": {},
   "outputs": [
    {
     "name": "stdout",
     "output_type": "stream",
     "text": [
      "<class 'pandas.core.frame.DataFrame'>\n",
      "Int64Index: 4100000 entries, 100000 to 119999\n",
      "Data columns (total 3 columns):\n",
      " #   Column  Dtype  \n",
      "---  ------  -----  \n",
      " 0   id      int32  \n",
      " 1   time    int16  \n",
      " 2   heart   float32\n",
      "dtypes: float32(1), int16(1), int32(1)\n",
      "memory usage: 70.4 MB\n"
     ]
    }
   ],
   "source": [
    "test2.info()"
   ]
  },
  {
   "cell_type": "code",
   "execution_count": 5,
   "id": "8ab0f9ab-70c6-4c9f-9ef6-bb2f2c23aff1",
   "metadata": {},
   "outputs": [
    {
     "data": {
      "text/html": [
       "<div>\n",
       "<style scoped>\n",
       "    .dataframe tbody tr th:only-of-type {\n",
       "        vertical-align: middle;\n",
       "    }\n",
       "\n",
       "    .dataframe tbody tr th {\n",
       "        vertical-align: top;\n",
       "    }\n",
       "\n",
       "    .dataframe thead th {\n",
       "        text-align: right;\n",
       "    }\n",
       "</style>\n",
       "<table border=\"1\" class=\"dataframe\">\n",
       "  <thead>\n",
       "    <tr style=\"text-align: right;\">\n",
       "      <th></th>\n",
       "      <th>id</th>\n",
       "      <th>time</th>\n",
       "      <th>heart</th>\n",
       "    </tr>\n",
       "  </thead>\n",
       "  <tbody>\n",
       "    <tr>\n",
       "      <th>100000</th>\n",
       "      <td>100000</td>\n",
       "      <td>0</td>\n",
       "      <td>0.991571</td>\n",
       "    </tr>\n",
       "    <tr>\n",
       "      <th>100001</th>\n",
       "      <td>100001</td>\n",
       "      <td>0</td>\n",
       "      <td>0.607553</td>\n",
       "    </tr>\n",
       "    <tr>\n",
       "      <th>100002</th>\n",
       "      <td>100002</td>\n",
       "      <td>0</td>\n",
       "      <td>0.975273</td>\n",
       "    </tr>\n",
       "    <tr>\n",
       "      <th>100003</th>\n",
       "      <td>100003</td>\n",
       "      <td>0</td>\n",
       "      <td>0.995635</td>\n",
       "    </tr>\n",
       "    <tr>\n",
       "      <th>100004</th>\n",
       "      <td>100004</td>\n",
       "      <td>0</td>\n",
       "      <td>1.000000</td>\n",
       "    </tr>\n",
       "    <tr>\n",
       "      <th>...</th>\n",
       "      <td>...</td>\n",
       "      <td>...</td>\n",
       "      <td>...</td>\n",
       "    </tr>\n",
       "    <tr>\n",
       "      <th>119995</th>\n",
       "      <td>119995</td>\n",
       "      <td>204</td>\n",
       "      <td>0.000000</td>\n",
       "    </tr>\n",
       "    <tr>\n",
       "      <th>119996</th>\n",
       "      <td>119996</td>\n",
       "      <td>204</td>\n",
       "      <td>0.000000</td>\n",
       "    </tr>\n",
       "    <tr>\n",
       "      <th>119997</th>\n",
       "      <td>119997</td>\n",
       "      <td>204</td>\n",
       "      <td>0.000000</td>\n",
       "    </tr>\n",
       "    <tr>\n",
       "      <th>119998</th>\n",
       "      <td>119998</td>\n",
       "      <td>204</td>\n",
       "      <td>0.000000</td>\n",
       "    </tr>\n",
       "    <tr>\n",
       "      <th>119999</th>\n",
       "      <td>119999</td>\n",
       "      <td>204</td>\n",
       "      <td>0.000000</td>\n",
       "    </tr>\n",
       "  </tbody>\n",
       "</table>\n",
       "<p>4100000 rows × 3 columns</p>\n",
       "</div>"
      ],
      "text/plain": [
       "            id  time     heart\n",
       "100000  100000     0  0.991571\n",
       "100001  100001     0  0.607553\n",
       "100002  100002     0  0.975273\n",
       "100003  100003     0  0.995635\n",
       "100004  100004     0  1.000000\n",
       "...        ...   ...       ...\n",
       "119995  119995   204  0.000000\n",
       "119996  119996   204  0.000000\n",
       "119997  119997   204  0.000000\n",
       "119998  119998   204  0.000000\n",
       "119999  119999   204  0.000000\n",
       "\n",
       "[4100000 rows x 3 columns]"
      ]
     },
     "execution_count": 5,
     "metadata": {},
     "output_type": "execute_result"
    }
   ],
   "source": [
    "test2.index.name = None\n",
    "test2"
   ]
  },
  {
   "cell_type": "markdown",
   "id": "67bc2e4d-98ac-47b9-9fcf-a1065bd473c5",
   "metadata": {},
   "source": [
    "### sort_values"
   ]
  },
  {
   "cell_type": "code",
   "execution_count": 25,
   "id": "9e0ce4e8-2aec-4512-9118-b8a31f5bbbb3",
   "metadata": {},
   "outputs": [
    {
     "data": {
      "text/html": [
       "<div>\n",
       "<style scoped>\n",
       "    .dataframe tbody tr th:only-of-type {\n",
       "        vertical-align: middle;\n",
       "    }\n",
       "\n",
       "    .dataframe tbody tr th {\n",
       "        vertical-align: top;\n",
       "    }\n",
       "\n",
       "    .dataframe thead th {\n",
       "        text-align: right;\n",
       "    }\n",
       "</style>\n",
       "<table border=\"1\" class=\"dataframe\">\n",
       "  <thead>\n",
       "    <tr style=\"text-align: right;\">\n",
       "      <th></th>\n",
       "      <th>id</th>\n",
       "      <th>time</th>\n",
       "      <th>heart</th>\n",
       "    </tr>\n",
       "  </thead>\n",
       "  <tbody>\n",
       "    <tr>\n",
       "      <th>100000</th>\n",
       "      <td>100000</td>\n",
       "      <td>0</td>\n",
       "      <td>0.991571</td>\n",
       "    </tr>\n",
       "    <tr>\n",
       "      <th>100000</th>\n",
       "      <td>100000</td>\n",
       "      <td>118</td>\n",
       "      <td>0.000000</td>\n",
       "    </tr>\n",
       "    <tr>\n",
       "      <th>100000</th>\n",
       "      <td>100000</td>\n",
       "      <td>105</td>\n",
       "      <td>0.049563</td>\n",
       "    </tr>\n",
       "    <tr>\n",
       "      <th>100000</th>\n",
       "      <td>100000</td>\n",
       "      <td>111</td>\n",
       "      <td>0.000000</td>\n",
       "    </tr>\n",
       "    <tr>\n",
       "      <th>100000</th>\n",
       "      <td>100000</td>\n",
       "      <td>94</td>\n",
       "      <td>0.260698</td>\n",
       "    </tr>\n",
       "    <tr>\n",
       "      <th>...</th>\n",
       "      <td>...</td>\n",
       "      <td>...</td>\n",
       "      <td>...</td>\n",
       "    </tr>\n",
       "    <tr>\n",
       "      <th>119999</th>\n",
       "      <td>119999</td>\n",
       "      <td>159</td>\n",
       "      <td>0.000000</td>\n",
       "    </tr>\n",
       "    <tr>\n",
       "      <th>119999</th>\n",
       "      <td>119999</td>\n",
       "      <td>43</td>\n",
       "      <td>0.231326</td>\n",
       "    </tr>\n",
       "    <tr>\n",
       "      <th>119999</th>\n",
       "      <td>119999</td>\n",
       "      <td>160</td>\n",
       "      <td>0.000000</td>\n",
       "    </tr>\n",
       "    <tr>\n",
       "      <th>119999</th>\n",
       "      <td>119999</td>\n",
       "      <td>157</td>\n",
       "      <td>0.000000</td>\n",
       "    </tr>\n",
       "    <tr>\n",
       "      <th>119999</th>\n",
       "      <td>119999</td>\n",
       "      <td>204</td>\n",
       "      <td>0.000000</td>\n",
       "    </tr>\n",
       "  </tbody>\n",
       "</table>\n",
       "<p>4100000 rows × 3 columns</p>\n",
       "</div>"
      ],
      "text/plain": [
       "            id  time     heart\n",
       "100000  100000     0  0.991571\n",
       "100000  100000   118  0.000000\n",
       "100000  100000   105  0.049563\n",
       "100000  100000   111  0.000000\n",
       "100000  100000    94  0.260698\n",
       "...        ...   ...       ...\n",
       "119999  119999   159  0.000000\n",
       "119999  119999    43  0.231326\n",
       "119999  119999   160  0.000000\n",
       "119999  119999   157  0.000000\n",
       "119999  119999   204  0.000000\n",
       "\n",
       "[4100000 rows x 3 columns]"
      ]
     },
     "execution_count": 25,
     "metadata": {},
     "output_type": "execute_result"
    }
   ],
   "source": [
    "test2_s = test2.sort_values('id')\n",
    "test2_s "
   ]
  },
  {
   "cell_type": "code",
   "execution_count": null,
   "id": "5d485f8d",
   "metadata": {},
   "outputs": [],
   "source": [
    "test_4=test2_s.reset_index(drop=True)\n",
    "test_4"
   ]
  },
  {
   "cell_type": "markdown",
   "id": "a8f13865-63b3-4b96-a0e3-68ff7505e17b",
   "metadata": {},
   "source": [
    "## train2 memory processing"
   ]
  },
  {
   "cell_type": "code",
   "execution_count": 39,
   "id": "f88be6eb",
   "metadata": {
    "ExecuteTime": {
     "end_time": "2022-03-27T12:31:55.325681Z",
     "start_time": "2022-03-27T12:31:55.304665Z"
    }
   },
   "outputs": [
    {
     "name": "stdout",
     "output_type": "stream",
     "text": [
      "<class 'pandas.core.frame.DataFrame'>\n",
      "Int64Index: 20500000 entries, 0 to 99999\n",
      "Data columns (total 3 columns):\n",
      " #   Column  Dtype  \n",
      "---  ------  -----  \n",
      " 0   id      int64  \n",
      " 1   time    object \n",
      " 2   heart   float64\n",
      "dtypes: float64(1), int64(1), object(1)\n",
      "memory usage: 625.6+ MB\n"
     ]
    }
   ],
   "source": [
    "train2.info()"
   ]
  },
  {
   "cell_type": "code",
   "execution_count": 40,
   "id": "920b03e2",
   "metadata": {
    "ExecuteTime": {
     "end_time": "2022-03-27T12:31:56.965733Z",
     "start_time": "2022-03-27T12:31:55.330665Z"
    }
   },
   "outputs": [
    {
     "data": {
      "text/html": [
       "<div>\n",
       "<style scoped>\n",
       "    .dataframe tbody tr th:only-of-type {\n",
       "        vertical-align: middle;\n",
       "    }\n",
       "\n",
       "    .dataframe tbody tr th {\n",
       "        vertical-align: top;\n",
       "    }\n",
       "\n",
       "    .dataframe thead th {\n",
       "        text-align: right;\n",
       "    }\n",
       "</style>\n",
       "<table border=\"1\" class=\"dataframe\">\n",
       "  <thead>\n",
       "    <tr style=\"text-align: right;\">\n",
       "      <th></th>\n",
       "      <th>id</th>\n",
       "      <th>time</th>\n",
       "      <th>heart</th>\n",
       "    </tr>\n",
       "    <tr>\n",
       "      <th>id</th>\n",
       "      <th></th>\n",
       "      <th></th>\n",
       "      <th></th>\n",
       "    </tr>\n",
       "  </thead>\n",
       "  <tbody>\n",
       "    <tr>\n",
       "      <th>0</th>\n",
       "      <td>0</td>\n",
       "      <td>0</td>\n",
       "      <td>0.991230</td>\n",
       "    </tr>\n",
       "    <tr>\n",
       "      <th>1</th>\n",
       "      <td>1</td>\n",
       "      <td>0</td>\n",
       "      <td>0.971482</td>\n",
       "    </tr>\n",
       "    <tr>\n",
       "      <th>2</th>\n",
       "      <td>2</td>\n",
       "      <td>0</td>\n",
       "      <td>1.000000</td>\n",
       "    </tr>\n",
       "    <tr>\n",
       "      <th>3</th>\n",
       "      <td>3</td>\n",
       "      <td>0</td>\n",
       "      <td>0.975795</td>\n",
       "    </tr>\n",
       "    <tr>\n",
       "      <th>4</th>\n",
       "      <td>4</td>\n",
       "      <td>0</td>\n",
       "      <td>0.000000</td>\n",
       "    </tr>\n",
       "    <tr>\n",
       "      <th>...</th>\n",
       "      <td>...</td>\n",
       "      <td>...</td>\n",
       "      <td>...</td>\n",
       "    </tr>\n",
       "    <tr>\n",
       "      <th>99995</th>\n",
       "      <td>99995</td>\n",
       "      <td>204</td>\n",
       "      <td>0.000000</td>\n",
       "    </tr>\n",
       "    <tr>\n",
       "      <th>99996</th>\n",
       "      <td>99996</td>\n",
       "      <td>204</td>\n",
       "      <td>0.000000</td>\n",
       "    </tr>\n",
       "    <tr>\n",
       "      <th>99997</th>\n",
       "      <td>99997</td>\n",
       "      <td>204</td>\n",
       "      <td>0.000000</td>\n",
       "    </tr>\n",
       "    <tr>\n",
       "      <th>99998</th>\n",
       "      <td>99998</td>\n",
       "      <td>204</td>\n",
       "      <td>0.000000</td>\n",
       "    </tr>\n",
       "    <tr>\n",
       "      <th>99999</th>\n",
       "      <td>99999</td>\n",
       "      <td>204</td>\n",
       "      <td>0.000000</td>\n",
       "    </tr>\n",
       "  </tbody>\n",
       "</table>\n",
       "<p>20500000 rows × 3 columns</p>\n",
       "</div>"
      ],
      "text/plain": [
       "          id  time     heart\n",
       "id                          \n",
       "0          0     0  0.991230\n",
       "1          1     0  0.971482\n",
       "2          2     0  1.000000\n",
       "3          3     0  0.975795\n",
       "4          4     0  0.000000\n",
       "...      ...   ...       ...\n",
       "99995  99995   204  0.000000\n",
       "99996  99996   204  0.000000\n",
       "99997  99997   204  0.000000\n",
       "99998  99998   204  0.000000\n",
       "99999  99999   204  0.000000\n",
       "\n",
       "[20500000 rows x 3 columns]"
      ]
     },
     "execution_count": 40,
     "metadata": {},
     "output_type": "execute_result"
    }
   ],
   "source": [
    "import numpy as np\n",
    "import warnings\n",
    "warnings.filterwarnings('ignore')\n",
    "train2['id'] = train2['id'].astype(np.int32)\n",
    "train2['time'] = train2['time'].astype(np.int16)\n",
    "train2['heart'] = train2['heart'].astype(np.float32)\n",
    "train2"
   ]
  },
  {
   "cell_type": "code",
   "execution_count": 41,
   "id": "40df6828",
   "metadata": {
    "ExecuteTime": {
     "end_time": "2022-03-27T12:31:56.982800Z",
     "start_time": "2022-03-27T12:31:56.968736Z"
    }
   },
   "outputs": [
    {
     "name": "stdout",
     "output_type": "stream",
     "text": [
      "<class 'pandas.core.frame.DataFrame'>\n",
      "Int64Index: 20500000 entries, 0 to 99999\n",
      "Data columns (total 3 columns):\n",
      " #   Column  Dtype  \n",
      "---  ------  -----  \n",
      " 0   id      int32  \n",
      " 1   time    int16  \n",
      " 2   heart   float32\n",
      "dtypes: float32(1), int16(1), int32(1)\n",
      "memory usage: 351.9 MB\n"
     ]
    }
   ],
   "source": [
    "train2.info()"
   ]
  },
  {
   "cell_type": "code",
   "execution_count": 42,
   "id": "a623e249",
   "metadata": {
    "ExecuteTime": {
     "end_time": "2022-03-27T12:31:57.007738Z",
     "start_time": "2022-03-27T12:31:56.985733Z"
    }
   },
   "outputs": [
    {
     "data": {
      "text/html": [
       "<div>\n",
       "<style scoped>\n",
       "    .dataframe tbody tr th:only-of-type {\n",
       "        vertical-align: middle;\n",
       "    }\n",
       "\n",
       "    .dataframe tbody tr th {\n",
       "        vertical-align: top;\n",
       "    }\n",
       "\n",
       "    .dataframe thead th {\n",
       "        text-align: right;\n",
       "    }\n",
       "</style>\n",
       "<table border=\"1\" class=\"dataframe\">\n",
       "  <thead>\n",
       "    <tr style=\"text-align: right;\">\n",
       "      <th></th>\n",
       "      <th>id</th>\n",
       "      <th>time</th>\n",
       "      <th>heart</th>\n",
       "    </tr>\n",
       "  </thead>\n",
       "  <tbody>\n",
       "    <tr>\n",
       "      <th>0</th>\n",
       "      <td>0</td>\n",
       "      <td>0</td>\n",
       "      <td>0.991230</td>\n",
       "    </tr>\n",
       "    <tr>\n",
       "      <th>1</th>\n",
       "      <td>1</td>\n",
       "      <td>0</td>\n",
       "      <td>0.971482</td>\n",
       "    </tr>\n",
       "    <tr>\n",
       "      <th>2</th>\n",
       "      <td>2</td>\n",
       "      <td>0</td>\n",
       "      <td>1.000000</td>\n",
       "    </tr>\n",
       "    <tr>\n",
       "      <th>3</th>\n",
       "      <td>3</td>\n",
       "      <td>0</td>\n",
       "      <td>0.975795</td>\n",
       "    </tr>\n",
       "    <tr>\n",
       "      <th>4</th>\n",
       "      <td>4</td>\n",
       "      <td>0</td>\n",
       "      <td>0.000000</td>\n",
       "    </tr>\n",
       "    <tr>\n",
       "      <th>...</th>\n",
       "      <td>...</td>\n",
       "      <td>...</td>\n",
       "      <td>...</td>\n",
       "    </tr>\n",
       "    <tr>\n",
       "      <th>99995</th>\n",
       "      <td>99995</td>\n",
       "      <td>204</td>\n",
       "      <td>0.000000</td>\n",
       "    </tr>\n",
       "    <tr>\n",
       "      <th>99996</th>\n",
       "      <td>99996</td>\n",
       "      <td>204</td>\n",
       "      <td>0.000000</td>\n",
       "    </tr>\n",
       "    <tr>\n",
       "      <th>99997</th>\n",
       "      <td>99997</td>\n",
       "      <td>204</td>\n",
       "      <td>0.000000</td>\n",
       "    </tr>\n",
       "    <tr>\n",
       "      <th>99998</th>\n",
       "      <td>99998</td>\n",
       "      <td>204</td>\n",
       "      <td>0.000000</td>\n",
       "    </tr>\n",
       "    <tr>\n",
       "      <th>99999</th>\n",
       "      <td>99999</td>\n",
       "      <td>204</td>\n",
       "      <td>0.000000</td>\n",
       "    </tr>\n",
       "  </tbody>\n",
       "</table>\n",
       "<p>20500000 rows × 3 columns</p>\n",
       "</div>"
      ],
      "text/plain": [
       "          id  time     heart\n",
       "0          0     0  0.991230\n",
       "1          1     0  0.971482\n",
       "2          2     0  1.000000\n",
       "3          3     0  0.975795\n",
       "4          4     0  0.000000\n",
       "...      ...   ...       ...\n",
       "99995  99995   204  0.000000\n",
       "99996  99996   204  0.000000\n",
       "99997  99997   204  0.000000\n",
       "99998  99998   204  0.000000\n",
       "99999  99999   204  0.000000\n",
       "\n",
       "[20500000 rows x 3 columns]"
      ]
     },
     "execution_count": 42,
     "metadata": {},
     "output_type": "execute_result"
    }
   ],
   "source": [
    "train2.index.name = None\n",
    "train2"
   ]
  },
  {
   "cell_type": "code",
   "execution_count": 47,
   "id": "671c7a3d",
   "metadata": {},
   "outputs": [
    {
     "data": {
      "text/html": [
       "<div>\n",
       "<style scoped>\n",
       "    .dataframe tbody tr th:only-of-type {\n",
       "        vertical-align: middle;\n",
       "    }\n",
       "\n",
       "    .dataframe tbody tr th {\n",
       "        vertical-align: top;\n",
       "    }\n",
       "\n",
       "    .dataframe thead th {\n",
       "        text-align: right;\n",
       "    }\n",
       "</style>\n",
       "<table border=\"1\" class=\"dataframe\">\n",
       "  <thead>\n",
       "    <tr style=\"text-align: right;\">\n",
       "      <th></th>\n",
       "      <th>id</th>\n",
       "      <th>time</th>\n",
       "      <th>heart</th>\n",
       "    </tr>\n",
       "  </thead>\n",
       "  <tbody>\n",
       "    <tr>\n",
       "      <th>0</th>\n",
       "      <td>0</td>\n",
       "      <td>0</td>\n",
       "      <td>0.991230</td>\n",
       "    </tr>\n",
       "    <tr>\n",
       "      <th>0</th>\n",
       "      <td>0</td>\n",
       "      <td>42</td>\n",
       "      <td>0.425926</td>\n",
       "    </tr>\n",
       "    <tr>\n",
       "      <th>0</th>\n",
       "      <td>0</td>\n",
       "      <td>130</td>\n",
       "      <td>0.000000</td>\n",
       "    </tr>\n",
       "    <tr>\n",
       "      <th>0</th>\n",
       "      <td>0</td>\n",
       "      <td>75</td>\n",
       "      <td>0.336428</td>\n",
       "    </tr>\n",
       "    <tr>\n",
       "      <th>0</th>\n",
       "      <td>0</td>\n",
       "      <td>92</td>\n",
       "      <td>0.946561</td>\n",
       "    </tr>\n",
       "    <tr>\n",
       "      <th>...</th>\n",
       "      <td>...</td>\n",
       "      <td>...</td>\n",
       "      <td>...</td>\n",
       "    </tr>\n",
       "    <tr>\n",
       "      <th>99999</th>\n",
       "      <td>99999</td>\n",
       "      <td>159</td>\n",
       "      <td>0.000000</td>\n",
       "    </tr>\n",
       "    <tr>\n",
       "      <th>99999</th>\n",
       "      <td>99999</td>\n",
       "      <td>43</td>\n",
       "      <td>0.444601</td>\n",
       "    </tr>\n",
       "    <tr>\n",
       "      <th>99999</th>\n",
       "      <td>99999</td>\n",
       "      <td>160</td>\n",
       "      <td>0.000000</td>\n",
       "    </tr>\n",
       "    <tr>\n",
       "      <th>99999</th>\n",
       "      <td>99999</td>\n",
       "      <td>157</td>\n",
       "      <td>0.000000</td>\n",
       "    </tr>\n",
       "    <tr>\n",
       "      <th>99999</th>\n",
       "      <td>99999</td>\n",
       "      <td>204</td>\n",
       "      <td>0.000000</td>\n",
       "    </tr>\n",
       "  </tbody>\n",
       "</table>\n",
       "<p>20500000 rows × 3 columns</p>\n",
       "</div>"
      ],
      "text/plain": [
       "          id  time     heart\n",
       "0          0     0  0.991230\n",
       "0          0    42  0.425926\n",
       "0          0   130  0.000000\n",
       "0          0    75  0.336428\n",
       "0          0    92  0.946561\n",
       "...      ...   ...       ...\n",
       "99999  99999   159  0.000000\n",
       "99999  99999    43  0.444601\n",
       "99999  99999   160  0.000000\n",
       "99999  99999   157  0.000000\n",
       "99999  99999   204  0.000000\n",
       "\n",
       "[20500000 rows x 3 columns]"
      ]
     },
     "execution_count": 47,
     "metadata": {},
     "output_type": "execute_result"
    }
   ],
   "source": [
    "train2= train2.sort_values('id')\n",
    "train2"
   ]
  },
  {
   "cell_type": "code",
   "execution_count": 49,
   "id": "12f4f4e7",
   "metadata": {},
   "outputs": [
    {
     "data": {
      "text/html": [
       "<div>\n",
       "<style scoped>\n",
       "    .dataframe tbody tr th:only-of-type {\n",
       "        vertical-align: middle;\n",
       "    }\n",
       "\n",
       "    .dataframe tbody tr th {\n",
       "        vertical-align: top;\n",
       "    }\n",
       "\n",
       "    .dataframe thead th {\n",
       "        text-align: right;\n",
       "    }\n",
       "</style>\n",
       "<table border=\"1\" class=\"dataframe\">\n",
       "  <thead>\n",
       "    <tr style=\"text-align: right;\">\n",
       "      <th></th>\n",
       "      <th>id</th>\n",
       "      <th>time</th>\n",
       "      <th>heart</th>\n",
       "    </tr>\n",
       "  </thead>\n",
       "  <tbody>\n",
       "    <tr>\n",
       "      <th>0</th>\n",
       "      <td>0</td>\n",
       "      <td>0</td>\n",
       "      <td>0.991230</td>\n",
       "    </tr>\n",
       "    <tr>\n",
       "      <th>1</th>\n",
       "      <td>0</td>\n",
       "      <td>42</td>\n",
       "      <td>0.425926</td>\n",
       "    </tr>\n",
       "    <tr>\n",
       "      <th>2</th>\n",
       "      <td>0</td>\n",
       "      <td>130</td>\n",
       "      <td>0.000000</td>\n",
       "    </tr>\n",
       "    <tr>\n",
       "      <th>3</th>\n",
       "      <td>0</td>\n",
       "      <td>75</td>\n",
       "      <td>0.336428</td>\n",
       "    </tr>\n",
       "    <tr>\n",
       "      <th>4</th>\n",
       "      <td>0</td>\n",
       "      <td>92</td>\n",
       "      <td>0.946561</td>\n",
       "    </tr>\n",
       "    <tr>\n",
       "      <th>...</th>\n",
       "      <td>...</td>\n",
       "      <td>...</td>\n",
       "      <td>...</td>\n",
       "    </tr>\n",
       "    <tr>\n",
       "      <th>20499995</th>\n",
       "      <td>99999</td>\n",
       "      <td>159</td>\n",
       "      <td>0.000000</td>\n",
       "    </tr>\n",
       "    <tr>\n",
       "      <th>20499996</th>\n",
       "      <td>99999</td>\n",
       "      <td>43</td>\n",
       "      <td>0.444601</td>\n",
       "    </tr>\n",
       "    <tr>\n",
       "      <th>20499997</th>\n",
       "      <td>99999</td>\n",
       "      <td>160</td>\n",
       "      <td>0.000000</td>\n",
       "    </tr>\n",
       "    <tr>\n",
       "      <th>20499998</th>\n",
       "      <td>99999</td>\n",
       "      <td>157</td>\n",
       "      <td>0.000000</td>\n",
       "    </tr>\n",
       "    <tr>\n",
       "      <th>20499999</th>\n",
       "      <td>99999</td>\n",
       "      <td>204</td>\n",
       "      <td>0.000000</td>\n",
       "    </tr>\n",
       "  </tbody>\n",
       "</table>\n",
       "<p>20500000 rows × 3 columns</p>\n",
       "</div>"
      ],
      "text/plain": [
       "             id  time     heart\n",
       "0             0     0  0.991230\n",
       "1             0    42  0.425926\n",
       "2             0   130  0.000000\n",
       "3             0    75  0.336428\n",
       "4             0    92  0.946561\n",
       "...         ...   ...       ...\n",
       "20499995  99999   159  0.000000\n",
       "20499996  99999    43  0.444601\n",
       "20499997  99999   160  0.000000\n",
       "20499998  99999   157  0.000000\n",
       "20499999  99999   204  0.000000\n",
       "\n",
       "[20500000 rows x 3 columns]"
      ]
     },
     "execution_count": 49,
     "metadata": {},
     "output_type": "execute_result"
    }
   ],
   "source": [
    "train_4=train2.reset_index(drop=True)\n",
    "train_4"
   ]
  },
  {
   "cell_type": "markdown",
   "id": "15c09893",
   "metadata": {},
   "source": [
    "# tsfresh Feature extraction"
   ]
  },
  {
   "cell_type": "code",
   "execution_count": 48,
   "id": "4cd96ac9",
   "metadata": {
    "collapsed": true,
    "jupyter": {
     "outputs_hidden": true,
     "source_hidden": true
    },
    "tags": []
   },
   "outputs": [
    {
     "data": {
      "text/plain": [
       "100000"
      ]
     },
     "execution_count": 48,
     "metadata": {},
     "output_type": "execute_result"
    }
   ],
   "source": [
    "index_train = (train2['id'].max()+1)\n",
    "index_train"
   ]
  },
  {
   "cell_type": "code",
   "execution_count": 50,
   "id": "bb5bcc41",
   "metadata": {
    "jupyter": {
     "source_hidden": true
    },
    "tags": []
   },
   "outputs": [
    {
     "data": {
      "text/plain": [
       "100"
      ]
     },
     "execution_count": 50,
     "metadata": {},
     "output_type": "execute_result"
    }
   ],
   "source": [
    "n = 0\n",
    "for i in range (0, index_train, 1000):\n",
    "    n+=1\n",
    "n"
   ]
  },
  {
   "cell_type": "markdown",
   "id": "badba112-4104-41e4-bf01-48127cce03fd",
   "metadata": {},
   "source": [
    "## train2 feature extraction"
   ]
  },
  {
   "cell_type": "code",
   "execution_count": 51,
   "id": "ca527a07",
   "metadata": {
    "ExecuteTime": {
     "start_time": "2022-03-27T12:31:41.640Z"
    }
   },
   "outputs": [
    {
     "name": "stdout",
     "output_type": "stream",
     "text": [
      "0 999\n"
     ]
    },
    {
     "name": "stderr",
     "output_type": "stream",
     "text": [
      "Feature Extraction: 100%|██████████████████████████████████████████████████████████████| 20/20 [00:28<00:00,  1.45s/it]\n"
     ]
    },
    {
     "name": "stdout",
     "output_type": "stream",
     "text": [
      "1000 1999\n"
     ]
    },
    {
     "name": "stderr",
     "output_type": "stream",
     "text": [
      "Feature Extraction: 100%|██████████████████████████████████████████████████████████████| 20/20 [00:31<00:00,  1.59s/it]\n"
     ]
    },
    {
     "name": "stdout",
     "output_type": "stream",
     "text": [
      "2000 2999\n"
     ]
    },
    {
     "name": "stderr",
     "output_type": "stream",
     "text": [
      "Feature Extraction: 100%|██████████████████████████████████████████████████████████████| 20/20 [00:31<00:00,  1.59s/it]\n"
     ]
    },
    {
     "name": "stdout",
     "output_type": "stream",
     "text": [
      "3000 3999\n"
     ]
    },
    {
     "name": "stderr",
     "output_type": "stream",
     "text": [
      "Feature Extraction: 100%|██████████████████████████████████████████████████████████████| 20/20 [00:31<00:00,  1.56s/it]\n"
     ]
    },
    {
     "name": "stdout",
     "output_type": "stream",
     "text": [
      "4000 4999\n"
     ]
    },
    {
     "name": "stderr",
     "output_type": "stream",
     "text": [
      "Feature Extraction: 100%|██████████████████████████████████████████████████████████████| 20/20 [00:28<00:00,  1.41s/it]\n"
     ]
    },
    {
     "name": "stdout",
     "output_type": "stream",
     "text": [
      "5000 5999\n"
     ]
    },
    {
     "name": "stderr",
     "output_type": "stream",
     "text": [
      "Feature Extraction: 100%|██████████████████████████████████████████████████████████████| 20/20 [00:29<00:00,  1.48s/it]\n"
     ]
    },
    {
     "name": "stdout",
     "output_type": "stream",
     "text": [
      "6000 6999\n"
     ]
    },
    {
     "name": "stderr",
     "output_type": "stream",
     "text": [
      "Feature Extraction: 100%|██████████████████████████████████████████████████████████████| 20/20 [00:32<00:00,  1.64s/it]\n"
     ]
    },
    {
     "name": "stdout",
     "output_type": "stream",
     "text": [
      "7000 7999\n"
     ]
    },
    {
     "name": "stderr",
     "output_type": "stream",
     "text": [
      "Feature Extraction: 100%|██████████████████████████████████████████████████████████████| 20/20 [00:30<00:00,  1.50s/it]\n"
     ]
    },
    {
     "name": "stdout",
     "output_type": "stream",
     "text": [
      "8000 8999\n"
     ]
    },
    {
     "name": "stderr",
     "output_type": "stream",
     "text": [
      "Feature Extraction: 100%|██████████████████████████████████████████████████████████████| 20/20 [00:30<00:00,  1.53s/it]\n"
     ]
    },
    {
     "name": "stdout",
     "output_type": "stream",
     "text": [
      "9000 9999\n"
     ]
    },
    {
     "name": "stderr",
     "output_type": "stream",
     "text": [
      "Feature Extraction: 100%|██████████████████████████████████████████████████████████████| 20/20 [00:30<00:00,  1.53s/it]\n"
     ]
    },
    {
     "name": "stdout",
     "output_type": "stream",
     "text": [
      "10000 10999\n"
     ]
    },
    {
     "name": "stderr",
     "output_type": "stream",
     "text": [
      "Feature Extraction: 100%|██████████████████████████████████████████████████████████████| 20/20 [00:33<00:00,  1.69s/it]\n"
     ]
    },
    {
     "name": "stdout",
     "output_type": "stream",
     "text": [
      "11000 11999\n"
     ]
    },
    {
     "name": "stderr",
     "output_type": "stream",
     "text": [
      "Feature Extraction: 100%|██████████████████████████████████████████████████████████████| 20/20 [00:29<00:00,  1.50s/it]\n"
     ]
    },
    {
     "name": "stdout",
     "output_type": "stream",
     "text": [
      "12000 12999\n"
     ]
    },
    {
     "name": "stderr",
     "output_type": "stream",
     "text": [
      "Feature Extraction: 100%|██████████████████████████████████████████████████████████████| 20/20 [00:30<00:00,  1.53s/it]\n"
     ]
    },
    {
     "name": "stdout",
     "output_type": "stream",
     "text": [
      "13000 13999\n"
     ]
    },
    {
     "name": "stderr",
     "output_type": "stream",
     "text": [
      "Feature Extraction: 100%|██████████████████████████████████████████████████████████████| 20/20 [00:33<00:00,  1.69s/it]\n"
     ]
    },
    {
     "name": "stdout",
     "output_type": "stream",
     "text": [
      "14000 14999\n"
     ]
    },
    {
     "name": "stderr",
     "output_type": "stream",
     "text": [
      "Feature Extraction: 100%|██████████████████████████████████████████████████████████████| 20/20 [00:35<00:00,  1.76s/it]\n"
     ]
    },
    {
     "name": "stdout",
     "output_type": "stream",
     "text": [
      "15000 15999\n"
     ]
    },
    {
     "name": "stderr",
     "output_type": "stream",
     "text": [
      "Feature Extraction: 100%|██████████████████████████████████████████████████████████████| 20/20 [00:30<00:00,  1.53s/it]\n"
     ]
    },
    {
     "name": "stdout",
     "output_type": "stream",
     "text": [
      "16000 16999\n"
     ]
    },
    {
     "name": "stderr",
     "output_type": "stream",
     "text": [
      "Feature Extraction: 100%|██████████████████████████████████████████████████████████████| 20/20 [00:29<00:00,  1.47s/it]\n"
     ]
    },
    {
     "name": "stdout",
     "output_type": "stream",
     "text": [
      "17000 17999\n"
     ]
    },
    {
     "name": "stderr",
     "output_type": "stream",
     "text": [
      "Feature Extraction: 100%|██████████████████████████████████████████████████████████████| 20/20 [00:35<00:00,  1.78s/it]\n"
     ]
    },
    {
     "name": "stdout",
     "output_type": "stream",
     "text": [
      "18000 18999\n"
     ]
    },
    {
     "name": "stderr",
     "output_type": "stream",
     "text": [
      "Feature Extraction: 100%|██████████████████████████████████████████████████████████████| 20/20 [00:30<00:00,  1.55s/it]\n"
     ]
    },
    {
     "name": "stdout",
     "output_type": "stream",
     "text": [
      "19000 19999\n"
     ]
    },
    {
     "name": "stderr",
     "output_type": "stream",
     "text": [
      "Feature Extraction: 100%|██████████████████████████████████████████████████████████████| 20/20 [00:30<00:00,  1.51s/it]\n"
     ]
    },
    {
     "name": "stdout",
     "output_type": "stream",
     "text": [
      "20000 20999\n"
     ]
    },
    {
     "name": "stderr",
     "output_type": "stream",
     "text": [
      "Feature Extraction: 100%|██████████████████████████████████████████████████████████████| 20/20 [00:35<00:00,  1.80s/it]\n"
     ]
    },
    {
     "name": "stdout",
     "output_type": "stream",
     "text": [
      "21000 21999\n"
     ]
    },
    {
     "name": "stderr",
     "output_type": "stream",
     "text": [
      "Feature Extraction: 100%|██████████████████████████████████████████████████████████████| 20/20 [00:31<00:00,  1.55s/it]\n"
     ]
    },
    {
     "name": "stdout",
     "output_type": "stream",
     "text": [
      "22000 22999\n"
     ]
    },
    {
     "name": "stderr",
     "output_type": "stream",
     "text": [
      "Feature Extraction: 100%|██████████████████████████████████████████████████████████████| 20/20 [00:27<00:00,  1.40s/it]\n"
     ]
    },
    {
     "name": "stdout",
     "output_type": "stream",
     "text": [
      "23000 23999\n"
     ]
    },
    {
     "name": "stderr",
     "output_type": "stream",
     "text": [
      "Feature Extraction: 100%|██████████████████████████████████████████████████████████████| 20/20 [00:29<00:00,  1.48s/it]\n"
     ]
    },
    {
     "name": "stdout",
     "output_type": "stream",
     "text": [
      "24000 24999\n"
     ]
    },
    {
     "name": "stderr",
     "output_type": "stream",
     "text": [
      "Feature Extraction: 100%|██████████████████████████████████████████████████████████████| 20/20 [00:35<00:00,  1.78s/it]\n"
     ]
    },
    {
     "name": "stdout",
     "output_type": "stream",
     "text": [
      "25000 25999\n"
     ]
    },
    {
     "name": "stderr",
     "output_type": "stream",
     "text": [
      "Feature Extraction: 100%|██████████████████████████████████████████████████████████████| 20/20 [00:31<00:00,  1.56s/it]\n"
     ]
    },
    {
     "name": "stdout",
     "output_type": "stream",
     "text": [
      "26000 26999\n"
     ]
    },
    {
     "name": "stderr",
     "output_type": "stream",
     "text": [
      "Feature Extraction: 100%|██████████████████████████████████████████████████████████████| 20/20 [00:30<00:00,  1.50s/it]\n"
     ]
    },
    {
     "name": "stdout",
     "output_type": "stream",
     "text": [
      "27000 27999\n"
     ]
    },
    {
     "name": "stderr",
     "output_type": "stream",
     "text": [
      "Feature Extraction: 100%|██████████████████████████████████████████████████████████████| 20/20 [00:29<00:00,  1.47s/it]\n"
     ]
    },
    {
     "name": "stdout",
     "output_type": "stream",
     "text": [
      "28000 28999\n"
     ]
    },
    {
     "name": "stderr",
     "output_type": "stream",
     "text": [
      "Feature Extraction: 100%|██████████████████████████████████████████████████████████████| 20/20 [00:32<00:00,  1.64s/it]\n"
     ]
    },
    {
     "name": "stdout",
     "output_type": "stream",
     "text": [
      "29000 29999\n"
     ]
    },
    {
     "name": "stderr",
     "output_type": "stream",
     "text": [
      "Feature Extraction: 100%|██████████████████████████████████████████████████████████████| 20/20 [00:28<00:00,  1.41s/it]\n"
     ]
    },
    {
     "name": "stdout",
     "output_type": "stream",
     "text": [
      "30000 30999\n"
     ]
    },
    {
     "name": "stderr",
     "output_type": "stream",
     "text": [
      "Feature Extraction: 100%|██████████████████████████████████████████████████████████████| 20/20 [00:28<00:00,  1.40s/it]\n"
     ]
    },
    {
     "name": "stdout",
     "output_type": "stream",
     "text": [
      "31000 31999\n"
     ]
    },
    {
     "name": "stderr",
     "output_type": "stream",
     "text": [
      "Feature Extraction: 100%|██████████████████████████████████████████████████████████████| 20/20 [00:29<00:00,  1.48s/it]\n"
     ]
    },
    {
     "name": "stdout",
     "output_type": "stream",
     "text": [
      "32000 32999\n"
     ]
    },
    {
     "name": "stderr",
     "output_type": "stream",
     "text": [
      "Feature Extraction: 100%|██████████████████████████████████████████████████████████████| 20/20 [00:31<00:00,  1.59s/it]\n"
     ]
    },
    {
     "name": "stdout",
     "output_type": "stream",
     "text": [
      "33000 33999\n"
     ]
    },
    {
     "name": "stderr",
     "output_type": "stream",
     "text": [
      "Feature Extraction: 100%|██████████████████████████████████████████████████████████████| 20/20 [00:27<00:00,  1.39s/it]\n"
     ]
    },
    {
     "name": "stdout",
     "output_type": "stream",
     "text": [
      "34000 34999\n"
     ]
    },
    {
     "name": "stderr",
     "output_type": "stream",
     "text": [
      "Feature Extraction: 100%|██████████████████████████████████████████████████████████████| 20/20 [00:28<00:00,  1.41s/it]\n"
     ]
    },
    {
     "name": "stdout",
     "output_type": "stream",
     "text": [
      "35000 35999\n"
     ]
    },
    {
     "name": "stderr",
     "output_type": "stream",
     "text": [
      "Feature Extraction: 100%|██████████████████████████████████████████████████████████████| 20/20 [00:29<00:00,  1.46s/it]\n"
     ]
    },
    {
     "name": "stdout",
     "output_type": "stream",
     "text": [
      "36000 36999\n"
     ]
    },
    {
     "name": "stderr",
     "output_type": "stream",
     "text": [
      "Feature Extraction: 100%|██████████████████████████████████████████████████████████████| 20/20 [00:30<00:00,  1.53s/it]\n"
     ]
    },
    {
     "name": "stdout",
     "output_type": "stream",
     "text": [
      "37000 37999\n"
     ]
    },
    {
     "name": "stderr",
     "output_type": "stream",
     "text": [
      "Feature Extraction: 100%|██████████████████████████████████████████████████████████████| 20/20 [00:28<00:00,  1.41s/it]\n"
     ]
    },
    {
     "name": "stdout",
     "output_type": "stream",
     "text": [
      "38000 38999\n"
     ]
    },
    {
     "name": "stderr",
     "output_type": "stream",
     "text": [
      "Feature Extraction: 100%|██████████████████████████████████████████████████████████████| 20/20 [00:28<00:00,  1.42s/it]\n"
     ]
    },
    {
     "name": "stdout",
     "output_type": "stream",
     "text": [
      "39000 39999\n"
     ]
    },
    {
     "name": "stderr",
     "output_type": "stream",
     "text": [
      "Feature Extraction: 100%|██████████████████████████████████████████████████████████████| 20/20 [00:29<00:00,  1.50s/it]\n"
     ]
    },
    {
     "name": "stdout",
     "output_type": "stream",
     "text": [
      "40000 40999\n"
     ]
    },
    {
     "name": "stderr",
     "output_type": "stream",
     "text": [
      "Feature Extraction: 100%|██████████████████████████████████████████████████████████████| 20/20 [00:30<00:00,  1.51s/it]\n"
     ]
    },
    {
     "name": "stdout",
     "output_type": "stream",
     "text": [
      "41000 41999\n"
     ]
    },
    {
     "name": "stderr",
     "output_type": "stream",
     "text": [
      "Feature Extraction: 100%|██████████████████████████████████████████████████████████████| 20/20 [00:28<00:00,  1.41s/it]\n"
     ]
    },
    {
     "name": "stdout",
     "output_type": "stream",
     "text": [
      "42000 42999\n"
     ]
    },
    {
     "name": "stderr",
     "output_type": "stream",
     "text": [
      "Feature Extraction: 100%|██████████████████████████████████████████████████████████████| 20/20 [00:27<00:00,  1.39s/it]\n"
     ]
    },
    {
     "name": "stdout",
     "output_type": "stream",
     "text": [
      "43000 43999\n"
     ]
    },
    {
     "name": "stderr",
     "output_type": "stream",
     "text": [
      "Feature Extraction: 100%|██████████████████████████████████████████████████████████████| 20/20 [00:31<00:00,  1.57s/it]\n"
     ]
    },
    {
     "name": "stdout",
     "output_type": "stream",
     "text": [
      "44000 44999\n"
     ]
    },
    {
     "name": "stderr",
     "output_type": "stream",
     "text": [
      "Feature Extraction: 100%|██████████████████████████████████████████████████████████████| 20/20 [00:29<00:00,  1.47s/it]\n"
     ]
    },
    {
     "name": "stdout",
     "output_type": "stream",
     "text": [
      "45000 45999\n"
     ]
    },
    {
     "name": "stderr",
     "output_type": "stream",
     "text": [
      "Feature Extraction: 100%|██████████████████████████████████████████████████████████████| 20/20 [00:28<00:00,  1.44s/it]\n"
     ]
    },
    {
     "name": "stdout",
     "output_type": "stream",
     "text": [
      "46000 46999\n"
     ]
    },
    {
     "name": "stderr",
     "output_type": "stream",
     "text": [
      "Feature Extraction: 100%|██████████████████████████████████████████████████████████████| 20/20 [00:27<00:00,  1.39s/it]\n"
     ]
    },
    {
     "name": "stdout",
     "output_type": "stream",
     "text": [
      "47000 47999\n"
     ]
    },
    {
     "name": "stderr",
     "output_type": "stream",
     "text": [
      "Feature Extraction: 100%|██████████████████████████████████████████████████████████████| 20/20 [00:32<00:00,  1.61s/it]\n"
     ]
    },
    {
     "name": "stdout",
     "output_type": "stream",
     "text": [
      "48000 48999\n"
     ]
    },
    {
     "name": "stderr",
     "output_type": "stream",
     "text": [
      "Feature Extraction: 100%|██████████████████████████████████████████████████████████████| 20/20 [00:28<00:00,  1.42s/it]\n"
     ]
    },
    {
     "name": "stdout",
     "output_type": "stream",
     "text": [
      "49000 49999\n"
     ]
    },
    {
     "name": "stderr",
     "output_type": "stream",
     "text": [
      "Feature Extraction: 100%|██████████████████████████████████████████████████████████████| 20/20 [00:27<00:00,  1.40s/it]\n"
     ]
    },
    {
     "name": "stdout",
     "output_type": "stream",
     "text": [
      "50000 50999\n"
     ]
    },
    {
     "name": "stderr",
     "output_type": "stream",
     "text": [
      "Feature Extraction: 100%|██████████████████████████████████████████████████████████████| 20/20 [00:28<00:00,  1.40s/it]\n"
     ]
    },
    {
     "name": "stdout",
     "output_type": "stream",
     "text": [
      "51000 51999\n"
     ]
    },
    {
     "name": "stderr",
     "output_type": "stream",
     "text": [
      "Feature Extraction: 100%|██████████████████████████████████████████████████████████████| 20/20 [00:33<00:00,  1.67s/it]\n"
     ]
    },
    {
     "name": "stdout",
     "output_type": "stream",
     "text": [
      "52000 52999\n"
     ]
    },
    {
     "name": "stderr",
     "output_type": "stream",
     "text": [
      "Feature Extraction: 100%|██████████████████████████████████████████████████████████████| 20/20 [00:28<00:00,  1.43s/it]\n"
     ]
    },
    {
     "name": "stdout",
     "output_type": "stream",
     "text": [
      "53000 53999\n"
     ]
    },
    {
     "name": "stderr",
     "output_type": "stream",
     "text": [
      "Feature Extraction: 100%|██████████████████████████████████████████████████████████████| 20/20 [00:28<00:00,  1.40s/it]\n"
     ]
    },
    {
     "name": "stdout",
     "output_type": "stream",
     "text": [
      "54000 54999\n"
     ]
    },
    {
     "name": "stderr",
     "output_type": "stream",
     "text": [
      "Feature Extraction: 100%|██████████████████████████████████████████████████████████████| 20/20 [00:27<00:00,  1.38s/it]\n"
     ]
    },
    {
     "name": "stdout",
     "output_type": "stream",
     "text": [
      "55000 55999\n"
     ]
    },
    {
     "name": "stderr",
     "output_type": "stream",
     "text": [
      "Feature Extraction: 100%|██████████████████████████████████████████████████████████████| 20/20 [00:33<00:00,  1.66s/it]\n"
     ]
    },
    {
     "name": "stdout",
     "output_type": "stream",
     "text": [
      "56000 56999\n"
     ]
    },
    {
     "name": "stderr",
     "output_type": "stream",
     "text": [
      "Feature Extraction: 100%|██████████████████████████████████████████████████████████████| 20/20 [00:28<00:00,  1.44s/it]\n"
     ]
    },
    {
     "name": "stdout",
     "output_type": "stream",
     "text": [
      "57000 57999\n"
     ]
    },
    {
     "name": "stderr",
     "output_type": "stream",
     "text": [
      "Feature Extraction: 100%|██████████████████████████████████████████████████████████████| 20/20 [00:27<00:00,  1.39s/it]\n"
     ]
    },
    {
     "name": "stdout",
     "output_type": "stream",
     "text": [
      "58000 58999\n"
     ]
    },
    {
     "name": "stderr",
     "output_type": "stream",
     "text": [
      "Feature Extraction: 100%|██████████████████████████████████████████████████████████████| 20/20 [00:27<00:00,  1.39s/it]\n"
     ]
    },
    {
     "name": "stdout",
     "output_type": "stream",
     "text": [
      "59000 59999\n"
     ]
    },
    {
     "name": "stderr",
     "output_type": "stream",
     "text": [
      "Feature Extraction: 100%|██████████████████████████████████████████████████████████████| 20/20 [00:32<00:00,  1.63s/it]\n"
     ]
    },
    {
     "name": "stdout",
     "output_type": "stream",
     "text": [
      "60000 60999\n"
     ]
    },
    {
     "name": "stderr",
     "output_type": "stream",
     "text": [
      "Feature Extraction: 100%|██████████████████████████████████████████████████████████████| 20/20 [00:27<00:00,  1.39s/it]\n"
     ]
    },
    {
     "name": "stdout",
     "output_type": "stream",
     "text": [
      "61000 61999\n"
     ]
    },
    {
     "name": "stderr",
     "output_type": "stream",
     "text": [
      "Feature Extraction: 100%|██████████████████████████████████████████████████████████████| 20/20 [00:27<00:00,  1.38s/it]\n"
     ]
    },
    {
     "name": "stdout",
     "output_type": "stream",
     "text": [
      "62000 62999\n"
     ]
    },
    {
     "name": "stderr",
     "output_type": "stream",
     "text": [
      "Feature Extraction: 100%|██████████████████████████████████████████████████████████████| 20/20 [00:28<00:00,  1.41s/it]\n"
     ]
    },
    {
     "name": "stdout",
     "output_type": "stream",
     "text": [
      "63000 63999\n"
     ]
    },
    {
     "name": "stderr",
     "output_type": "stream",
     "text": [
      "Feature Extraction: 100%|██████████████████████████████████████████████████████████████| 20/20 [00:31<00:00,  1.59s/it]\n"
     ]
    },
    {
     "name": "stdout",
     "output_type": "stream",
     "text": [
      "64000 64999\n"
     ]
    },
    {
     "name": "stderr",
     "output_type": "stream",
     "text": [
      "Feature Extraction: 100%|██████████████████████████████████████████████████████████████| 20/20 [00:28<00:00,  1.40s/it]\n"
     ]
    },
    {
     "name": "stdout",
     "output_type": "stream",
     "text": [
      "65000 65999\n"
     ]
    },
    {
     "name": "stderr",
     "output_type": "stream",
     "text": [
      "Feature Extraction: 100%|██████████████████████████████████████████████████████████████| 20/20 [00:27<00:00,  1.40s/it]\n"
     ]
    },
    {
     "name": "stdout",
     "output_type": "stream",
     "text": [
      "66000 66999\n"
     ]
    },
    {
     "name": "stderr",
     "output_type": "stream",
     "text": [
      "Feature Extraction: 100%|██████████████████████████████████████████████████████████████| 20/20 [00:29<00:00,  1.48s/it]\n"
     ]
    },
    {
     "name": "stdout",
     "output_type": "stream",
     "text": [
      "67000 67999\n"
     ]
    },
    {
     "name": "stderr",
     "output_type": "stream",
     "text": [
      "Feature Extraction: 100%|██████████████████████████████████████████████████████████████| 20/20 [00:30<00:00,  1.54s/it]\n"
     ]
    },
    {
     "name": "stdout",
     "output_type": "stream",
     "text": [
      "68000 68999\n"
     ]
    },
    {
     "name": "stderr",
     "output_type": "stream",
     "text": [
      "Feature Extraction: 100%|██████████████████████████████████████████████████████████████| 20/20 [00:27<00:00,  1.39s/it]\n"
     ]
    },
    {
     "name": "stdout",
     "output_type": "stream",
     "text": [
      "69000 69999\n"
     ]
    },
    {
     "name": "stderr",
     "output_type": "stream",
     "text": [
      "Feature Extraction: 100%|██████████████████████████████████████████████████████████████| 20/20 [00:28<00:00,  1.40s/it]\n"
     ]
    },
    {
     "name": "stdout",
     "output_type": "stream",
     "text": [
      "70000 70999\n"
     ]
    },
    {
     "name": "stderr",
     "output_type": "stream",
     "text": [
      "Feature Extraction: 100%|██████████████████████████████████████████████████████████████| 20/20 [00:29<00:00,  1.49s/it]\n"
     ]
    },
    {
     "name": "stdout",
     "output_type": "stream",
     "text": [
      "71000 71999\n"
     ]
    },
    {
     "name": "stderr",
     "output_type": "stream",
     "text": [
      "Feature Extraction: 100%|██████████████████████████████████████████████████████████████| 20/20 [00:30<00:00,  1.54s/it]\n"
     ]
    },
    {
     "name": "stdout",
     "output_type": "stream",
     "text": [
      "72000 72999\n"
     ]
    },
    {
     "name": "stderr",
     "output_type": "stream",
     "text": [
      "Feature Extraction: 100%|██████████████████████████████████████████████████████████████| 20/20 [00:28<00:00,  1.43s/it]\n"
     ]
    },
    {
     "name": "stdout",
     "output_type": "stream",
     "text": [
      "73000 73999\n"
     ]
    },
    {
     "name": "stderr",
     "output_type": "stream",
     "text": [
      "Feature Extraction: 100%|██████████████████████████████████████████████████████████████| 20/20 [00:28<00:00,  1.45s/it]\n"
     ]
    },
    {
     "name": "stdout",
     "output_type": "stream",
     "text": [
      "74000 74999\n"
     ]
    },
    {
     "name": "stderr",
     "output_type": "stream",
     "text": [
      "Feature Extraction: 100%|██████████████████████████████████████████████████████████████| 20/20 [00:30<00:00,  1.54s/it]\n"
     ]
    },
    {
     "name": "stdout",
     "output_type": "stream",
     "text": [
      "75000 75999\n"
     ]
    },
    {
     "name": "stderr",
     "output_type": "stream",
     "text": [
      "Feature Extraction: 100%|██████████████████████████████████████████████████████████████| 20/20 [00:29<00:00,  1.46s/it]\n"
     ]
    },
    {
     "name": "stdout",
     "output_type": "stream",
     "text": [
      "76000 76999\n"
     ]
    },
    {
     "name": "stderr",
     "output_type": "stream",
     "text": [
      "Feature Extraction: 100%|██████████████████████████████████████████████████████████████| 20/20 [00:29<00:00,  1.47s/it]\n"
     ]
    },
    {
     "name": "stdout",
     "output_type": "stream",
     "text": [
      "77000 77999\n"
     ]
    },
    {
     "name": "stderr",
     "output_type": "stream",
     "text": [
      "Feature Extraction: 100%|██████████████████████████████████████████████████████████████| 20/20 [00:27<00:00,  1.39s/it]\n"
     ]
    },
    {
     "name": "stdout",
     "output_type": "stream",
     "text": [
      "78000 78999\n"
     ]
    },
    {
     "name": "stderr",
     "output_type": "stream",
     "text": [
      "Feature Extraction: 100%|██████████████████████████████████████████████████████████████| 20/20 [00:31<00:00,  1.57s/it]\n"
     ]
    },
    {
     "name": "stdout",
     "output_type": "stream",
     "text": [
      "79000 79999\n"
     ]
    },
    {
     "name": "stderr",
     "output_type": "stream",
     "text": [
      "Feature Extraction: 100%|██████████████████████████████████████████████████████████████| 20/20 [00:28<00:00,  1.42s/it]\n"
     ]
    },
    {
     "name": "stdout",
     "output_type": "stream",
     "text": [
      "80000 80999\n"
     ]
    },
    {
     "name": "stderr",
     "output_type": "stream",
     "text": [
      "Feature Extraction: 100%|██████████████████████████████████████████████████████████████| 20/20 [00:27<00:00,  1.38s/it]\n"
     ]
    },
    {
     "name": "stdout",
     "output_type": "stream",
     "text": [
      "81000 81999\n"
     ]
    },
    {
     "name": "stderr",
     "output_type": "stream",
     "text": [
      "Feature Extraction: 100%|██████████████████████████████████████████████████████████████| 20/20 [00:27<00:00,  1.38s/it]\n"
     ]
    },
    {
     "name": "stdout",
     "output_type": "stream",
     "text": [
      "82000 82999\n"
     ]
    },
    {
     "name": "stderr",
     "output_type": "stream",
     "text": [
      "Feature Extraction: 100%|██████████████████████████████████████████████████████████████| 20/20 [00:31<00:00,  1.58s/it]\n"
     ]
    },
    {
     "name": "stdout",
     "output_type": "stream",
     "text": [
      "83000 83999\n"
     ]
    },
    {
     "name": "stderr",
     "output_type": "stream",
     "text": [
      "Feature Extraction: 100%|██████████████████████████████████████████████████████████████| 20/20 [00:27<00:00,  1.40s/it]\n"
     ]
    },
    {
     "name": "stdout",
     "output_type": "stream",
     "text": [
      "84000 84999\n"
     ]
    },
    {
     "name": "stderr",
     "output_type": "stream",
     "text": [
      "Feature Extraction: 100%|██████████████████████████████████████████████████████████████| 20/20 [00:27<00:00,  1.37s/it]\n"
     ]
    },
    {
     "name": "stdout",
     "output_type": "stream",
     "text": [
      "85000 85999\n"
     ]
    },
    {
     "name": "stderr",
     "output_type": "stream",
     "text": [
      "Feature Extraction: 100%|██████████████████████████████████████████████████████████████| 20/20 [00:27<00:00,  1.38s/it]\n"
     ]
    },
    {
     "name": "stdout",
     "output_type": "stream",
     "text": [
      "86000 86999\n"
     ]
    },
    {
     "name": "stderr",
     "output_type": "stream",
     "text": [
      "Feature Extraction: 100%|██████████████████████████████████████████████████████████████| 20/20 [00:27<00:00,  1.37s/it]\n"
     ]
    },
    {
     "name": "stdout",
     "output_type": "stream",
     "text": [
      "87000 87999\n"
     ]
    },
    {
     "name": "stderr",
     "output_type": "stream",
     "text": [
      "Feature Extraction: 100%|██████████████████████████████████████████████████████████████| 20/20 [00:28<00:00,  1.43s/it]\n"
     ]
    },
    {
     "name": "stdout",
     "output_type": "stream",
     "text": [
      "88000 88999\n"
     ]
    },
    {
     "name": "stderr",
     "output_type": "stream",
     "text": [
      "Feature Extraction: 100%|██████████████████████████████████████████████████████████████| 20/20 [00:30<00:00,  1.54s/it]\n"
     ]
    },
    {
     "name": "stdout",
     "output_type": "stream",
     "text": [
      "89000 89999\n"
     ]
    },
    {
     "name": "stderr",
     "output_type": "stream",
     "text": [
      "Feature Extraction: 100%|██████████████████████████████████████████████████████████████| 20/20 [00:27<00:00,  1.38s/it]\n"
     ]
    },
    {
     "name": "stdout",
     "output_type": "stream",
     "text": [
      "90000 90999\n"
     ]
    },
    {
     "name": "stderr",
     "output_type": "stream",
     "text": [
      "Feature Extraction: 100%|██████████████████████████████████████████████████████████████| 20/20 [00:27<00:00,  1.36s/it]\n"
     ]
    },
    {
     "name": "stdout",
     "output_type": "stream",
     "text": [
      "91000 91999\n"
     ]
    },
    {
     "name": "stderr",
     "output_type": "stream",
     "text": [
      "Feature Extraction: 100%|██████████████████████████████████████████████████████████████| 20/20 [00:28<00:00,  1.45s/it]\n"
     ]
    },
    {
     "name": "stdout",
     "output_type": "stream",
     "text": [
      "92000 92999\n"
     ]
    },
    {
     "name": "stderr",
     "output_type": "stream",
     "text": [
      "Feature Extraction: 100%|██████████████████████████████████████████████████████████████| 20/20 [00:30<00:00,  1.52s/it]\n"
     ]
    },
    {
     "name": "stdout",
     "output_type": "stream",
     "text": [
      "93000 93999\n"
     ]
    },
    {
     "name": "stderr",
     "output_type": "stream",
     "text": [
      "Feature Extraction: 100%|██████████████████████████████████████████████████████████████| 20/20 [00:27<00:00,  1.38s/it]\n"
     ]
    },
    {
     "name": "stdout",
     "output_type": "stream",
     "text": [
      "94000 94999\n"
     ]
    },
    {
     "name": "stderr",
     "output_type": "stream",
     "text": [
      "Feature Extraction: 100%|██████████████████████████████████████████████████████████████| 20/20 [00:27<00:00,  1.37s/it]\n"
     ]
    },
    {
     "name": "stdout",
     "output_type": "stream",
     "text": [
      "95000 95999\n"
     ]
    },
    {
     "name": "stderr",
     "output_type": "stream",
     "text": [
      "Feature Extraction: 100%|██████████████████████████████████████████████████████████████| 20/20 [00:29<00:00,  1.48s/it]\n"
     ]
    },
    {
     "name": "stdout",
     "output_type": "stream",
     "text": [
      "96000 96999\n"
     ]
    },
    {
     "name": "stderr",
     "output_type": "stream",
     "text": [
      "Feature Extraction: 100%|██████████████████████████████████████████████████████████████| 20/20 [00:30<00:00,  1.54s/it]\n"
     ]
    },
    {
     "name": "stdout",
     "output_type": "stream",
     "text": [
      "97000 97999\n"
     ]
    },
    {
     "name": "stderr",
     "output_type": "stream",
     "text": [
      "Feature Extraction: 100%|██████████████████████████████████████████████████████████████| 20/20 [00:28<00:00,  1.41s/it]\n"
     ]
    },
    {
     "name": "stdout",
     "output_type": "stream",
     "text": [
      "98000 98999\n"
     ]
    },
    {
     "name": "stderr",
     "output_type": "stream",
     "text": [
      "Feature Extraction: 100%|██████████████████████████████████████████████████████████████| 20/20 [00:27<00:00,  1.36s/it]\n"
     ]
    },
    {
     "name": "stdout",
     "output_type": "stream",
     "text": [
      "99000 99999\n"
     ]
    },
    {
     "name": "stderr",
     "output_type": "stream",
     "text": [
      "Feature Extraction: 100%|██████████████████████████████████████████████████████████████| 20/20 [00:30<00:00,  1.50s/it]\n"
     ]
    },
    {
     "data": {
      "text/html": [
       "<div>\n",
       "<style scoped>\n",
       "    .dataframe tbody tr th:only-of-type {\n",
       "        vertical-align: middle;\n",
       "    }\n",
       "\n",
       "    .dataframe tbody tr th {\n",
       "        vertical-align: top;\n",
       "    }\n",
       "\n",
       "    .dataframe thead th {\n",
       "        text-align: right;\n",
       "    }\n",
       "</style>\n",
       "<table border=\"1\" class=\"dataframe\">\n",
       "  <thead>\n",
       "    <tr style=\"text-align: right;\">\n",
       "      <th></th>\n",
       "      <th>heart__variance_larger_than_standard_deviation</th>\n",
       "      <th>heart__has_duplicate_max</th>\n",
       "      <th>heart__has_duplicate_min</th>\n",
       "      <th>heart__has_duplicate</th>\n",
       "      <th>heart__sum_values</th>\n",
       "      <th>heart__abs_energy</th>\n",
       "      <th>heart__mean_abs_change</th>\n",
       "      <th>heart__mean_change</th>\n",
       "      <th>heart__mean_second_derivative_central</th>\n",
       "      <th>heart__median</th>\n",
       "      <th>...</th>\n",
       "      <th>heart__permutation_entropy__dimension_6__tau_1</th>\n",
       "      <th>heart__permutation_entropy__dimension_7__tau_1</th>\n",
       "      <th>heart__query_similarity_count__query_None__threshold_0.0</th>\n",
       "      <th>heart__matrix_profile__feature_\"min\"__threshold_0.98</th>\n",
       "      <th>heart__matrix_profile__feature_\"max\"__threshold_0.98</th>\n",
       "      <th>heart__matrix_profile__feature_\"mean\"__threshold_0.98</th>\n",
       "      <th>heart__matrix_profile__feature_\"median\"__threshold_0.98</th>\n",
       "      <th>heart__matrix_profile__feature_\"25\"__threshold_0.98</th>\n",
       "      <th>heart__matrix_profile__feature_\"75\"__threshold_0.98</th>\n",
       "      <th>heart__mean_n_absolute_max__number_of_maxima_7</th>\n",
       "    </tr>\n",
       "  </thead>\n",
       "  <tbody>\n",
       "    <tr>\n",
       "      <th>0</th>\n",
       "      <td>0.0</td>\n",
       "      <td>0.0</td>\n",
       "      <td>1.0</td>\n",
       "      <td>1.0</td>\n",
       "      <td>38.927948</td>\n",
       "      <td>18.216198</td>\n",
       "      <td>0.019894</td>\n",
       "      <td>-0.004859</td>\n",
       "      <td>0.000117</td>\n",
       "      <td>0.125531</td>\n",
       "      <td>...</td>\n",
       "      <td>2.500658</td>\n",
       "      <td>2.722686</td>\n",
       "      <td>0.0</td>\n",
       "      <td>1.085536</td>\n",
       "      <td>6.633250</td>\n",
       "      <td>3.834630</td>\n",
       "      <td>2.865019</td>\n",
       "      <td>1.624043</td>\n",
       "      <td>6.633250</td>\n",
       "      <td>0.934368</td>\n",
       "    </tr>\n",
       "    <tr>\n",
       "      <th>1</th>\n",
       "      <td>0.0</td>\n",
       "      <td>0.0</td>\n",
       "      <td>1.0</td>\n",
       "      <td>1.0</td>\n",
       "      <td>19.445633</td>\n",
       "      <td>7.705091</td>\n",
       "      <td>0.019952</td>\n",
       "      <td>-0.004762</td>\n",
       "      <td>0.000105</td>\n",
       "      <td>0.030481</td>\n",
       "      <td>...</td>\n",
       "      <td>3.065802</td>\n",
       "      <td>3.224835</td>\n",
       "      <td>0.0</td>\n",
       "      <td>1.186545</td>\n",
       "      <td>8.246211</td>\n",
       "      <td>4.991074</td>\n",
       "      <td>4.546364</td>\n",
       "      <td>3.177202</td>\n",
       "      <td>8.246211</td>\n",
       "      <td>0.868868</td>\n",
       "    </tr>\n",
       "    <tr>\n",
       "      <th>2</th>\n",
       "      <td>0.0</td>\n",
       "      <td>0.0</td>\n",
       "      <td>1.0</td>\n",
       "      <td>1.0</td>\n",
       "      <td>21.192974</td>\n",
       "      <td>9.140423</td>\n",
       "      <td>0.009863</td>\n",
       "      <td>-0.004902</td>\n",
       "      <td>0.000101</td>\n",
       "      <td>0.000000</td>\n",
       "      <td>...</td>\n",
       "      <td>1.406001</td>\n",
       "      <td>1.509478</td>\n",
       "      <td>0.0</td>\n",
       "      <td>0.719171</td>\n",
       "      <td>4.472136</td>\n",
       "      <td>3.673799</td>\n",
       "      <td>4.472136</td>\n",
       "      <td>2.332037</td>\n",
       "      <td>4.472136</td>\n",
       "      <td>0.623357</td>\n",
       "    </tr>\n",
       "    <tr>\n",
       "      <th>3</th>\n",
       "      <td>0.0</td>\n",
       "      <td>0.0</td>\n",
       "      <td>1.0</td>\n",
       "      <td>1.0</td>\n",
       "      <td>42.113068</td>\n",
       "      <td>15.757622</td>\n",
       "      <td>0.018743</td>\n",
       "      <td>-0.004783</td>\n",
       "      <td>0.000103</td>\n",
       "      <td>0.241397</td>\n",
       "      <td>...</td>\n",
       "      <td>3.534354</td>\n",
       "      <td>3.854177</td>\n",
       "      <td>0.0</td>\n",
       "      <td>1.248810</td>\n",
       "      <td>7.211103</td>\n",
       "      <td>3.660970</td>\n",
       "      <td>2.833061</td>\n",
       "      <td>2.431879</td>\n",
       "      <td>4.400295</td>\n",
       "      <td>0.859643</td>\n",
       "    </tr>\n",
       "    <tr>\n",
       "      <th>4</th>\n",
       "      <td>0.0</td>\n",
       "      <td>0.0</td>\n",
       "      <td>1.0</td>\n",
       "      <td>1.0</td>\n",
       "      <td>69.756783</td>\n",
       "      <td>51.229614</td>\n",
       "      <td>0.014514</td>\n",
       "      <td>0.000000</td>\n",
       "      <td>-0.000137</td>\n",
       "      <td>0.000000</td>\n",
       "      <td>...</td>\n",
       "      <td>2.165627</td>\n",
       "      <td>2.323993</td>\n",
       "      <td>0.0</td>\n",
       "      <td>1.140818</td>\n",
       "      <td>6.928203</td>\n",
       "      <td>4.652600</td>\n",
       "      <td>4.822304</td>\n",
       "      <td>2.003718</td>\n",
       "      <td>6.928203</td>\n",
       "      <td>0.938179</td>\n",
       "    </tr>\n",
       "    <tr>\n",
       "      <th>...</th>\n",
       "      <td>...</td>\n",
       "      <td>...</td>\n",
       "      <td>...</td>\n",
       "      <td>...</td>\n",
       "      <td>...</td>\n",
       "      <td>...</td>\n",
       "      <td>...</td>\n",
       "      <td>...</td>\n",
       "      <td>...</td>\n",
       "      <td>...</td>\n",
       "      <td>...</td>\n",
       "      <td>...</td>\n",
       "      <td>...</td>\n",
       "      <td>...</td>\n",
       "      <td>...</td>\n",
       "      <td>...</td>\n",
       "      <td>...</td>\n",
       "      <td>...</td>\n",
       "      <td>...</td>\n",
       "      <td>...</td>\n",
       "      <td>...</td>\n",
       "    </tr>\n",
       "    <tr>\n",
       "      <th>99995</th>\n",
       "      <td>0.0</td>\n",
       "      <td>0.0</td>\n",
       "      <td>1.0</td>\n",
       "      <td>1.0</td>\n",
       "      <td>63.323452</td>\n",
       "      <td>28.742237</td>\n",
       "      <td>0.023588</td>\n",
       "      <td>-0.004902</td>\n",
       "      <td>0.000794</td>\n",
       "      <td>0.388402</td>\n",
       "      <td>...</td>\n",
       "      <td>3.391830</td>\n",
       "      <td>3.679969</td>\n",
       "      <td>0.0</td>\n",
       "      <td>1.202361</td>\n",
       "      <td>8.000000</td>\n",
       "      <td>4.002470</td>\n",
       "      <td>3.570258</td>\n",
       "      <td>2.327037</td>\n",
       "      <td>5.375710</td>\n",
       "      <td>0.749616</td>\n",
       "    </tr>\n",
       "    <tr>\n",
       "      <th>99996</th>\n",
       "      <td>0.0</td>\n",
       "      <td>0.0</td>\n",
       "      <td>1.0</td>\n",
       "      <td>1.0</td>\n",
       "      <td>69.657532</td>\n",
       "      <td>31.866322</td>\n",
       "      <td>0.017373</td>\n",
       "      <td>-0.004543</td>\n",
       "      <td>0.000051</td>\n",
       "      <td>0.421138</td>\n",
       "      <td>...</td>\n",
       "      <td>3.735813</td>\n",
       "      <td>4.102423</td>\n",
       "      <td>0.0</td>\n",
       "      <td>0.874303</td>\n",
       "      <td>6.000000</td>\n",
       "      <td>2.053905</td>\n",
       "      <td>1.711029</td>\n",
       "      <td>1.211862</td>\n",
       "      <td>2.183436</td>\n",
       "      <td>0.873778</td>\n",
       "    </tr>\n",
       "    <tr>\n",
       "      <th>99997</th>\n",
       "      <td>0.0</td>\n",
       "      <td>0.0</td>\n",
       "      <td>1.0</td>\n",
       "      <td>1.0</td>\n",
       "      <td>40.897057</td>\n",
       "      <td>16.412857</td>\n",
       "      <td>0.019470</td>\n",
       "      <td>-0.004538</td>\n",
       "      <td>0.000834</td>\n",
       "      <td>0.213306</td>\n",
       "      <td>...</td>\n",
       "      <td>2.990031</td>\n",
       "      <td>3.286596</td>\n",
       "      <td>0.0</td>\n",
       "      <td>0.823503</td>\n",
       "      <td>5.656854</td>\n",
       "      <td>3.103297</td>\n",
       "      <td>2.360121</td>\n",
       "      <td>1.485424</td>\n",
       "      <td>5.656854</td>\n",
       "      <td>0.737609</td>\n",
       "    </tr>\n",
       "    <tr>\n",
       "      <th>99998</th>\n",
       "      <td>0.0</td>\n",
       "      <td>0.0</td>\n",
       "      <td>1.0</td>\n",
       "      <td>1.0</td>\n",
       "      <td>42.333302</td>\n",
       "      <td>14.281281</td>\n",
       "      <td>0.017032</td>\n",
       "      <td>-0.004902</td>\n",
       "      <td>0.000013</td>\n",
       "      <td>0.264974</td>\n",
       "      <td>...</td>\n",
       "      <td>3.793512</td>\n",
       "      <td>4.018302</td>\n",
       "      <td>0.0</td>\n",
       "      <td>0.914181</td>\n",
       "      <td>5.291503</td>\n",
       "      <td>2.585388</td>\n",
       "      <td>2.323464</td>\n",
       "      <td>1.391130</td>\n",
       "      <td>3.038342</td>\n",
       "      <td>0.767105</td>\n",
       "    </tr>\n",
       "    <tr>\n",
       "      <th>99999</th>\n",
       "      <td>0.0</td>\n",
       "      <td>0.0</td>\n",
       "      <td>1.0</td>\n",
       "      <td>1.0</td>\n",
       "      <td>53.290115</td>\n",
       "      <td>21.637470</td>\n",
       "      <td>0.021870</td>\n",
       "      <td>-0.004539</td>\n",
       "      <td>0.000023</td>\n",
       "      <td>0.320124</td>\n",
       "      <td>...</td>\n",
       "      <td>3.439139</td>\n",
       "      <td>3.665084</td>\n",
       "      <td>0.0</td>\n",
       "      <td>1.477147</td>\n",
       "      <td>6.928203</td>\n",
       "      <td>3.344156</td>\n",
       "      <td>2.194514</td>\n",
       "      <td>1.785896</td>\n",
       "      <td>4.485477</td>\n",
       "      <td>0.834808</td>\n",
       "    </tr>\n",
       "  </tbody>\n",
       "</table>\n",
       "<p>100000 rows × 789 columns</p>\n",
       "</div>"
      ],
      "text/plain": [
       "       heart__variance_larger_than_standard_deviation  \\\n",
       "0                                                 0.0   \n",
       "1                                                 0.0   \n",
       "2                                                 0.0   \n",
       "3                                                 0.0   \n",
       "4                                                 0.0   \n",
       "...                                               ...   \n",
       "99995                                             0.0   \n",
       "99996                                             0.0   \n",
       "99997                                             0.0   \n",
       "99998                                             0.0   \n",
       "99999                                             0.0   \n",
       "\n",
       "       heart__has_duplicate_max  heart__has_duplicate_min  \\\n",
       "0                           0.0                       1.0   \n",
       "1                           0.0                       1.0   \n",
       "2                           0.0                       1.0   \n",
       "3                           0.0                       1.0   \n",
       "4                           0.0                       1.0   \n",
       "...                         ...                       ...   \n",
       "99995                       0.0                       1.0   \n",
       "99996                       0.0                       1.0   \n",
       "99997                       0.0                       1.0   \n",
       "99998                       0.0                       1.0   \n",
       "99999                       0.0                       1.0   \n",
       "\n",
       "       heart__has_duplicate  heart__sum_values  heart__abs_energy  \\\n",
       "0                       1.0          38.927948          18.216198   \n",
       "1                       1.0          19.445633           7.705091   \n",
       "2                       1.0          21.192974           9.140423   \n",
       "3                       1.0          42.113068          15.757622   \n",
       "4                       1.0          69.756783          51.229614   \n",
       "...                     ...                ...                ...   \n",
       "99995                   1.0          63.323452          28.742237   \n",
       "99996                   1.0          69.657532          31.866322   \n",
       "99997                   1.0          40.897057          16.412857   \n",
       "99998                   1.0          42.333302          14.281281   \n",
       "99999                   1.0          53.290115          21.637470   \n",
       "\n",
       "       heart__mean_abs_change  heart__mean_change  \\\n",
       "0                    0.019894           -0.004859   \n",
       "1                    0.019952           -0.004762   \n",
       "2                    0.009863           -0.004902   \n",
       "3                    0.018743           -0.004783   \n",
       "4                    0.014514            0.000000   \n",
       "...                       ...                 ...   \n",
       "99995                0.023588           -0.004902   \n",
       "99996                0.017373           -0.004543   \n",
       "99997                0.019470           -0.004538   \n",
       "99998                0.017032           -0.004902   \n",
       "99999                0.021870           -0.004539   \n",
       "\n",
       "       heart__mean_second_derivative_central  heart__median  ...  \\\n",
       "0                                   0.000117       0.125531  ...   \n",
       "1                                   0.000105       0.030481  ...   \n",
       "2                                   0.000101       0.000000  ...   \n",
       "3                                   0.000103       0.241397  ...   \n",
       "4                                  -0.000137       0.000000  ...   \n",
       "...                                      ...            ...  ...   \n",
       "99995                               0.000794       0.388402  ...   \n",
       "99996                               0.000051       0.421138  ...   \n",
       "99997                               0.000834       0.213306  ...   \n",
       "99998                               0.000013       0.264974  ...   \n",
       "99999                               0.000023       0.320124  ...   \n",
       "\n",
       "       heart__permutation_entropy__dimension_6__tau_1  \\\n",
       "0                                            2.500658   \n",
       "1                                            3.065802   \n",
       "2                                            1.406001   \n",
       "3                                            3.534354   \n",
       "4                                            2.165627   \n",
       "...                                               ...   \n",
       "99995                                        3.391830   \n",
       "99996                                        3.735813   \n",
       "99997                                        2.990031   \n",
       "99998                                        3.793512   \n",
       "99999                                        3.439139   \n",
       "\n",
       "       heart__permutation_entropy__dimension_7__tau_1  \\\n",
       "0                                            2.722686   \n",
       "1                                            3.224835   \n",
       "2                                            1.509478   \n",
       "3                                            3.854177   \n",
       "4                                            2.323993   \n",
       "...                                               ...   \n",
       "99995                                        3.679969   \n",
       "99996                                        4.102423   \n",
       "99997                                        3.286596   \n",
       "99998                                        4.018302   \n",
       "99999                                        3.665084   \n",
       "\n",
       "       heart__query_similarity_count__query_None__threshold_0.0  \\\n",
       "0                                                    0.0          \n",
       "1                                                    0.0          \n",
       "2                                                    0.0          \n",
       "3                                                    0.0          \n",
       "4                                                    0.0          \n",
       "...                                                  ...          \n",
       "99995                                                0.0          \n",
       "99996                                                0.0          \n",
       "99997                                                0.0          \n",
       "99998                                                0.0          \n",
       "99999                                                0.0          \n",
       "\n",
       "       heart__matrix_profile__feature_\"min\"__threshold_0.98  \\\n",
       "0                                               1.085536      \n",
       "1                                               1.186545      \n",
       "2                                               0.719171      \n",
       "3                                               1.248810      \n",
       "4                                               1.140818      \n",
       "...                                                  ...      \n",
       "99995                                           1.202361      \n",
       "99996                                           0.874303      \n",
       "99997                                           0.823503      \n",
       "99998                                           0.914181      \n",
       "99999                                           1.477147      \n",
       "\n",
       "       heart__matrix_profile__feature_\"max\"__threshold_0.98  \\\n",
       "0                                               6.633250      \n",
       "1                                               8.246211      \n",
       "2                                               4.472136      \n",
       "3                                               7.211103      \n",
       "4                                               6.928203      \n",
       "...                                                  ...      \n",
       "99995                                           8.000000      \n",
       "99996                                           6.000000      \n",
       "99997                                           5.656854      \n",
       "99998                                           5.291503      \n",
       "99999                                           6.928203      \n",
       "\n",
       "       heart__matrix_profile__feature_\"mean\"__threshold_0.98  \\\n",
       "0                                               3.834630       \n",
       "1                                               4.991074       \n",
       "2                                               3.673799       \n",
       "3                                               3.660970       \n",
       "4                                               4.652600       \n",
       "...                                                  ...       \n",
       "99995                                           4.002470       \n",
       "99996                                           2.053905       \n",
       "99997                                           3.103297       \n",
       "99998                                           2.585388       \n",
       "99999                                           3.344156       \n",
       "\n",
       "       heart__matrix_profile__feature_\"median\"__threshold_0.98  \\\n",
       "0                                               2.865019         \n",
       "1                                               4.546364         \n",
       "2                                               4.472136         \n",
       "3                                               2.833061         \n",
       "4                                               4.822304         \n",
       "...                                                  ...         \n",
       "99995                                           3.570258         \n",
       "99996                                           1.711029         \n",
       "99997                                           2.360121         \n",
       "99998                                           2.323464         \n",
       "99999                                           2.194514         \n",
       "\n",
       "       heart__matrix_profile__feature_\"25\"__threshold_0.98  \\\n",
       "0                                               1.624043     \n",
       "1                                               3.177202     \n",
       "2                                               2.332037     \n",
       "3                                               2.431879     \n",
       "4                                               2.003718     \n",
       "...                                                  ...     \n",
       "99995                                           2.327037     \n",
       "99996                                           1.211862     \n",
       "99997                                           1.485424     \n",
       "99998                                           1.391130     \n",
       "99999                                           1.785896     \n",
       "\n",
       "       heart__matrix_profile__feature_\"75\"__threshold_0.98  \\\n",
       "0                                               6.633250     \n",
       "1                                               8.246211     \n",
       "2                                               4.472136     \n",
       "3                                               4.400295     \n",
       "4                                               6.928203     \n",
       "...                                                  ...     \n",
       "99995                                           5.375710     \n",
       "99996                                           2.183436     \n",
       "99997                                           5.656854     \n",
       "99998                                           3.038342     \n",
       "99999                                           4.485477     \n",
       "\n",
       "       heart__mean_n_absolute_max__number_of_maxima_7  \n",
       "0                                            0.934368  \n",
       "1                                            0.868868  \n",
       "2                                            0.623357  \n",
       "3                                            0.859643  \n",
       "4                                            0.938179  \n",
       "...                                               ...  \n",
       "99995                                        0.749616  \n",
       "99996                                        0.873778  \n",
       "99997                                        0.737609  \n",
       "99998                                        0.767105  \n",
       "99999                                        0.834808  \n",
       "\n",
       "[100000 rows x 789 columns]"
      ]
     },
     "execution_count": 51,
     "metadata": {},
     "output_type": "execute_result"
    }
   ],
   "source": [
    "# 特征提取\n",
    "extraction_settings = ComprehensiveFCParameters()\n",
    "\n",
    "features_df = pd.DataFrame()\n",
    "for i in range (0, index_train, 1000):\n",
    "    start_id = i\n",
    "    end_id = i + 999\n",
    "    print(start_id, end_id)\n",
    "    # 切分数据\n",
    "    temp_df = train2.iloc[start_id*205: (end_id+1)*205]\n",
    "    # 特征提取\n",
    "    # 从时序中抽取特征， 这里使用impute去掉NaN特征\n",
    "    features = extract_features(temp_df, column_id='id', column_sort='time',\n",
    "                         default_fc_parameters=extraction_settings,\n",
    "                         # we impute = remove all NaN features automatically\n",
    "                         impute_function=impute)\n",
    "    features_df = features_df.append(features, ignore_index = True)\n",
    "\n",
    "features_df.to_pickle('./feature_df.pkl')\n",
    "features_df"
   ]
  },
  {
   "cell_type": "code",
   "execution_count": 3,
   "id": "bb65f4dd",
   "metadata": {
    "ExecuteTime": {
     "end_time": "2022-03-27T12:32:10.733455Z",
     "start_time": "2022-03-27T12:32:10.710996Z"
    }
   },
   "outputs": [
    {
     "data": {
      "text/html": [
       "<div>\n",
       "<style scoped>\n",
       "    .dataframe tbody tr th:only-of-type {\n",
       "        vertical-align: middle;\n",
       "    }\n",
       "\n",
       "    .dataframe tbody tr th {\n",
       "        vertical-align: top;\n",
       "    }\n",
       "\n",
       "    .dataframe thead th {\n",
       "        text-align: right;\n",
       "    }\n",
       "</style>\n",
       "<table border=\"1\" class=\"dataframe\">\n",
       "  <thead>\n",
       "    <tr style=\"text-align: right;\">\n",
       "      <th></th>\n",
       "      <th>id</th>\n",
       "      <th>heartbeat_signals</th>\n",
       "      <th>label</th>\n",
       "    </tr>\n",
       "  </thead>\n",
       "  <tbody>\n",
       "    <tr>\n",
       "      <th>0</th>\n",
       "      <td>0</td>\n",
       "      <td>0.9912297987616655,0.9435330436439665,0.764677...</td>\n",
       "      <td>0.0</td>\n",
       "    </tr>\n",
       "    <tr>\n",
       "      <th>1</th>\n",
       "      <td>1</td>\n",
       "      <td>0.9714822034884503,0.9289687459588268,0.572932...</td>\n",
       "      <td>0.0</td>\n",
       "    </tr>\n",
       "    <tr>\n",
       "      <th>2</th>\n",
       "      <td>2</td>\n",
       "      <td>1.0,0.9591487564065292,0.7013782792997189,0.23...</td>\n",
       "      <td>2.0</td>\n",
       "    </tr>\n",
       "    <tr>\n",
       "      <th>3</th>\n",
       "      <td>3</td>\n",
       "      <td>0.9757952826275774,0.9340884687738161,0.659636...</td>\n",
       "      <td>0.0</td>\n",
       "    </tr>\n",
       "    <tr>\n",
       "      <th>4</th>\n",
       "      <td>4</td>\n",
       "      <td>0.0,0.055816398940721094,0.26129357194994196,0...</td>\n",
       "      <td>2.0</td>\n",
       "    </tr>\n",
       "    <tr>\n",
       "      <th>...</th>\n",
       "      <td>...</td>\n",
       "      <td>...</td>\n",
       "      <td>...</td>\n",
       "    </tr>\n",
       "    <tr>\n",
       "      <th>99995</th>\n",
       "      <td>99995</td>\n",
       "      <td>1.0,0.677705342021188,0.22239242747868546,0.25...</td>\n",
       "      <td>0.0</td>\n",
       "    </tr>\n",
       "    <tr>\n",
       "      <th>99996</th>\n",
       "      <td>99996</td>\n",
       "      <td>0.9268571578157265,0.9063471198026871,0.636993...</td>\n",
       "      <td>2.0</td>\n",
       "    </tr>\n",
       "    <tr>\n",
       "      <th>99997</th>\n",
       "      <td>99997</td>\n",
       "      <td>0.9258351628306013,0.5873839035878395,0.633226...</td>\n",
       "      <td>3.0</td>\n",
       "    </tr>\n",
       "    <tr>\n",
       "      <th>99998</th>\n",
       "      <td>99998</td>\n",
       "      <td>1.0,0.9947621698382489,0.8297017704865509,0.45...</td>\n",
       "      <td>2.0</td>\n",
       "    </tr>\n",
       "    <tr>\n",
       "      <th>99999</th>\n",
       "      <td>99999</td>\n",
       "      <td>0.9259994004527861,0.916476635326053,0.4042900...</td>\n",
       "      <td>0.0</td>\n",
       "    </tr>\n",
       "  </tbody>\n",
       "</table>\n",
       "<p>100000 rows × 3 columns</p>\n",
       "</div>"
      ],
      "text/plain": [
       "          id                                  heartbeat_signals  label\n",
       "0          0  0.9912297987616655,0.9435330436439665,0.764677...    0.0\n",
       "1          1  0.9714822034884503,0.9289687459588268,0.572932...    0.0\n",
       "2          2  1.0,0.9591487564065292,0.7013782792997189,0.23...    2.0\n",
       "3          3  0.9757952826275774,0.9340884687738161,0.659636...    0.0\n",
       "4          4  0.0,0.055816398940721094,0.26129357194994196,0...    2.0\n",
       "...      ...                                                ...    ...\n",
       "99995  99995  1.0,0.677705342021188,0.22239242747868546,0.25...    0.0\n",
       "99996  99996  0.9268571578157265,0.9063471198026871,0.636993...    2.0\n",
       "99997  99997  0.9258351628306013,0.5873839035878395,0.633226...    3.0\n",
       "99998  99998  1.0,0.9947621698382489,0.8297017704865509,0.45...    2.0\n",
       "99999  99999  0.9259994004527861,0.916476635326053,0.4042900...    0.0\n",
       "\n",
       "[100000 rows x 3 columns]"
      ]
     },
     "execution_count": 3,
     "metadata": {},
     "output_type": "execute_result"
    }
   ],
   "source": [
    "train = pd.read_csv('./train.csv')\n",
    "train"
   ]
  },
  {
   "cell_type": "code",
   "execution_count": 55,
   "id": "a7b48d8d",
   "metadata": {
    "ExecuteTime": {
     "end_time": "2022-03-27T12:32:11.048453Z",
     "start_time": "2022-03-27T12:32:10.841452Z"
    }
   },
   "outputs": [
    {
     "data": {
      "text/html": [
       "<div>\n",
       "<style scoped>\n",
       "    .dataframe tbody tr th:only-of-type {\n",
       "        vertical-align: middle;\n",
       "    }\n",
       "\n",
       "    .dataframe tbody tr th {\n",
       "        vertical-align: top;\n",
       "    }\n",
       "\n",
       "    .dataframe thead th {\n",
       "        text-align: right;\n",
       "    }\n",
       "</style>\n",
       "<table border=\"1\" class=\"dataframe\">\n",
       "  <thead>\n",
       "    <tr style=\"text-align: right;\">\n",
       "      <th></th>\n",
       "      <th>heart__sum_values</th>\n",
       "      <th>heart__fft_coefficient__attr_\"abs\"__coeff_36</th>\n",
       "      <th>heart__fft_coefficient__attr_\"abs\"__coeff_35</th>\n",
       "      <th>heart__fft_coefficient__attr_\"abs\"__coeff_34</th>\n",
       "      <th>heart__fft_coefficient__attr_\"abs\"__coeff_33</th>\n",
       "      <th>heart__fft_coefficient__attr_\"abs\"__coeff_32</th>\n",
       "      <th>heart__fft_coefficient__attr_\"abs\"__coeff_31</th>\n",
       "      <th>heart__fft_coefficient__attr_\"abs\"__coeff_30</th>\n",
       "      <th>heart__fft_coefficient__attr_\"abs\"__coeff_29</th>\n",
       "      <th>heart__fft_coefficient__attr_\"abs\"__coeff_28</th>\n",
       "      <th>...</th>\n",
       "      <th>heart__fft_coefficient__attr_\"abs\"__coeff_84</th>\n",
       "      <th>heart__fft_coefficient__attr_\"imag\"__coeff_97</th>\n",
       "      <th>heart__fft_coefficient__attr_\"abs\"__coeff_90</th>\n",
       "      <th>heart__fft_coefficient__attr_\"abs\"__coeff_94</th>\n",
       "      <th>heart__fft_coefficient__attr_\"abs\"__coeff_92</th>\n",
       "      <th>heart__fft_coefficient__attr_\"real\"__coeff_97</th>\n",
       "      <th>heart__fft_coefficient__attr_\"abs\"__coeff_75</th>\n",
       "      <th>heart__fft_coefficient__attr_\"real\"__coeff_88</th>\n",
       "      <th>heart__fft_coefficient__attr_\"real\"__coeff_92</th>\n",
       "      <th>heart__fft_coefficient__attr_\"real\"__coeff_83</th>\n",
       "    </tr>\n",
       "  </thead>\n",
       "  <tbody>\n",
       "    <tr>\n",
       "      <th>0</th>\n",
       "      <td>38.927948</td>\n",
       "      <td>0.848728</td>\n",
       "      <td>1.168684</td>\n",
       "      <td>0.982133</td>\n",
       "      <td>1.223496</td>\n",
       "      <td>1.236300</td>\n",
       "      <td>1.104172</td>\n",
       "      <td>1.497129</td>\n",
       "      <td>1.358096</td>\n",
       "      <td>1.704225</td>\n",
       "      <td>...</td>\n",
       "      <td>0.531883</td>\n",
       "      <td>-0.047438</td>\n",
       "      <td>0.554370</td>\n",
       "      <td>0.307585</td>\n",
       "      <td>0.564596</td>\n",
       "      <td>0.562960</td>\n",
       "      <td>0.591859</td>\n",
       "      <td>0.504124</td>\n",
       "      <td>0.528450</td>\n",
       "      <td>0.473568</td>\n",
       "    </tr>\n",
       "    <tr>\n",
       "      <th>1</th>\n",
       "      <td>19.445633</td>\n",
       "      <td>1.850706</td>\n",
       "      <td>1.460752</td>\n",
       "      <td>1.924501</td>\n",
       "      <td>1.925485</td>\n",
       "      <td>1.715938</td>\n",
       "      <td>2.079957</td>\n",
       "      <td>1.818636</td>\n",
       "      <td>2.490450</td>\n",
       "      <td>1.673244</td>\n",
       "      <td>...</td>\n",
       "      <td>0.563590</td>\n",
       "      <td>-0.109579</td>\n",
       "      <td>0.697446</td>\n",
       "      <td>0.398073</td>\n",
       "      <td>0.640969</td>\n",
       "      <td>0.270192</td>\n",
       "      <td>0.224925</td>\n",
       "      <td>0.645082</td>\n",
       "      <td>0.635135</td>\n",
       "      <td>0.297325</td>\n",
       "    </tr>\n",
       "    <tr>\n",
       "      <th>2</th>\n",
       "      <td>21.192974</td>\n",
       "      <td>1.215343</td>\n",
       "      <td>1.787166</td>\n",
       "      <td>2.146987</td>\n",
       "      <td>1.686190</td>\n",
       "      <td>1.540137</td>\n",
       "      <td>2.291031</td>\n",
       "      <td>2.403422</td>\n",
       "      <td>1.765422</td>\n",
       "      <td>1.993213</td>\n",
       "      <td>...</td>\n",
       "      <td>0.712487</td>\n",
       "      <td>-0.074042</td>\n",
       "      <td>0.321703</td>\n",
       "      <td>0.390386</td>\n",
       "      <td>0.716929</td>\n",
       "      <td>0.316524</td>\n",
       "      <td>0.422077</td>\n",
       "      <td>0.722742</td>\n",
       "      <td>0.680590</td>\n",
       "      <td>0.383754</td>\n",
       "    </tr>\n",
       "    <tr>\n",
       "      <th>3</th>\n",
       "      <td>42.113068</td>\n",
       "      <td>2.366413</td>\n",
       "      <td>2.071540</td>\n",
       "      <td>1.000340</td>\n",
       "      <td>2.728281</td>\n",
       "      <td>1.391727</td>\n",
       "      <td>2.017176</td>\n",
       "      <td>2.610492</td>\n",
       "      <td>0.747448</td>\n",
       "      <td>2.900299</td>\n",
       "      <td>...</td>\n",
       "      <td>0.601499</td>\n",
       "      <td>-0.184248</td>\n",
       "      <td>0.564669</td>\n",
       "      <td>0.623353</td>\n",
       "      <td>0.466980</td>\n",
       "      <td>0.651775</td>\n",
       "      <td>0.308915</td>\n",
       "      <td>0.550097</td>\n",
       "      <td>0.466904</td>\n",
       "      <td>0.494024</td>\n",
       "    </tr>\n",
       "    <tr>\n",
       "      <th>4</th>\n",
       "      <td>69.756783</td>\n",
       "      <td>0.092119</td>\n",
       "      <td>0.653924</td>\n",
       "      <td>0.231422</td>\n",
       "      <td>1.080003</td>\n",
       "      <td>0.711244</td>\n",
       "      <td>1.357904</td>\n",
       "      <td>1.237998</td>\n",
       "      <td>1.346404</td>\n",
       "      <td>1.645869</td>\n",
       "      <td>...</td>\n",
       "      <td>0.015292</td>\n",
       "      <td>0.070505</td>\n",
       "      <td>0.065835</td>\n",
       "      <td>0.051780</td>\n",
       "      <td>0.092940</td>\n",
       "      <td>0.103773</td>\n",
       "      <td>0.179405</td>\n",
       "      <td>-0.089611</td>\n",
       "      <td>0.091841</td>\n",
       "      <td>0.056867</td>\n",
       "    </tr>\n",
       "    <tr>\n",
       "      <th>...</th>\n",
       "      <td>...</td>\n",
       "      <td>...</td>\n",
       "      <td>...</td>\n",
       "      <td>...</td>\n",
       "      <td>...</td>\n",
       "      <td>...</td>\n",
       "      <td>...</td>\n",
       "      <td>...</td>\n",
       "      <td>...</td>\n",
       "      <td>...</td>\n",
       "      <td>...</td>\n",
       "      <td>...</td>\n",
       "      <td>...</td>\n",
       "      <td>...</td>\n",
       "      <td>...</td>\n",
       "      <td>...</td>\n",
       "      <td>...</td>\n",
       "      <td>...</td>\n",
       "      <td>...</td>\n",
       "      <td>...</td>\n",
       "      <td>...</td>\n",
       "    </tr>\n",
       "    <tr>\n",
       "      <th>99995</th>\n",
       "      <td>63.323452</td>\n",
       "      <td>1.396236</td>\n",
       "      <td>0.417221</td>\n",
       "      <td>2.036034</td>\n",
       "      <td>1.659054</td>\n",
       "      <td>0.500584</td>\n",
       "      <td>1.693545</td>\n",
       "      <td>0.859932</td>\n",
       "      <td>1.963009</td>\n",
       "      <td>1.524831</td>\n",
       "      <td>...</td>\n",
       "      <td>0.779955</td>\n",
       "      <td>0.005525</td>\n",
       "      <td>0.486013</td>\n",
       "      <td>0.273372</td>\n",
       "      <td>0.705386</td>\n",
       "      <td>0.602898</td>\n",
       "      <td>0.447929</td>\n",
       "      <td>0.474844</td>\n",
       "      <td>0.564266</td>\n",
       "      <td>0.133969</td>\n",
       "    </tr>\n",
       "    <tr>\n",
       "      <th>99996</th>\n",
       "      <td>69.657532</td>\n",
       "      <td>0.989147</td>\n",
       "      <td>1.611333</td>\n",
       "      <td>1.793044</td>\n",
       "      <td>1.092325</td>\n",
       "      <td>0.507139</td>\n",
       "      <td>1.763940</td>\n",
       "      <td>2.677643</td>\n",
       "      <td>2.640827</td>\n",
       "      <td>1.128049</td>\n",
       "      <td>...</td>\n",
       "      <td>0.539489</td>\n",
       "      <td>0.114670</td>\n",
       "      <td>0.579498</td>\n",
       "      <td>0.417226</td>\n",
       "      <td>0.270110</td>\n",
       "      <td>0.556596</td>\n",
       "      <td>0.703258</td>\n",
       "      <td>0.462312</td>\n",
       "      <td>0.269719</td>\n",
       "      <td>0.539236</td>\n",
       "    </tr>\n",
       "    <tr>\n",
       "      <th>99997</th>\n",
       "      <td>40.897057</td>\n",
       "      <td>0.706396</td>\n",
       "      <td>1.190514</td>\n",
       "      <td>0.674603</td>\n",
       "      <td>1.632769</td>\n",
       "      <td>0.229009</td>\n",
       "      <td>2.027802</td>\n",
       "      <td>0.302457</td>\n",
       "      <td>2.016243</td>\n",
       "      <td>0.352602</td>\n",
       "      <td>...</td>\n",
       "      <td>0.282597</td>\n",
       "      <td>-0.474629</td>\n",
       "      <td>0.460647</td>\n",
       "      <td>0.478341</td>\n",
       "      <td>0.527891</td>\n",
       "      <td>0.904111</td>\n",
       "      <td>0.728529</td>\n",
       "      <td>0.178410</td>\n",
       "      <td>0.500813</td>\n",
       "      <td>0.773985</td>\n",
       "    </tr>\n",
       "    <tr>\n",
       "      <th>99998</th>\n",
       "      <td>42.333302</td>\n",
       "      <td>2.238589</td>\n",
       "      <td>1.237608</td>\n",
       "      <td>1.325212</td>\n",
       "      <td>2.785515</td>\n",
       "      <td>1.918571</td>\n",
       "      <td>0.814167</td>\n",
       "      <td>2.613950</td>\n",
       "      <td>2.083409</td>\n",
       "      <td>1.330934</td>\n",
       "      <td>...</td>\n",
       "      <td>0.594252</td>\n",
       "      <td>-0.162106</td>\n",
       "      <td>0.694276</td>\n",
       "      <td>0.681025</td>\n",
       "      <td>0.357196</td>\n",
       "      <td>0.498088</td>\n",
       "      <td>0.433297</td>\n",
       "      <td>0.406154</td>\n",
       "      <td>0.324771</td>\n",
       "      <td>0.340727</td>\n",
       "    </tr>\n",
       "    <tr>\n",
       "      <th>99999</th>\n",
       "      <td>53.290115</td>\n",
       "      <td>2.936555</td>\n",
       "      <td>0.154759</td>\n",
       "      <td>2.921164</td>\n",
       "      <td>2.183931</td>\n",
       "      <td>1.485150</td>\n",
       "      <td>2.685922</td>\n",
       "      <td>0.583443</td>\n",
       "      <td>3.101826</td>\n",
       "      <td>1.264842</td>\n",
       "      <td>...</td>\n",
       "      <td>0.463697</td>\n",
       "      <td>0.289364</td>\n",
       "      <td>0.285321</td>\n",
       "      <td>0.422103</td>\n",
       "      <td>0.692009</td>\n",
       "      <td>0.276236</td>\n",
       "      <td>0.245781</td>\n",
       "      <td>0.269519</td>\n",
       "      <td>0.681719</td>\n",
       "      <td>-0.053993</td>\n",
       "    </tr>\n",
       "  </tbody>\n",
       "</table>\n",
       "<p>100000 rows × 703 columns</p>\n",
       "</div>"
      ],
      "text/plain": [
       "       heart__sum_values  heart__fft_coefficient__attr_\"abs\"__coeff_36  \\\n",
       "0              38.927948                                      0.848728   \n",
       "1              19.445633                                      1.850706   \n",
       "2              21.192974                                      1.215343   \n",
       "3              42.113068                                      2.366413   \n",
       "4              69.756783                                      0.092119   \n",
       "...                  ...                                           ...   \n",
       "99995          63.323452                                      1.396236   \n",
       "99996          69.657532                                      0.989147   \n",
       "99997          40.897057                                      0.706396   \n",
       "99998          42.333302                                      2.238589   \n",
       "99999          53.290115                                      2.936555   \n",
       "\n",
       "       heart__fft_coefficient__attr_\"abs\"__coeff_35  \\\n",
       "0                                          1.168684   \n",
       "1                                          1.460752   \n",
       "2                                          1.787166   \n",
       "3                                          2.071540   \n",
       "4                                          0.653924   \n",
       "...                                             ...   \n",
       "99995                                      0.417221   \n",
       "99996                                      1.611333   \n",
       "99997                                      1.190514   \n",
       "99998                                      1.237608   \n",
       "99999                                      0.154759   \n",
       "\n",
       "       heart__fft_coefficient__attr_\"abs\"__coeff_34  \\\n",
       "0                                          0.982133   \n",
       "1                                          1.924501   \n",
       "2                                          2.146987   \n",
       "3                                          1.000340   \n",
       "4                                          0.231422   \n",
       "...                                             ...   \n",
       "99995                                      2.036034   \n",
       "99996                                      1.793044   \n",
       "99997                                      0.674603   \n",
       "99998                                      1.325212   \n",
       "99999                                      2.921164   \n",
       "\n",
       "       heart__fft_coefficient__attr_\"abs\"__coeff_33  \\\n",
       "0                                          1.223496   \n",
       "1                                          1.925485   \n",
       "2                                          1.686190   \n",
       "3                                          2.728281   \n",
       "4                                          1.080003   \n",
       "...                                             ...   \n",
       "99995                                      1.659054   \n",
       "99996                                      1.092325   \n",
       "99997                                      1.632769   \n",
       "99998                                      2.785515   \n",
       "99999                                      2.183931   \n",
       "\n",
       "       heart__fft_coefficient__attr_\"abs\"__coeff_32  \\\n",
       "0                                          1.236300   \n",
       "1                                          1.715938   \n",
       "2                                          1.540137   \n",
       "3                                          1.391727   \n",
       "4                                          0.711244   \n",
       "...                                             ...   \n",
       "99995                                      0.500584   \n",
       "99996                                      0.507139   \n",
       "99997                                      0.229009   \n",
       "99998                                      1.918571   \n",
       "99999                                      1.485150   \n",
       "\n",
       "       heart__fft_coefficient__attr_\"abs\"__coeff_31  \\\n",
       "0                                          1.104172   \n",
       "1                                          2.079957   \n",
       "2                                          2.291031   \n",
       "3                                          2.017176   \n",
       "4                                          1.357904   \n",
       "...                                             ...   \n",
       "99995                                      1.693545   \n",
       "99996                                      1.763940   \n",
       "99997                                      2.027802   \n",
       "99998                                      0.814167   \n",
       "99999                                      2.685922   \n",
       "\n",
       "       heart__fft_coefficient__attr_\"abs\"__coeff_30  \\\n",
       "0                                          1.497129   \n",
       "1                                          1.818636   \n",
       "2                                          2.403422   \n",
       "3                                          2.610492   \n",
       "4                                          1.237998   \n",
       "...                                             ...   \n",
       "99995                                      0.859932   \n",
       "99996                                      2.677643   \n",
       "99997                                      0.302457   \n",
       "99998                                      2.613950   \n",
       "99999                                      0.583443   \n",
       "\n",
       "       heart__fft_coefficient__attr_\"abs\"__coeff_29  \\\n",
       "0                                          1.358096   \n",
       "1                                          2.490450   \n",
       "2                                          1.765422   \n",
       "3                                          0.747448   \n",
       "4                                          1.346404   \n",
       "...                                             ...   \n",
       "99995                                      1.963009   \n",
       "99996                                      2.640827   \n",
       "99997                                      2.016243   \n",
       "99998                                      2.083409   \n",
       "99999                                      3.101826   \n",
       "\n",
       "       heart__fft_coefficient__attr_\"abs\"__coeff_28  ...  \\\n",
       "0                                          1.704225  ...   \n",
       "1                                          1.673244  ...   \n",
       "2                                          1.993213  ...   \n",
       "3                                          2.900299  ...   \n",
       "4                                          1.645869  ...   \n",
       "...                                             ...  ...   \n",
       "99995                                      1.524831  ...   \n",
       "99996                                      1.128049  ...   \n",
       "99997                                      0.352602  ...   \n",
       "99998                                      1.330934  ...   \n",
       "99999                                      1.264842  ...   \n",
       "\n",
       "       heart__fft_coefficient__attr_\"abs\"__coeff_84  \\\n",
       "0                                          0.531883   \n",
       "1                                          0.563590   \n",
       "2                                          0.712487   \n",
       "3                                          0.601499   \n",
       "4                                          0.015292   \n",
       "...                                             ...   \n",
       "99995                                      0.779955   \n",
       "99996                                      0.539489   \n",
       "99997                                      0.282597   \n",
       "99998                                      0.594252   \n",
       "99999                                      0.463697   \n",
       "\n",
       "       heart__fft_coefficient__attr_\"imag\"__coeff_97  \\\n",
       "0                                          -0.047438   \n",
       "1                                          -0.109579   \n",
       "2                                          -0.074042   \n",
       "3                                          -0.184248   \n",
       "4                                           0.070505   \n",
       "...                                              ...   \n",
       "99995                                       0.005525   \n",
       "99996                                       0.114670   \n",
       "99997                                      -0.474629   \n",
       "99998                                      -0.162106   \n",
       "99999                                       0.289364   \n",
       "\n",
       "       heart__fft_coefficient__attr_\"abs\"__coeff_90  \\\n",
       "0                                          0.554370   \n",
       "1                                          0.697446   \n",
       "2                                          0.321703   \n",
       "3                                          0.564669   \n",
       "4                                          0.065835   \n",
       "...                                             ...   \n",
       "99995                                      0.486013   \n",
       "99996                                      0.579498   \n",
       "99997                                      0.460647   \n",
       "99998                                      0.694276   \n",
       "99999                                      0.285321   \n",
       "\n",
       "       heart__fft_coefficient__attr_\"abs\"__coeff_94  \\\n",
       "0                                          0.307585   \n",
       "1                                          0.398073   \n",
       "2                                          0.390386   \n",
       "3                                          0.623353   \n",
       "4                                          0.051780   \n",
       "...                                             ...   \n",
       "99995                                      0.273372   \n",
       "99996                                      0.417226   \n",
       "99997                                      0.478341   \n",
       "99998                                      0.681025   \n",
       "99999                                      0.422103   \n",
       "\n",
       "       heart__fft_coefficient__attr_\"abs\"__coeff_92  \\\n",
       "0                                          0.564596   \n",
       "1                                          0.640969   \n",
       "2                                          0.716929   \n",
       "3                                          0.466980   \n",
       "4                                          0.092940   \n",
       "...                                             ...   \n",
       "99995                                      0.705386   \n",
       "99996                                      0.270110   \n",
       "99997                                      0.527891   \n",
       "99998                                      0.357196   \n",
       "99999                                      0.692009   \n",
       "\n",
       "       heart__fft_coefficient__attr_\"real\"__coeff_97  \\\n",
       "0                                           0.562960   \n",
       "1                                           0.270192   \n",
       "2                                           0.316524   \n",
       "3                                           0.651775   \n",
       "4                                           0.103773   \n",
       "...                                              ...   \n",
       "99995                                       0.602898   \n",
       "99996                                       0.556596   \n",
       "99997                                       0.904111   \n",
       "99998                                       0.498088   \n",
       "99999                                       0.276236   \n",
       "\n",
       "       heart__fft_coefficient__attr_\"abs\"__coeff_75  \\\n",
       "0                                          0.591859   \n",
       "1                                          0.224925   \n",
       "2                                          0.422077   \n",
       "3                                          0.308915   \n",
       "4                                          0.179405   \n",
       "...                                             ...   \n",
       "99995                                      0.447929   \n",
       "99996                                      0.703258   \n",
       "99997                                      0.728529   \n",
       "99998                                      0.433297   \n",
       "99999                                      0.245781   \n",
       "\n",
       "       heart__fft_coefficient__attr_\"real\"__coeff_88  \\\n",
       "0                                           0.504124   \n",
       "1                                           0.645082   \n",
       "2                                           0.722742   \n",
       "3                                           0.550097   \n",
       "4                                          -0.089611   \n",
       "...                                              ...   \n",
       "99995                                       0.474844   \n",
       "99996                                       0.462312   \n",
       "99997                                       0.178410   \n",
       "99998                                       0.406154   \n",
       "99999                                       0.269519   \n",
       "\n",
       "       heart__fft_coefficient__attr_\"real\"__coeff_92  \\\n",
       "0                                           0.528450   \n",
       "1                                           0.635135   \n",
       "2                                           0.680590   \n",
       "3                                           0.466904   \n",
       "4                                           0.091841   \n",
       "...                                              ...   \n",
       "99995                                       0.564266   \n",
       "99996                                       0.269719   \n",
       "99997                                       0.500813   \n",
       "99998                                       0.324771   \n",
       "99999                                       0.681719   \n",
       "\n",
       "       heart__fft_coefficient__attr_\"real\"__coeff_83  \n",
       "0                                           0.473568  \n",
       "1                                           0.297325  \n",
       "2                                           0.383754  \n",
       "3                                           0.494024  \n",
       "4                                           0.056867  \n",
       "...                                              ...  \n",
       "99995                                       0.133969  \n",
       "99996                                       0.539236  \n",
       "99997                                       0.773985  \n",
       "99998                                       0.340727  \n",
       "99999                                      -0.053993  \n",
       "\n",
       "[100000 rows x 703 columns]"
      ]
     },
     "execution_count": 55,
     "metadata": {},
     "output_type": "execute_result"
    }
   ],
   "source": [
    "features_filtered = select_features(features_df, train['label'])\n",
    "features_filtered"
   ]
  },
  {
   "cell_type": "markdown",
   "id": "df8ea0f5-ef8f-4451-b706-9a648c041ac2",
   "metadata": {},
   "source": [
    "## test2 feature extraction"
   ]
  },
  {
   "cell_type": "code",
   "execution_count": 33,
   "id": "db04521a",
   "metadata": {},
   "outputs": [
    {
     "data": {
      "text/plain": [
       "20000"
      ]
     },
     "execution_count": 33,
     "metadata": {},
     "output_type": "execute_result"
    }
   ],
   "source": [
    "index_test = (test_4['id'].max()+1 - 100000)\n",
    "index_test"
   ]
  },
  {
   "cell_type": "code",
   "execution_count": 34,
   "id": "e42682b2",
   "metadata": {},
   "outputs": [
    {
     "data": {
      "text/plain": [
       "20"
      ]
     },
     "execution_count": 34,
     "metadata": {},
     "output_type": "execute_result"
    }
   ],
   "source": [
    "n = 0\n",
    "for i in range (100000, test_4['id'].max(), 1000):\n",
    "    n+=1\n",
    "n"
   ]
  },
  {
   "cell_type": "markdown",
   "id": "7e015f09",
   "metadata": {},
   "source": [
    "### test2 extraction running"
   ]
  },
  {
   "cell_type": "code",
   "execution_count": 36,
   "id": "d3922d11",
   "metadata": {},
   "outputs": [
    {
     "name": "stdout",
     "output_type": "stream",
     "text": [
      "0 999\n"
     ]
    },
    {
     "name": "stderr",
     "output_type": "stream",
     "text": [
      "Feature Extraction: 100%|██████████████████████████████████████████████████████████████| 20/20 [00:29<00:00,  1.45s/it]\n"
     ]
    },
    {
     "name": "stdout",
     "output_type": "stream",
     "text": [
      "1000 1999\n"
     ]
    },
    {
     "name": "stderr",
     "output_type": "stream",
     "text": [
      "Feature Extraction: 100%|██████████████████████████████████████████████████████████████| 20/20 [00:33<00:00,  1.67s/it]\n"
     ]
    },
    {
     "name": "stdout",
     "output_type": "stream",
     "text": [
      "2000 2999\n"
     ]
    },
    {
     "name": "stderr",
     "output_type": "stream",
     "text": [
      "Feature Extraction: 100%|██████████████████████████████████████████████████████████████| 20/20 [00:34<00:00,  1.71s/it]\n"
     ]
    },
    {
     "name": "stdout",
     "output_type": "stream",
     "text": [
      "3000 3999\n"
     ]
    },
    {
     "name": "stderr",
     "output_type": "stream",
     "text": [
      "Feature Extraction: 100%|██████████████████████████████████████████████████████████████| 20/20 [00:29<00:00,  1.47s/it]\n"
     ]
    },
    {
     "name": "stdout",
     "output_type": "stream",
     "text": [
      "4000 4999\n"
     ]
    },
    {
     "name": "stderr",
     "output_type": "stream",
     "text": [
      "Feature Extraction: 100%|██████████████████████████████████████████████████████████████| 20/20 [00:34<00:00,  1.72s/it]\n"
     ]
    },
    {
     "name": "stdout",
     "output_type": "stream",
     "text": [
      "5000 5999\n"
     ]
    },
    {
     "name": "stderr",
     "output_type": "stream",
     "text": [
      "Feature Extraction: 100%|██████████████████████████████████████████████████████████████| 20/20 [00:31<00:00,  1.60s/it]\n"
     ]
    },
    {
     "name": "stdout",
     "output_type": "stream",
     "text": [
      "6000 6999\n"
     ]
    },
    {
     "name": "stderr",
     "output_type": "stream",
     "text": [
      "Feature Extraction: 100%|██████████████████████████████████████████████████████████████| 20/20 [00:32<00:00,  1.63s/it]\n"
     ]
    },
    {
     "name": "stdout",
     "output_type": "stream",
     "text": [
      "7000 7999\n"
     ]
    },
    {
     "name": "stderr",
     "output_type": "stream",
     "text": [
      "Feature Extraction: 100%|██████████████████████████████████████████████████████████████| 20/20 [00:30<00:00,  1.51s/it]\n"
     ]
    },
    {
     "name": "stdout",
     "output_type": "stream",
     "text": [
      "8000 8999\n"
     ]
    },
    {
     "name": "stderr",
     "output_type": "stream",
     "text": [
      "Feature Extraction: 100%|██████████████████████████████████████████████████████████████| 20/20 [00:29<00:00,  1.50s/it]\n"
     ]
    },
    {
     "name": "stdout",
     "output_type": "stream",
     "text": [
      "9000 9999\n"
     ]
    },
    {
     "name": "stderr",
     "output_type": "stream",
     "text": [
      "Feature Extraction: 100%|██████████████████████████████████████████████████████████████| 20/20 [00:32<00:00,  1.62s/it]\n"
     ]
    },
    {
     "name": "stdout",
     "output_type": "stream",
     "text": [
      "10000 10999\n"
     ]
    },
    {
     "name": "stderr",
     "output_type": "stream",
     "text": [
      "Feature Extraction: 100%|██████████████████████████████████████████████████████████████| 20/20 [00:30<00:00,  1.55s/it]\n"
     ]
    },
    {
     "name": "stdout",
     "output_type": "stream",
     "text": [
      "11000 11999\n"
     ]
    },
    {
     "name": "stderr",
     "output_type": "stream",
     "text": [
      "Feature Extraction: 100%|██████████████████████████████████████████████████████████████| 20/20 [00:31<00:00,  1.57s/it]\n"
     ]
    },
    {
     "name": "stdout",
     "output_type": "stream",
     "text": [
      "12000 12999\n"
     ]
    },
    {
     "name": "stderr",
     "output_type": "stream",
     "text": [
      "Feature Extraction: 100%|██████████████████████████████████████████████████████████████| 20/20 [00:31<00:00,  1.55s/it]\n"
     ]
    },
    {
     "name": "stdout",
     "output_type": "stream",
     "text": [
      "13000 13999\n"
     ]
    },
    {
     "name": "stderr",
     "output_type": "stream",
     "text": [
      "Feature Extraction: 100%|██████████████████████████████████████████████████████████████| 20/20 [00:33<00:00,  1.66s/it]\n"
     ]
    },
    {
     "name": "stdout",
     "output_type": "stream",
     "text": [
      "14000 14999\n"
     ]
    },
    {
     "name": "stderr",
     "output_type": "stream",
     "text": [
      "Feature Extraction: 100%|██████████████████████████████████████████████████████████████| 20/20 [00:36<00:00,  1.82s/it]\n"
     ]
    },
    {
     "name": "stdout",
     "output_type": "stream",
     "text": [
      "15000 15999\n"
     ]
    },
    {
     "name": "stderr",
     "output_type": "stream",
     "text": [
      "Feature Extraction: 100%|██████████████████████████████████████████████████████████████| 20/20 [00:37<00:00,  1.86s/it]\n"
     ]
    },
    {
     "name": "stdout",
     "output_type": "stream",
     "text": [
      "16000 16999\n"
     ]
    },
    {
     "name": "stderr",
     "output_type": "stream",
     "text": [
      "Feature Extraction: 100%|██████████████████████████████████████████████████████████████| 20/20 [00:33<00:00,  1.67s/it]\n"
     ]
    },
    {
     "name": "stdout",
     "output_type": "stream",
     "text": [
      "17000 17999\n"
     ]
    },
    {
     "name": "stderr",
     "output_type": "stream",
     "text": [
      "Feature Extraction: 100%|██████████████████████████████████████████████████████████████| 20/20 [00:29<00:00,  1.46s/it]\n"
     ]
    },
    {
     "name": "stdout",
     "output_type": "stream",
     "text": [
      "18000 18999\n"
     ]
    },
    {
     "name": "stderr",
     "output_type": "stream",
     "text": [
      "Feature Extraction: 100%|██████████████████████████████████████████████████████████████| 20/20 [00:27<00:00,  1.40s/it]\n"
     ]
    },
    {
     "name": "stdout",
     "output_type": "stream",
     "text": [
      "19000 19999\n"
     ]
    },
    {
     "name": "stderr",
     "output_type": "stream",
     "text": [
      "Feature Extraction: 100%|██████████████████████████████████████████████████████████████| 20/20 [00:29<00:00,  1.46s/it]\n"
     ]
    },
    {
     "data": {
      "text/html": [
       "<div>\n",
       "<style scoped>\n",
       "    .dataframe tbody tr th:only-of-type {\n",
       "        vertical-align: middle;\n",
       "    }\n",
       "\n",
       "    .dataframe tbody tr th {\n",
       "        vertical-align: top;\n",
       "    }\n",
       "\n",
       "    .dataframe thead th {\n",
       "        text-align: right;\n",
       "    }\n",
       "</style>\n",
       "<table border=\"1\" class=\"dataframe\">\n",
       "  <thead>\n",
       "    <tr style=\"text-align: right;\">\n",
       "      <th></th>\n",
       "      <th>heart__variance_larger_than_standard_deviation</th>\n",
       "      <th>heart__has_duplicate_max</th>\n",
       "      <th>heart__has_duplicate_min</th>\n",
       "      <th>heart__has_duplicate</th>\n",
       "      <th>heart__sum_values</th>\n",
       "      <th>heart__abs_energy</th>\n",
       "      <th>heart__mean_abs_change</th>\n",
       "      <th>heart__mean_change</th>\n",
       "      <th>heart__mean_second_derivative_central</th>\n",
       "      <th>heart__median</th>\n",
       "      <th>...</th>\n",
       "      <th>heart__permutation_entropy__dimension_6__tau_1</th>\n",
       "      <th>heart__permutation_entropy__dimension_7__tau_1</th>\n",
       "      <th>heart__query_similarity_count__query_None__threshold_0.0</th>\n",
       "      <th>heart__matrix_profile__feature_\"min\"__threshold_0.98</th>\n",
       "      <th>heart__matrix_profile__feature_\"max\"__threshold_0.98</th>\n",
       "      <th>heart__matrix_profile__feature_\"mean\"__threshold_0.98</th>\n",
       "      <th>heart__matrix_profile__feature_\"median\"__threshold_0.98</th>\n",
       "      <th>heart__matrix_profile__feature_\"25\"__threshold_0.98</th>\n",
       "      <th>heart__matrix_profile__feature_\"75\"__threshold_0.98</th>\n",
       "      <th>heart__mean_n_absolute_max__number_of_maxima_7</th>\n",
       "    </tr>\n",
       "  </thead>\n",
       "  <tbody>\n",
       "    <tr>\n",
       "      <th>0</th>\n",
       "      <td>0.0</td>\n",
       "      <td>0.0</td>\n",
       "      <td>1.0</td>\n",
       "      <td>1.0</td>\n",
       "      <td>19.229864</td>\n",
       "      <td>7.907934</td>\n",
       "      <td>0.018374</td>\n",
       "      <td>-0.004861</td>\n",
       "      <td>-0.000021</td>\n",
       "      <td>0.027745</td>\n",
       "      <td>...</td>\n",
       "      <td>2.356864</td>\n",
       "      <td>2.587925</td>\n",
       "      <td>0.0</td>\n",
       "      <td>2.391328</td>\n",
       "      <td>10.770330</td>\n",
       "      <td>8.487286</td>\n",
       "      <td>8.617214</td>\n",
       "      <td>7.755632</td>\n",
       "      <td>10.770330</td>\n",
       "      <td>0.865171</td>\n",
       "    </tr>\n",
       "    <tr>\n",
       "      <th>1</th>\n",
       "      <td>0.0</td>\n",
       "      <td>0.0</td>\n",
       "      <td>0.0</td>\n",
       "      <td>1.0</td>\n",
       "      <td>84.298927</td>\n",
       "      <td>38.292805</td>\n",
       "      <td>0.021483</td>\n",
       "      <td>-0.001195</td>\n",
       "      <td>0.000195</td>\n",
       "      <td>0.367241</td>\n",
       "      <td>...</td>\n",
       "      <td>4.656875</td>\n",
       "      <td>4.882383</td>\n",
       "      <td>0.0</td>\n",
       "      <td>0.939894</td>\n",
       "      <td>4.470799</td>\n",
       "      <td>2.584921</td>\n",
       "      <td>2.493456</td>\n",
       "      <td>1.542105</td>\n",
       "      <td>3.698144</td>\n",
       "      <td>0.846200</td>\n",
       "    </tr>\n",
       "    <tr>\n",
       "      <th>2</th>\n",
       "      <td>0.0</td>\n",
       "      <td>0.0</td>\n",
       "      <td>1.0</td>\n",
       "      <td>1.0</td>\n",
       "      <td>47.789925</td>\n",
       "      <td>21.287039</td>\n",
       "      <td>0.021610</td>\n",
       "      <td>-0.004781</td>\n",
       "      <td>0.000749</td>\n",
       "      <td>0.260611</td>\n",
       "      <td>...</td>\n",
       "      <td>3.321028</td>\n",
       "      <td>3.516715</td>\n",
       "      <td>0.0</td>\n",
       "      <td>0.844712</td>\n",
       "      <td>5.656854</td>\n",
       "      <td>3.279003</td>\n",
       "      <td>2.544021</td>\n",
       "      <td>2.001595</td>\n",
       "      <td>5.656854</td>\n",
       "      <td>0.797139</td>\n",
       "    </tr>\n",
       "    <tr>\n",
       "      <th>3</th>\n",
       "      <td>0.0</td>\n",
       "      <td>0.0</td>\n",
       "      <td>1.0</td>\n",
       "      <td>1.0</td>\n",
       "      <td>47.069012</td>\n",
       "      <td>28.749519</td>\n",
       "      <td>0.023874</td>\n",
       "      <td>-0.004881</td>\n",
       "      <td>0.000194</td>\n",
       "      <td>0.000000</td>\n",
       "      <td>...</td>\n",
       "      <td>1.806294</td>\n",
       "      <td>1.979305</td>\n",
       "      <td>0.0</td>\n",
       "      <td>0.909721</td>\n",
       "      <td>4.898979</td>\n",
       "      <td>3.531943</td>\n",
       "      <td>4.898979</td>\n",
       "      <td>1.675526</td>\n",
       "      <td>4.898979</td>\n",
       "      <td>0.880869</td>\n",
       "    </tr>\n",
       "    <tr>\n",
       "      <th>4</th>\n",
       "      <td>0.0</td>\n",
       "      <td>0.0</td>\n",
       "      <td>1.0</td>\n",
       "      <td>1.0</td>\n",
       "      <td>24.899395</td>\n",
       "      <td>10.177999</td>\n",
       "      <td>0.020548</td>\n",
       "      <td>-0.004902</td>\n",
       "      <td>0.000276</td>\n",
       "      <td>0.034859</td>\n",
       "      <td>...</td>\n",
       "      <td>2.960568</td>\n",
       "      <td>3.168085</td>\n",
       "      <td>0.0</td>\n",
       "      <td>1.179587</td>\n",
       "      <td>8.000000</td>\n",
       "      <td>4.804452</td>\n",
       "      <td>4.069471</td>\n",
       "      <td>2.504790</td>\n",
       "      <td>8.000000</td>\n",
       "      <td>0.867518</td>\n",
       "    </tr>\n",
       "    <tr>\n",
       "      <th>...</th>\n",
       "      <td>...</td>\n",
       "      <td>...</td>\n",
       "      <td>...</td>\n",
       "      <td>...</td>\n",
       "      <td>...</td>\n",
       "      <td>...</td>\n",
       "      <td>...</td>\n",
       "      <td>...</td>\n",
       "      <td>...</td>\n",
       "      <td>...</td>\n",
       "      <td>...</td>\n",
       "      <td>...</td>\n",
       "      <td>...</td>\n",
       "      <td>...</td>\n",
       "      <td>...</td>\n",
       "      <td>...</td>\n",
       "      <td>...</td>\n",
       "      <td>...</td>\n",
       "      <td>...</td>\n",
       "      <td>...</td>\n",
       "      <td>...</td>\n",
       "    </tr>\n",
       "    <tr>\n",
       "      <th>19995</th>\n",
       "      <td>0.0</td>\n",
       "      <td>0.0</td>\n",
       "      <td>1.0</td>\n",
       "      <td>1.0</td>\n",
       "      <td>43.175133</td>\n",
       "      <td>18.967833</td>\n",
       "      <td>0.016106</td>\n",
       "      <td>-0.004902</td>\n",
       "      <td>0.000411</td>\n",
       "      <td>0.205399</td>\n",
       "      <td>...</td>\n",
       "      <td>3.625398</td>\n",
       "      <td>3.843586</td>\n",
       "      <td>0.0</td>\n",
       "      <td>1.083285</td>\n",
       "      <td>6.633250</td>\n",
       "      <td>3.577780</td>\n",
       "      <td>2.638233</td>\n",
       "      <td>1.750577</td>\n",
       "      <td>6.633250</td>\n",
       "      <td>0.714023</td>\n",
       "    </tr>\n",
       "    <tr>\n",
       "      <th>19996</th>\n",
       "      <td>0.0</td>\n",
       "      <td>0.0</td>\n",
       "      <td>1.0</td>\n",
       "      <td>1.0</td>\n",
       "      <td>31.030783</td>\n",
       "      <td>14.413243</td>\n",
       "      <td>0.021473</td>\n",
       "      <td>-0.004902</td>\n",
       "      <td>0.000429</td>\n",
       "      <td>0.000000</td>\n",
       "      <td>...</td>\n",
       "      <td>1.955659</td>\n",
       "      <td>2.081946</td>\n",
       "      <td>0.0</td>\n",
       "      <td>0.817500</td>\n",
       "      <td>5.656854</td>\n",
       "      <td>3.887947</td>\n",
       "      <td>5.656854</td>\n",
       "      <td>1.840969</td>\n",
       "      <td>5.656854</td>\n",
       "      <td>0.799713</td>\n",
       "    </tr>\n",
       "    <tr>\n",
       "      <th>19997</th>\n",
       "      <td>0.0</td>\n",
       "      <td>0.0</td>\n",
       "      <td>1.0</td>\n",
       "      <td>1.0</td>\n",
       "      <td>31.648623</td>\n",
       "      <td>13.083992</td>\n",
       "      <td>0.017566</td>\n",
       "      <td>-0.004665</td>\n",
       "      <td>0.000087</td>\n",
       "      <td>0.010807</td>\n",
       "      <td>...</td>\n",
       "      <td>2.497097</td>\n",
       "      <td>2.663404</td>\n",
       "      <td>0.0</td>\n",
       "      <td>0.901268</td>\n",
       "      <td>6.324555</td>\n",
       "      <td>4.065376</td>\n",
       "      <td>3.262211</td>\n",
       "      <td>2.109789</td>\n",
       "      <td>6.324555</td>\n",
       "      <td>0.835894</td>\n",
       "    </tr>\n",
       "    <tr>\n",
       "      <th>19998</th>\n",
       "      <td>0.0</td>\n",
       "      <td>0.0</td>\n",
       "      <td>1.0</td>\n",
       "      <td>1.0</td>\n",
       "      <td>19.305441</td>\n",
       "      <td>6.700835</td>\n",
       "      <td>0.019937</td>\n",
       "      <td>-0.004547</td>\n",
       "      <td>0.000617</td>\n",
       "      <td>0.000000</td>\n",
       "      <td>...</td>\n",
       "      <td>2.912829</td>\n",
       "      <td>3.021449</td>\n",
       "      <td>0.0</td>\n",
       "      <td>0.986339</td>\n",
       "      <td>6.000000</td>\n",
       "      <td>3.959185</td>\n",
       "      <td>3.319400</td>\n",
       "      <td>1.931350</td>\n",
       "      <td>6.000000</td>\n",
       "      <td>0.718066</td>\n",
       "    </tr>\n",
       "    <tr>\n",
       "      <th>19999</th>\n",
       "      <td>0.0</td>\n",
       "      <td>0.0</td>\n",
       "      <td>1.0</td>\n",
       "      <td>1.0</td>\n",
       "      <td>35.204567</td>\n",
       "      <td>15.514666</td>\n",
       "      <td>0.020292</td>\n",
       "      <td>-0.003261</td>\n",
       "      <td>0.000341</td>\n",
       "      <td>0.000000</td>\n",
       "      <td>...</td>\n",
       "      <td>2.207142</td>\n",
       "      <td>2.454222</td>\n",
       "      <td>0.0</td>\n",
       "      <td>0.860493</td>\n",
       "      <td>5.656854</td>\n",
       "      <td>3.760221</td>\n",
       "      <td>3.602865</td>\n",
       "      <td>1.895006</td>\n",
       "      <td>5.656854</td>\n",
       "      <td>0.763472</td>\n",
       "    </tr>\n",
       "  </tbody>\n",
       "</table>\n",
       "<p>20000 rows × 789 columns</p>\n",
       "</div>"
      ],
      "text/plain": [
       "       heart__variance_larger_than_standard_deviation  \\\n",
       "0                                                 0.0   \n",
       "1                                                 0.0   \n",
       "2                                                 0.0   \n",
       "3                                                 0.0   \n",
       "4                                                 0.0   \n",
       "...                                               ...   \n",
       "19995                                             0.0   \n",
       "19996                                             0.0   \n",
       "19997                                             0.0   \n",
       "19998                                             0.0   \n",
       "19999                                             0.0   \n",
       "\n",
       "       heart__has_duplicate_max  heart__has_duplicate_min  \\\n",
       "0                           0.0                       1.0   \n",
       "1                           0.0                       0.0   \n",
       "2                           0.0                       1.0   \n",
       "3                           0.0                       1.0   \n",
       "4                           0.0                       1.0   \n",
       "...                         ...                       ...   \n",
       "19995                       0.0                       1.0   \n",
       "19996                       0.0                       1.0   \n",
       "19997                       0.0                       1.0   \n",
       "19998                       0.0                       1.0   \n",
       "19999                       0.0                       1.0   \n",
       "\n",
       "       heart__has_duplicate  heart__sum_values  heart__abs_energy  \\\n",
       "0                       1.0          19.229864           7.907934   \n",
       "1                       1.0          84.298927          38.292805   \n",
       "2                       1.0          47.789925          21.287039   \n",
       "3                       1.0          47.069012          28.749519   \n",
       "4                       1.0          24.899395          10.177999   \n",
       "...                     ...                ...                ...   \n",
       "19995                   1.0          43.175133          18.967833   \n",
       "19996                   1.0          31.030783          14.413243   \n",
       "19997                   1.0          31.648623          13.083992   \n",
       "19998                   1.0          19.305441           6.700835   \n",
       "19999                   1.0          35.204567          15.514666   \n",
       "\n",
       "       heart__mean_abs_change  heart__mean_change  \\\n",
       "0                    0.018374           -0.004861   \n",
       "1                    0.021483           -0.001195   \n",
       "2                    0.021610           -0.004781   \n",
       "3                    0.023874           -0.004881   \n",
       "4                    0.020548           -0.004902   \n",
       "...                       ...                 ...   \n",
       "19995                0.016106           -0.004902   \n",
       "19996                0.021473           -0.004902   \n",
       "19997                0.017566           -0.004665   \n",
       "19998                0.019937           -0.004547   \n",
       "19999                0.020292           -0.003261   \n",
       "\n",
       "       heart__mean_second_derivative_central  heart__median  ...  \\\n",
       "0                                  -0.000021       0.027745  ...   \n",
       "1                                   0.000195       0.367241  ...   \n",
       "2                                   0.000749       0.260611  ...   \n",
       "3                                   0.000194       0.000000  ...   \n",
       "4                                   0.000276       0.034859  ...   \n",
       "...                                      ...            ...  ...   \n",
       "19995                               0.000411       0.205399  ...   \n",
       "19996                               0.000429       0.000000  ...   \n",
       "19997                               0.000087       0.010807  ...   \n",
       "19998                               0.000617       0.000000  ...   \n",
       "19999                               0.000341       0.000000  ...   \n",
       "\n",
       "       heart__permutation_entropy__dimension_6__tau_1  \\\n",
       "0                                            2.356864   \n",
       "1                                            4.656875   \n",
       "2                                            3.321028   \n",
       "3                                            1.806294   \n",
       "4                                            2.960568   \n",
       "...                                               ...   \n",
       "19995                                        3.625398   \n",
       "19996                                        1.955659   \n",
       "19997                                        2.497097   \n",
       "19998                                        2.912829   \n",
       "19999                                        2.207142   \n",
       "\n",
       "       heart__permutation_entropy__dimension_7__tau_1  \\\n",
       "0                                            2.587925   \n",
       "1                                            4.882383   \n",
       "2                                            3.516715   \n",
       "3                                            1.979305   \n",
       "4                                            3.168085   \n",
       "...                                               ...   \n",
       "19995                                        3.843586   \n",
       "19996                                        2.081946   \n",
       "19997                                        2.663404   \n",
       "19998                                        3.021449   \n",
       "19999                                        2.454222   \n",
       "\n",
       "       heart__query_similarity_count__query_None__threshold_0.0  \\\n",
       "0                                                    0.0          \n",
       "1                                                    0.0          \n",
       "2                                                    0.0          \n",
       "3                                                    0.0          \n",
       "4                                                    0.0          \n",
       "...                                                  ...          \n",
       "19995                                                0.0          \n",
       "19996                                                0.0          \n",
       "19997                                                0.0          \n",
       "19998                                                0.0          \n",
       "19999                                                0.0          \n",
       "\n",
       "       heart__matrix_profile__feature_\"min\"__threshold_0.98  \\\n",
       "0                                               2.391328      \n",
       "1                                               0.939894      \n",
       "2                                               0.844712      \n",
       "3                                               0.909721      \n",
       "4                                               1.179587      \n",
       "...                                                  ...      \n",
       "19995                                           1.083285      \n",
       "19996                                           0.817500      \n",
       "19997                                           0.901268      \n",
       "19998                                           0.986339      \n",
       "19999                                           0.860493      \n",
       "\n",
       "       heart__matrix_profile__feature_\"max\"__threshold_0.98  \\\n",
       "0                                              10.770330      \n",
       "1                                               4.470799      \n",
       "2                                               5.656854      \n",
       "3                                               4.898979      \n",
       "4                                               8.000000      \n",
       "...                                                  ...      \n",
       "19995                                           6.633250      \n",
       "19996                                           5.656854      \n",
       "19997                                           6.324555      \n",
       "19998                                           6.000000      \n",
       "19999                                           5.656854      \n",
       "\n",
       "       heart__matrix_profile__feature_\"mean\"__threshold_0.98  \\\n",
       "0                                               8.487286       \n",
       "1                                               2.584921       \n",
       "2                                               3.279003       \n",
       "3                                               3.531943       \n",
       "4                                               4.804452       \n",
       "...                                                  ...       \n",
       "19995                                           3.577780       \n",
       "19996                                           3.887947       \n",
       "19997                                           4.065376       \n",
       "19998                                           3.959185       \n",
       "19999                                           3.760221       \n",
       "\n",
       "       heart__matrix_profile__feature_\"median\"__threshold_0.98  \\\n",
       "0                                               8.617214         \n",
       "1                                               2.493456         \n",
       "2                                               2.544021         \n",
       "3                                               4.898979         \n",
       "4                                               4.069471         \n",
       "...                                                  ...         \n",
       "19995                                           2.638233         \n",
       "19996                                           5.656854         \n",
       "19997                                           3.262211         \n",
       "19998                                           3.319400         \n",
       "19999                                           3.602865         \n",
       "\n",
       "       heart__matrix_profile__feature_\"25\"__threshold_0.98  \\\n",
       "0                                               7.755632     \n",
       "1                                               1.542105     \n",
       "2                                               2.001595     \n",
       "3                                               1.675526     \n",
       "4                                               2.504790     \n",
       "...                                                  ...     \n",
       "19995                                           1.750577     \n",
       "19996                                           1.840969     \n",
       "19997                                           2.109789     \n",
       "19998                                           1.931350     \n",
       "19999                                           1.895006     \n",
       "\n",
       "       heart__matrix_profile__feature_\"75\"__threshold_0.98  \\\n",
       "0                                              10.770330     \n",
       "1                                               3.698144     \n",
       "2                                               5.656854     \n",
       "3                                               4.898979     \n",
       "4                                               8.000000     \n",
       "...                                                  ...     \n",
       "19995                                           6.633250     \n",
       "19996                                           5.656854     \n",
       "19997                                           6.324555     \n",
       "19998                                           6.000000     \n",
       "19999                                           5.656854     \n",
       "\n",
       "       heart__mean_n_absolute_max__number_of_maxima_7  \n",
       "0                                            0.865171  \n",
       "1                                            0.846200  \n",
       "2                                            0.797139  \n",
       "3                                            0.880869  \n",
       "4                                            0.867518  \n",
       "...                                               ...  \n",
       "19995                                        0.714023  \n",
       "19996                                        0.799713  \n",
       "19997                                        0.835894  \n",
       "19998                                        0.718066  \n",
       "19999                                        0.763472  \n",
       "\n",
       "[20000 rows x 789 columns]"
      ]
     },
     "execution_count": 36,
     "metadata": {},
     "output_type": "execute_result"
    }
   ],
   "source": [
    "# 特征提取\n",
    "extraction_settings = ComprehensiveFCParameters()\n",
    "\n",
    "# 对test进行处理\n",
    "features_df_test = pd.DataFrame()\n",
    "for i in range (0, index_test, 1000):\n",
    "    start_id = i\n",
    "    end_id = i + 999\n",
    "    print(start_id, end_id)\n",
    "    # 切分数据\n",
    "    temp_df = test_4.iloc[start_id*205: (end_id+1)*205]\n",
    "    # 特征提取\n",
    "    # 从时序中抽取特征， 这里使用impute去掉NaN特征\n",
    "    features = extract_features(temp_df, column_id='id', column_sort='time',\n",
    "                         default_fc_parameters=extraction_settings,\n",
    "                         # we impute = remove all NaN features automatically\n",
    "                         impute_function=impute)\n",
    "    features_df_test = features_df_test.append(features, ignore_index = True)\n",
    "\n",
    "features_df_test.to_pickle('./feature_df_test.pkl')\n",
    "features_df_test"
   ]
  },
  {
   "cell_type": "code",
   "execution_count": 5,
   "id": "a1c1f0de",
   "metadata": {},
   "outputs": [
    {
     "data": {
      "text/html": [
       "<div>\n",
       "<style scoped>\n",
       "    .dataframe tbody tr th:only-of-type {\n",
       "        vertical-align: middle;\n",
       "    }\n",
       "\n",
       "    .dataframe tbody tr th {\n",
       "        vertical-align: top;\n",
       "    }\n",
       "\n",
       "    .dataframe thead th {\n",
       "        text-align: right;\n",
       "    }\n",
       "</style>\n",
       "<table border=\"1\" class=\"dataframe\">\n",
       "  <thead>\n",
       "    <tr style=\"text-align: right;\">\n",
       "      <th></th>\n",
       "      <th>heart__sum_values</th>\n",
       "      <th>heart__fft_coefficient__attr_\"abs\"__coeff_36</th>\n",
       "      <th>heart__fft_coefficient__attr_\"abs\"__coeff_35</th>\n",
       "      <th>heart__fft_coefficient__attr_\"abs\"__coeff_34</th>\n",
       "      <th>heart__fft_coefficient__attr_\"abs\"__coeff_33</th>\n",
       "      <th>heart__fft_coefficient__attr_\"abs\"__coeff_32</th>\n",
       "      <th>heart__fft_coefficient__attr_\"abs\"__coeff_31</th>\n",
       "      <th>heart__fft_coefficient__attr_\"abs\"__coeff_30</th>\n",
       "      <th>heart__fft_coefficient__attr_\"abs\"__coeff_29</th>\n",
       "      <th>heart__fft_coefficient__attr_\"abs\"__coeff_28</th>\n",
       "      <th>...</th>\n",
       "      <th>heart__fft_coefficient__attr_\"abs\"__coeff_84</th>\n",
       "      <th>heart__fft_coefficient__attr_\"imag\"__coeff_97</th>\n",
       "      <th>heart__fft_coefficient__attr_\"abs\"__coeff_90</th>\n",
       "      <th>heart__fft_coefficient__attr_\"abs\"__coeff_94</th>\n",
       "      <th>heart__fft_coefficient__attr_\"abs\"__coeff_92</th>\n",
       "      <th>heart__fft_coefficient__attr_\"real\"__coeff_97</th>\n",
       "      <th>heart__fft_coefficient__attr_\"abs\"__coeff_75</th>\n",
       "      <th>heart__fft_coefficient__attr_\"real\"__coeff_88</th>\n",
       "      <th>heart__fft_coefficient__attr_\"real\"__coeff_92</th>\n",
       "      <th>heart__fft_coefficient__attr_\"real\"__coeff_83</th>\n",
       "    </tr>\n",
       "  </thead>\n",
       "  <tbody>\n",
       "    <tr>\n",
       "      <th>0</th>\n",
       "      <td>38.927948</td>\n",
       "      <td>0.848728</td>\n",
       "      <td>1.168684</td>\n",
       "      <td>0.982133</td>\n",
       "      <td>1.223496</td>\n",
       "      <td>1.236300</td>\n",
       "      <td>1.104172</td>\n",
       "      <td>1.497129</td>\n",
       "      <td>1.358096</td>\n",
       "      <td>1.704225</td>\n",
       "      <td>...</td>\n",
       "      <td>0.531883</td>\n",
       "      <td>-0.047438</td>\n",
       "      <td>0.554370</td>\n",
       "      <td>0.307585</td>\n",
       "      <td>0.564596</td>\n",
       "      <td>0.562960</td>\n",
       "      <td>0.591859</td>\n",
       "      <td>0.504124</td>\n",
       "      <td>0.528450</td>\n",
       "      <td>0.473568</td>\n",
       "    </tr>\n",
       "    <tr>\n",
       "      <th>1</th>\n",
       "      <td>19.445633</td>\n",
       "      <td>1.850706</td>\n",
       "      <td>1.460752</td>\n",
       "      <td>1.924501</td>\n",
       "      <td>1.925485</td>\n",
       "      <td>1.715938</td>\n",
       "      <td>2.079957</td>\n",
       "      <td>1.818636</td>\n",
       "      <td>2.490450</td>\n",
       "      <td>1.673244</td>\n",
       "      <td>...</td>\n",
       "      <td>0.563590</td>\n",
       "      <td>-0.109579</td>\n",
       "      <td>0.697446</td>\n",
       "      <td>0.398073</td>\n",
       "      <td>0.640969</td>\n",
       "      <td>0.270192</td>\n",
       "      <td>0.224925</td>\n",
       "      <td>0.645082</td>\n",
       "      <td>0.635135</td>\n",
       "      <td>0.297325</td>\n",
       "    </tr>\n",
       "    <tr>\n",
       "      <th>2</th>\n",
       "      <td>21.192974</td>\n",
       "      <td>1.215343</td>\n",
       "      <td>1.787166</td>\n",
       "      <td>2.146987</td>\n",
       "      <td>1.686190</td>\n",
       "      <td>1.540137</td>\n",
       "      <td>2.291031</td>\n",
       "      <td>2.403422</td>\n",
       "      <td>1.765422</td>\n",
       "      <td>1.993213</td>\n",
       "      <td>...</td>\n",
       "      <td>0.712487</td>\n",
       "      <td>-0.074042</td>\n",
       "      <td>0.321703</td>\n",
       "      <td>0.390386</td>\n",
       "      <td>0.716929</td>\n",
       "      <td>0.316524</td>\n",
       "      <td>0.422077</td>\n",
       "      <td>0.722742</td>\n",
       "      <td>0.680590</td>\n",
       "      <td>0.383754</td>\n",
       "    </tr>\n",
       "    <tr>\n",
       "      <th>3</th>\n",
       "      <td>42.113068</td>\n",
       "      <td>2.366413</td>\n",
       "      <td>2.071540</td>\n",
       "      <td>1.000340</td>\n",
       "      <td>2.728281</td>\n",
       "      <td>1.391727</td>\n",
       "      <td>2.017176</td>\n",
       "      <td>2.610492</td>\n",
       "      <td>0.747448</td>\n",
       "      <td>2.900299</td>\n",
       "      <td>...</td>\n",
       "      <td>0.601499</td>\n",
       "      <td>-0.184248</td>\n",
       "      <td>0.564669</td>\n",
       "      <td>0.623353</td>\n",
       "      <td>0.466980</td>\n",
       "      <td>0.651775</td>\n",
       "      <td>0.308915</td>\n",
       "      <td>0.550097</td>\n",
       "      <td>0.466904</td>\n",
       "      <td>0.494024</td>\n",
       "    </tr>\n",
       "    <tr>\n",
       "      <th>4</th>\n",
       "      <td>69.756783</td>\n",
       "      <td>0.092119</td>\n",
       "      <td>0.653924</td>\n",
       "      <td>0.231422</td>\n",
       "      <td>1.080003</td>\n",
       "      <td>0.711244</td>\n",
       "      <td>1.357904</td>\n",
       "      <td>1.237998</td>\n",
       "      <td>1.346404</td>\n",
       "      <td>1.645869</td>\n",
       "      <td>...</td>\n",
       "      <td>0.015292</td>\n",
       "      <td>0.070505</td>\n",
       "      <td>0.065835</td>\n",
       "      <td>0.051780</td>\n",
       "      <td>0.092940</td>\n",
       "      <td>0.103773</td>\n",
       "      <td>0.179405</td>\n",
       "      <td>-0.089611</td>\n",
       "      <td>0.091841</td>\n",
       "      <td>0.056867</td>\n",
       "    </tr>\n",
       "    <tr>\n",
       "      <th>...</th>\n",
       "      <td>...</td>\n",
       "      <td>...</td>\n",
       "      <td>...</td>\n",
       "      <td>...</td>\n",
       "      <td>...</td>\n",
       "      <td>...</td>\n",
       "      <td>...</td>\n",
       "      <td>...</td>\n",
       "      <td>...</td>\n",
       "      <td>...</td>\n",
       "      <td>...</td>\n",
       "      <td>...</td>\n",
       "      <td>...</td>\n",
       "      <td>...</td>\n",
       "      <td>...</td>\n",
       "      <td>...</td>\n",
       "      <td>...</td>\n",
       "      <td>...</td>\n",
       "      <td>...</td>\n",
       "      <td>...</td>\n",
       "      <td>...</td>\n",
       "    </tr>\n",
       "    <tr>\n",
       "      <th>99995</th>\n",
       "      <td>63.323452</td>\n",
       "      <td>1.396236</td>\n",
       "      <td>0.417221</td>\n",
       "      <td>2.036034</td>\n",
       "      <td>1.659054</td>\n",
       "      <td>0.500584</td>\n",
       "      <td>1.693545</td>\n",
       "      <td>0.859932</td>\n",
       "      <td>1.963009</td>\n",
       "      <td>1.524831</td>\n",
       "      <td>...</td>\n",
       "      <td>0.779955</td>\n",
       "      <td>0.005525</td>\n",
       "      <td>0.486013</td>\n",
       "      <td>0.273372</td>\n",
       "      <td>0.705386</td>\n",
       "      <td>0.602898</td>\n",
       "      <td>0.447929</td>\n",
       "      <td>0.474844</td>\n",
       "      <td>0.564266</td>\n",
       "      <td>0.133969</td>\n",
       "    </tr>\n",
       "    <tr>\n",
       "      <th>99996</th>\n",
       "      <td>69.657532</td>\n",
       "      <td>0.989147</td>\n",
       "      <td>1.611333</td>\n",
       "      <td>1.793044</td>\n",
       "      <td>1.092325</td>\n",
       "      <td>0.507139</td>\n",
       "      <td>1.763940</td>\n",
       "      <td>2.677643</td>\n",
       "      <td>2.640827</td>\n",
       "      <td>1.128049</td>\n",
       "      <td>...</td>\n",
       "      <td>0.539489</td>\n",
       "      <td>0.114670</td>\n",
       "      <td>0.579498</td>\n",
       "      <td>0.417226</td>\n",
       "      <td>0.270110</td>\n",
       "      <td>0.556596</td>\n",
       "      <td>0.703258</td>\n",
       "      <td>0.462312</td>\n",
       "      <td>0.269719</td>\n",
       "      <td>0.539236</td>\n",
       "    </tr>\n",
       "    <tr>\n",
       "      <th>99997</th>\n",
       "      <td>40.897057</td>\n",
       "      <td>0.706396</td>\n",
       "      <td>1.190514</td>\n",
       "      <td>0.674603</td>\n",
       "      <td>1.632769</td>\n",
       "      <td>0.229009</td>\n",
       "      <td>2.027802</td>\n",
       "      <td>0.302457</td>\n",
       "      <td>2.016243</td>\n",
       "      <td>0.352602</td>\n",
       "      <td>...</td>\n",
       "      <td>0.282597</td>\n",
       "      <td>-0.474629</td>\n",
       "      <td>0.460647</td>\n",
       "      <td>0.478341</td>\n",
       "      <td>0.527891</td>\n",
       "      <td>0.904111</td>\n",
       "      <td>0.728529</td>\n",
       "      <td>0.178410</td>\n",
       "      <td>0.500813</td>\n",
       "      <td>0.773985</td>\n",
       "    </tr>\n",
       "    <tr>\n",
       "      <th>99998</th>\n",
       "      <td>42.333302</td>\n",
       "      <td>2.238589</td>\n",
       "      <td>1.237608</td>\n",
       "      <td>1.325212</td>\n",
       "      <td>2.785515</td>\n",
       "      <td>1.918571</td>\n",
       "      <td>0.814167</td>\n",
       "      <td>2.613950</td>\n",
       "      <td>2.083409</td>\n",
       "      <td>1.330934</td>\n",
       "      <td>...</td>\n",
       "      <td>0.594252</td>\n",
       "      <td>-0.162106</td>\n",
       "      <td>0.694276</td>\n",
       "      <td>0.681025</td>\n",
       "      <td>0.357196</td>\n",
       "      <td>0.498088</td>\n",
       "      <td>0.433297</td>\n",
       "      <td>0.406154</td>\n",
       "      <td>0.324771</td>\n",
       "      <td>0.340727</td>\n",
       "    </tr>\n",
       "    <tr>\n",
       "      <th>99999</th>\n",
       "      <td>53.290115</td>\n",
       "      <td>2.936555</td>\n",
       "      <td>0.154759</td>\n",
       "      <td>2.921164</td>\n",
       "      <td>2.183931</td>\n",
       "      <td>1.485150</td>\n",
       "      <td>2.685922</td>\n",
       "      <td>0.583443</td>\n",
       "      <td>3.101826</td>\n",
       "      <td>1.264842</td>\n",
       "      <td>...</td>\n",
       "      <td>0.463697</td>\n",
       "      <td>0.289364</td>\n",
       "      <td>0.285321</td>\n",
       "      <td>0.422103</td>\n",
       "      <td>0.692009</td>\n",
       "      <td>0.276236</td>\n",
       "      <td>0.245781</td>\n",
       "      <td>0.269519</td>\n",
       "      <td>0.681719</td>\n",
       "      <td>-0.053993</td>\n",
       "    </tr>\n",
       "  </tbody>\n",
       "</table>\n",
       "<p>100000 rows × 703 columns</p>\n",
       "</div>"
      ],
      "text/plain": [
       "       heart__sum_values  heart__fft_coefficient__attr_\"abs\"__coeff_36  \\\n",
       "0              38.927948                                      0.848728   \n",
       "1              19.445633                                      1.850706   \n",
       "2              21.192974                                      1.215343   \n",
       "3              42.113068                                      2.366413   \n",
       "4              69.756783                                      0.092119   \n",
       "...                  ...                                           ...   \n",
       "99995          63.323452                                      1.396236   \n",
       "99996          69.657532                                      0.989147   \n",
       "99997          40.897057                                      0.706396   \n",
       "99998          42.333302                                      2.238589   \n",
       "99999          53.290115                                      2.936555   \n",
       "\n",
       "       heart__fft_coefficient__attr_\"abs\"__coeff_35  \\\n",
       "0                                          1.168684   \n",
       "1                                          1.460752   \n",
       "2                                          1.787166   \n",
       "3                                          2.071540   \n",
       "4                                          0.653924   \n",
       "...                                             ...   \n",
       "99995                                      0.417221   \n",
       "99996                                      1.611333   \n",
       "99997                                      1.190514   \n",
       "99998                                      1.237608   \n",
       "99999                                      0.154759   \n",
       "\n",
       "       heart__fft_coefficient__attr_\"abs\"__coeff_34  \\\n",
       "0                                          0.982133   \n",
       "1                                          1.924501   \n",
       "2                                          2.146987   \n",
       "3                                          1.000340   \n",
       "4                                          0.231422   \n",
       "...                                             ...   \n",
       "99995                                      2.036034   \n",
       "99996                                      1.793044   \n",
       "99997                                      0.674603   \n",
       "99998                                      1.325212   \n",
       "99999                                      2.921164   \n",
       "\n",
       "       heart__fft_coefficient__attr_\"abs\"__coeff_33  \\\n",
       "0                                          1.223496   \n",
       "1                                          1.925485   \n",
       "2                                          1.686190   \n",
       "3                                          2.728281   \n",
       "4                                          1.080003   \n",
       "...                                             ...   \n",
       "99995                                      1.659054   \n",
       "99996                                      1.092325   \n",
       "99997                                      1.632769   \n",
       "99998                                      2.785515   \n",
       "99999                                      2.183931   \n",
       "\n",
       "       heart__fft_coefficient__attr_\"abs\"__coeff_32  \\\n",
       "0                                          1.236300   \n",
       "1                                          1.715938   \n",
       "2                                          1.540137   \n",
       "3                                          1.391727   \n",
       "4                                          0.711244   \n",
       "...                                             ...   \n",
       "99995                                      0.500584   \n",
       "99996                                      0.507139   \n",
       "99997                                      0.229009   \n",
       "99998                                      1.918571   \n",
       "99999                                      1.485150   \n",
       "\n",
       "       heart__fft_coefficient__attr_\"abs\"__coeff_31  \\\n",
       "0                                          1.104172   \n",
       "1                                          2.079957   \n",
       "2                                          2.291031   \n",
       "3                                          2.017176   \n",
       "4                                          1.357904   \n",
       "...                                             ...   \n",
       "99995                                      1.693545   \n",
       "99996                                      1.763940   \n",
       "99997                                      2.027802   \n",
       "99998                                      0.814167   \n",
       "99999                                      2.685922   \n",
       "\n",
       "       heart__fft_coefficient__attr_\"abs\"__coeff_30  \\\n",
       "0                                          1.497129   \n",
       "1                                          1.818636   \n",
       "2                                          2.403422   \n",
       "3                                          2.610492   \n",
       "4                                          1.237998   \n",
       "...                                             ...   \n",
       "99995                                      0.859932   \n",
       "99996                                      2.677643   \n",
       "99997                                      0.302457   \n",
       "99998                                      2.613950   \n",
       "99999                                      0.583443   \n",
       "\n",
       "       heart__fft_coefficient__attr_\"abs\"__coeff_29  \\\n",
       "0                                          1.358096   \n",
       "1                                          2.490450   \n",
       "2                                          1.765422   \n",
       "3                                          0.747448   \n",
       "4                                          1.346404   \n",
       "...                                             ...   \n",
       "99995                                      1.963009   \n",
       "99996                                      2.640827   \n",
       "99997                                      2.016243   \n",
       "99998                                      2.083409   \n",
       "99999                                      3.101826   \n",
       "\n",
       "       heart__fft_coefficient__attr_\"abs\"__coeff_28  ...  \\\n",
       "0                                          1.704225  ...   \n",
       "1                                          1.673244  ...   \n",
       "2                                          1.993213  ...   \n",
       "3                                          2.900299  ...   \n",
       "4                                          1.645869  ...   \n",
       "...                                             ...  ...   \n",
       "99995                                      1.524831  ...   \n",
       "99996                                      1.128049  ...   \n",
       "99997                                      0.352602  ...   \n",
       "99998                                      1.330934  ...   \n",
       "99999                                      1.264842  ...   \n",
       "\n",
       "       heart__fft_coefficient__attr_\"abs\"__coeff_84  \\\n",
       "0                                          0.531883   \n",
       "1                                          0.563590   \n",
       "2                                          0.712487   \n",
       "3                                          0.601499   \n",
       "4                                          0.015292   \n",
       "...                                             ...   \n",
       "99995                                      0.779955   \n",
       "99996                                      0.539489   \n",
       "99997                                      0.282597   \n",
       "99998                                      0.594252   \n",
       "99999                                      0.463697   \n",
       "\n",
       "       heart__fft_coefficient__attr_\"imag\"__coeff_97  \\\n",
       "0                                          -0.047438   \n",
       "1                                          -0.109579   \n",
       "2                                          -0.074042   \n",
       "3                                          -0.184248   \n",
       "4                                           0.070505   \n",
       "...                                              ...   \n",
       "99995                                       0.005525   \n",
       "99996                                       0.114670   \n",
       "99997                                      -0.474629   \n",
       "99998                                      -0.162106   \n",
       "99999                                       0.289364   \n",
       "\n",
       "       heart__fft_coefficient__attr_\"abs\"__coeff_90  \\\n",
       "0                                          0.554370   \n",
       "1                                          0.697446   \n",
       "2                                          0.321703   \n",
       "3                                          0.564669   \n",
       "4                                          0.065835   \n",
       "...                                             ...   \n",
       "99995                                      0.486013   \n",
       "99996                                      0.579498   \n",
       "99997                                      0.460647   \n",
       "99998                                      0.694276   \n",
       "99999                                      0.285321   \n",
       "\n",
       "       heart__fft_coefficient__attr_\"abs\"__coeff_94  \\\n",
       "0                                          0.307585   \n",
       "1                                          0.398073   \n",
       "2                                          0.390386   \n",
       "3                                          0.623353   \n",
       "4                                          0.051780   \n",
       "...                                             ...   \n",
       "99995                                      0.273372   \n",
       "99996                                      0.417226   \n",
       "99997                                      0.478341   \n",
       "99998                                      0.681025   \n",
       "99999                                      0.422103   \n",
       "\n",
       "       heart__fft_coefficient__attr_\"abs\"__coeff_92  \\\n",
       "0                                          0.564596   \n",
       "1                                          0.640969   \n",
       "2                                          0.716929   \n",
       "3                                          0.466980   \n",
       "4                                          0.092940   \n",
       "...                                             ...   \n",
       "99995                                      0.705386   \n",
       "99996                                      0.270110   \n",
       "99997                                      0.527891   \n",
       "99998                                      0.357196   \n",
       "99999                                      0.692009   \n",
       "\n",
       "       heart__fft_coefficient__attr_\"real\"__coeff_97  \\\n",
       "0                                           0.562960   \n",
       "1                                           0.270192   \n",
       "2                                           0.316524   \n",
       "3                                           0.651775   \n",
       "4                                           0.103773   \n",
       "...                                              ...   \n",
       "99995                                       0.602898   \n",
       "99996                                       0.556596   \n",
       "99997                                       0.904111   \n",
       "99998                                       0.498088   \n",
       "99999                                       0.276236   \n",
       "\n",
       "       heart__fft_coefficient__attr_\"abs\"__coeff_75  \\\n",
       "0                                          0.591859   \n",
       "1                                          0.224925   \n",
       "2                                          0.422077   \n",
       "3                                          0.308915   \n",
       "4                                          0.179405   \n",
       "...                                             ...   \n",
       "99995                                      0.447929   \n",
       "99996                                      0.703258   \n",
       "99997                                      0.728529   \n",
       "99998                                      0.433297   \n",
       "99999                                      0.245781   \n",
       "\n",
       "       heart__fft_coefficient__attr_\"real\"__coeff_88  \\\n",
       "0                                           0.504124   \n",
       "1                                           0.645082   \n",
       "2                                           0.722742   \n",
       "3                                           0.550097   \n",
       "4                                          -0.089611   \n",
       "...                                              ...   \n",
       "99995                                       0.474844   \n",
       "99996                                       0.462312   \n",
       "99997                                       0.178410   \n",
       "99998                                       0.406154   \n",
       "99999                                       0.269519   \n",
       "\n",
       "       heart__fft_coefficient__attr_\"real\"__coeff_92  \\\n",
       "0                                           0.528450   \n",
       "1                                           0.635135   \n",
       "2                                           0.680590   \n",
       "3                                           0.466904   \n",
       "4                                           0.091841   \n",
       "...                                              ...   \n",
       "99995                                       0.564266   \n",
       "99996                                       0.269719   \n",
       "99997                                       0.500813   \n",
       "99998                                       0.324771   \n",
       "99999                                       0.681719   \n",
       "\n",
       "       heart__fft_coefficient__attr_\"real\"__coeff_83  \n",
       "0                                           0.473568  \n",
       "1                                           0.297325  \n",
       "2                                           0.383754  \n",
       "3                                           0.494024  \n",
       "4                                           0.056867  \n",
       "...                                              ...  \n",
       "99995                                       0.133969  \n",
       "99996                                       0.539236  \n",
       "99997                                       0.773985  \n",
       "99998                                       0.340727  \n",
       "99999                                      -0.053993  \n",
       "\n",
       "[100000 rows x 703 columns]"
      ]
     },
     "execution_count": 5,
     "metadata": {},
     "output_type": "execute_result"
    }
   ],
   "source": [
    "features_filtered = select_features(features_df, train['label'])\n",
    "features_filtered"
   ]
  },
  {
   "cell_type": "code",
   "execution_count": 8,
   "id": "567ceda8",
   "metadata": {
    "ExecuteTime": {
     "end_time": "2022-03-27T12:32:12.357459Z",
     "start_time": "2022-03-27T12:32:12.357459Z"
    }
   },
   "outputs": [
    {
     "data": {
      "text/html": [
       "<div>\n",
       "<style scoped>\n",
       "    .dataframe tbody tr th:only-of-type {\n",
       "        vertical-align: middle;\n",
       "    }\n",
       "\n",
       "    .dataframe tbody tr th {\n",
       "        vertical-align: top;\n",
       "    }\n",
       "\n",
       "    .dataframe thead th {\n",
       "        text-align: right;\n",
       "    }\n",
       "</style>\n",
       "<table border=\"1\" class=\"dataframe\">\n",
       "  <thead>\n",
       "    <tr style=\"text-align: right;\">\n",
       "      <th></th>\n",
       "      <th>heart__sum_values</th>\n",
       "      <th>heart__fft_coefficient__attr_\"abs\"__coeff_36</th>\n",
       "      <th>heart__fft_coefficient__attr_\"abs\"__coeff_35</th>\n",
       "      <th>heart__fft_coefficient__attr_\"abs\"__coeff_34</th>\n",
       "      <th>heart__fft_coefficient__attr_\"abs\"__coeff_33</th>\n",
       "      <th>heart__fft_coefficient__attr_\"abs\"__coeff_32</th>\n",
       "      <th>heart__fft_coefficient__attr_\"abs\"__coeff_31</th>\n",
       "      <th>heart__fft_coefficient__attr_\"abs\"__coeff_30</th>\n",
       "      <th>heart__fft_coefficient__attr_\"abs\"__coeff_29</th>\n",
       "      <th>heart__fft_coefficient__attr_\"abs\"__coeff_28</th>\n",
       "      <th>...</th>\n",
       "      <th>heart__fft_coefficient__attr_\"abs\"__coeff_84</th>\n",
       "      <th>heart__fft_coefficient__attr_\"imag\"__coeff_97</th>\n",
       "      <th>heart__fft_coefficient__attr_\"abs\"__coeff_90</th>\n",
       "      <th>heart__fft_coefficient__attr_\"abs\"__coeff_94</th>\n",
       "      <th>heart__fft_coefficient__attr_\"abs\"__coeff_92</th>\n",
       "      <th>heart__fft_coefficient__attr_\"real\"__coeff_97</th>\n",
       "      <th>heart__fft_coefficient__attr_\"abs\"__coeff_75</th>\n",
       "      <th>heart__fft_coefficient__attr_\"real\"__coeff_88</th>\n",
       "      <th>heart__fft_coefficient__attr_\"real\"__coeff_92</th>\n",
       "      <th>heart__fft_coefficient__attr_\"real\"__coeff_83</th>\n",
       "    </tr>\n",
       "  </thead>\n",
       "  <tbody>\n",
       "    <tr>\n",
       "      <th>0</th>\n",
       "      <td>19.229864</td>\n",
       "      <td>2.509869</td>\n",
       "      <td>1.082112</td>\n",
       "      <td>2.517858</td>\n",
       "      <td>1.656104</td>\n",
       "      <td>2.257162</td>\n",
       "      <td>2.213421</td>\n",
       "      <td>1.815374</td>\n",
       "      <td>2.789240</td>\n",
       "      <td>1.313624</td>\n",
       "      <td>...</td>\n",
       "      <td>0.563470</td>\n",
       "      <td>-0.040576</td>\n",
       "      <td>0.485441</td>\n",
       "      <td>0.472059</td>\n",
       "      <td>0.448017</td>\n",
       "      <td>0.449347</td>\n",
       "      <td>0.479951</td>\n",
       "      <td>0.480448</td>\n",
       "      <td>0.442279</td>\n",
       "      <td>0.355992</td>\n",
       "    </tr>\n",
       "    <tr>\n",
       "      <th>1</th>\n",
       "      <td>84.298927</td>\n",
       "      <td>0.616261</td>\n",
       "      <td>0.293339</td>\n",
       "      <td>0.191558</td>\n",
       "      <td>0.528684</td>\n",
       "      <td>1.010080</td>\n",
       "      <td>1.478182</td>\n",
       "      <td>1.713876</td>\n",
       "      <td>1.776822</td>\n",
       "      <td>1.986185</td>\n",
       "      <td>...</td>\n",
       "      <td>0.037307</td>\n",
       "      <td>0.010074</td>\n",
       "      <td>0.272897</td>\n",
       "      <td>0.247538</td>\n",
       "      <td>0.286948</td>\n",
       "      <td>0.143829</td>\n",
       "      <td>0.189416</td>\n",
       "      <td>0.124293</td>\n",
       "      <td>0.154624</td>\n",
       "      <td>0.077530</td>\n",
       "    </tr>\n",
       "    <tr>\n",
       "      <th>2</th>\n",
       "      <td>47.789925</td>\n",
       "      <td>1.004378</td>\n",
       "      <td>0.951231</td>\n",
       "      <td>1.542114</td>\n",
       "      <td>0.946219</td>\n",
       "      <td>1.673430</td>\n",
       "      <td>1.445220</td>\n",
       "      <td>1.118439</td>\n",
       "      <td>1.964690</td>\n",
       "      <td>0.909907</td>\n",
       "      <td>...</td>\n",
       "      <td>0.738423</td>\n",
       "      <td>-0.159505</td>\n",
       "      <td>0.418298</td>\n",
       "      <td>0.566628</td>\n",
       "      <td>0.849684</td>\n",
       "      <td>0.950851</td>\n",
       "      <td>0.779324</td>\n",
       "      <td>0.439255</td>\n",
       "      <td>0.839315</td>\n",
       "      <td>0.454957</td>\n",
       "    </tr>\n",
       "    <tr>\n",
       "      <th>3</th>\n",
       "      <td>47.069012</td>\n",
       "      <td>3.392946</td>\n",
       "      <td>3.054216</td>\n",
       "      <td>0.726293</td>\n",
       "      <td>3.582653</td>\n",
       "      <td>2.414946</td>\n",
       "      <td>1.257669</td>\n",
       "      <td>3.188068</td>\n",
       "      <td>2.066035</td>\n",
       "      <td>1.146562</td>\n",
       "      <td>...</td>\n",
       "      <td>0.273141</td>\n",
       "      <td>0.366949</td>\n",
       "      <td>0.891690</td>\n",
       "      <td>0.214585</td>\n",
       "      <td>0.927562</td>\n",
       "      <td>0.648872</td>\n",
       "      <td>0.730178</td>\n",
       "      <td>0.606528</td>\n",
       "      <td>0.830105</td>\n",
       "      <td>0.662320</td>\n",
       "    </tr>\n",
       "    <tr>\n",
       "      <th>4</th>\n",
       "      <td>24.899395</td>\n",
       "      <td>0.536501</td>\n",
       "      <td>1.712592</td>\n",
       "      <td>1.044629</td>\n",
       "      <td>1.533405</td>\n",
       "      <td>1.330258</td>\n",
       "      <td>1.251771</td>\n",
       "      <td>1.441028</td>\n",
       "      <td>1.176947</td>\n",
       "      <td>1.901223</td>\n",
       "      <td>...</td>\n",
       "      <td>0.644046</td>\n",
       "      <td>-0.129700</td>\n",
       "      <td>0.578559</td>\n",
       "      <td>0.783258</td>\n",
       "      <td>0.480598</td>\n",
       "      <td>0.485003</td>\n",
       "      <td>0.667111</td>\n",
       "      <td>0.594234</td>\n",
       "      <td>0.447980</td>\n",
       "      <td>0.511133</td>\n",
       "    </tr>\n",
       "    <tr>\n",
       "      <th>...</th>\n",
       "      <td>...</td>\n",
       "      <td>...</td>\n",
       "      <td>...</td>\n",
       "      <td>...</td>\n",
       "      <td>...</td>\n",
       "      <td>...</td>\n",
       "      <td>...</td>\n",
       "      <td>...</td>\n",
       "      <td>...</td>\n",
       "      <td>...</td>\n",
       "      <td>...</td>\n",
       "      <td>...</td>\n",
       "      <td>...</td>\n",
       "      <td>...</td>\n",
       "      <td>...</td>\n",
       "      <td>...</td>\n",
       "      <td>...</td>\n",
       "      <td>...</td>\n",
       "      <td>...</td>\n",
       "      <td>...</td>\n",
       "      <td>...</td>\n",
       "    </tr>\n",
       "    <tr>\n",
       "      <th>19995</th>\n",
       "      <td>43.175133</td>\n",
       "      <td>1.986940</td>\n",
       "      <td>0.393550</td>\n",
       "      <td>1.693620</td>\n",
       "      <td>1.139395</td>\n",
       "      <td>1.459990</td>\n",
       "      <td>1.734535</td>\n",
       "      <td>1.025180</td>\n",
       "      <td>1.911093</td>\n",
       "      <td>0.382575</td>\n",
       "      <td>...</td>\n",
       "      <td>0.546742</td>\n",
       "      <td>-0.060254</td>\n",
       "      <td>0.507950</td>\n",
       "      <td>0.560193</td>\n",
       "      <td>0.541534</td>\n",
       "      <td>0.249750</td>\n",
       "      <td>0.608796</td>\n",
       "      <td>0.455444</td>\n",
       "      <td>0.535306</td>\n",
       "      <td>0.268471</td>\n",
       "    </tr>\n",
       "    <tr>\n",
       "      <th>19996</th>\n",
       "      <td>31.030783</td>\n",
       "      <td>1.105440</td>\n",
       "      <td>1.979721</td>\n",
       "      <td>2.821799</td>\n",
       "      <td>0.475276</td>\n",
       "      <td>2.782573</td>\n",
       "      <td>2.827882</td>\n",
       "      <td>0.520034</td>\n",
       "      <td>3.177382</td>\n",
       "      <td>2.364181</td>\n",
       "      <td>...</td>\n",
       "      <td>0.491662</td>\n",
       "      <td>0.016413</td>\n",
       "      <td>0.480380</td>\n",
       "      <td>0.459171</td>\n",
       "      <td>0.363756</td>\n",
       "      <td>0.427028</td>\n",
       "      <td>0.544692</td>\n",
       "      <td>0.754834</td>\n",
       "      <td>0.361866</td>\n",
       "      <td>0.536087</td>\n",
       "    </tr>\n",
       "    <tr>\n",
       "      <th>19997</th>\n",
       "      <td>31.648623</td>\n",
       "      <td>2.340499</td>\n",
       "      <td>1.362651</td>\n",
       "      <td>1.942634</td>\n",
       "      <td>2.043679</td>\n",
       "      <td>0.994065</td>\n",
       "      <td>2.248144</td>\n",
       "      <td>1.007128</td>\n",
       "      <td>2.084967</td>\n",
       "      <td>2.363280</td>\n",
       "      <td>...</td>\n",
       "      <td>0.529880</td>\n",
       "      <td>0.001012</td>\n",
       "      <td>0.768960</td>\n",
       "      <td>0.834159</td>\n",
       "      <td>0.672114</td>\n",
       "      <td>0.520215</td>\n",
       "      <td>0.341519</td>\n",
       "      <td>0.713419</td>\n",
       "      <td>0.664354</td>\n",
       "      <td>0.370047</td>\n",
       "    </tr>\n",
       "    <tr>\n",
       "      <th>19998</th>\n",
       "      <td>19.305441</td>\n",
       "      <td>1.051282</td>\n",
       "      <td>1.742370</td>\n",
       "      <td>2.164058</td>\n",
       "      <td>0.435582</td>\n",
       "      <td>2.649994</td>\n",
       "      <td>1.190594</td>\n",
       "      <td>2.328580</td>\n",
       "      <td>2.672429</td>\n",
       "      <td>1.100239</td>\n",
       "      <td>...</td>\n",
       "      <td>0.527500</td>\n",
       "      <td>-0.103574</td>\n",
       "      <td>0.521222</td>\n",
       "      <td>0.426435</td>\n",
       "      <td>0.636887</td>\n",
       "      <td>0.446365</td>\n",
       "      <td>0.551442</td>\n",
       "      <td>0.503703</td>\n",
       "      <td>0.635246</td>\n",
       "      <td>0.258394</td>\n",
       "    </tr>\n",
       "    <tr>\n",
       "      <th>19999</th>\n",
       "      <td>35.204567</td>\n",
       "      <td>1.627089</td>\n",
       "      <td>1.106799</td>\n",
       "      <td>0.639821</td>\n",
       "      <td>1.350155</td>\n",
       "      <td>0.533904</td>\n",
       "      <td>1.332401</td>\n",
       "      <td>1.229578</td>\n",
       "      <td>0.343820</td>\n",
       "      <td>1.339221</td>\n",
       "      <td>...</td>\n",
       "      <td>0.248776</td>\n",
       "      <td>0.091218</td>\n",
       "      <td>0.659750</td>\n",
       "      <td>0.636282</td>\n",
       "      <td>0.319922</td>\n",
       "      <td>0.472824</td>\n",
       "      <td>0.355830</td>\n",
       "      <td>0.346311</td>\n",
       "      <td>0.312797</td>\n",
       "      <td>0.540855</td>\n",
       "    </tr>\n",
       "  </tbody>\n",
       "</table>\n",
       "<p>20000 rows × 703 columns</p>\n",
       "</div>"
      ],
      "text/plain": [
       "       heart__sum_values  heart__fft_coefficient__attr_\"abs\"__coeff_36  \\\n",
       "0              19.229864                                      2.509869   \n",
       "1              84.298927                                      0.616261   \n",
       "2              47.789925                                      1.004378   \n",
       "3              47.069012                                      3.392946   \n",
       "4              24.899395                                      0.536501   \n",
       "...                  ...                                           ...   \n",
       "19995          43.175133                                      1.986940   \n",
       "19996          31.030783                                      1.105440   \n",
       "19997          31.648623                                      2.340499   \n",
       "19998          19.305441                                      1.051282   \n",
       "19999          35.204567                                      1.627089   \n",
       "\n",
       "       heart__fft_coefficient__attr_\"abs\"__coeff_35  \\\n",
       "0                                          1.082112   \n",
       "1                                          0.293339   \n",
       "2                                          0.951231   \n",
       "3                                          3.054216   \n",
       "4                                          1.712592   \n",
       "...                                             ...   \n",
       "19995                                      0.393550   \n",
       "19996                                      1.979721   \n",
       "19997                                      1.362651   \n",
       "19998                                      1.742370   \n",
       "19999                                      1.106799   \n",
       "\n",
       "       heart__fft_coefficient__attr_\"abs\"__coeff_34  \\\n",
       "0                                          2.517858   \n",
       "1                                          0.191558   \n",
       "2                                          1.542114   \n",
       "3                                          0.726293   \n",
       "4                                          1.044629   \n",
       "...                                             ...   \n",
       "19995                                      1.693620   \n",
       "19996                                      2.821799   \n",
       "19997                                      1.942634   \n",
       "19998                                      2.164058   \n",
       "19999                                      0.639821   \n",
       "\n",
       "       heart__fft_coefficient__attr_\"abs\"__coeff_33  \\\n",
       "0                                          1.656104   \n",
       "1                                          0.528684   \n",
       "2                                          0.946219   \n",
       "3                                          3.582653   \n",
       "4                                          1.533405   \n",
       "...                                             ...   \n",
       "19995                                      1.139395   \n",
       "19996                                      0.475276   \n",
       "19997                                      2.043679   \n",
       "19998                                      0.435582   \n",
       "19999                                      1.350155   \n",
       "\n",
       "       heart__fft_coefficient__attr_\"abs\"__coeff_32  \\\n",
       "0                                          2.257162   \n",
       "1                                          1.010080   \n",
       "2                                          1.673430   \n",
       "3                                          2.414946   \n",
       "4                                          1.330258   \n",
       "...                                             ...   \n",
       "19995                                      1.459990   \n",
       "19996                                      2.782573   \n",
       "19997                                      0.994065   \n",
       "19998                                      2.649994   \n",
       "19999                                      0.533904   \n",
       "\n",
       "       heart__fft_coefficient__attr_\"abs\"__coeff_31  \\\n",
       "0                                          2.213421   \n",
       "1                                          1.478182   \n",
       "2                                          1.445220   \n",
       "3                                          1.257669   \n",
       "4                                          1.251771   \n",
       "...                                             ...   \n",
       "19995                                      1.734535   \n",
       "19996                                      2.827882   \n",
       "19997                                      2.248144   \n",
       "19998                                      1.190594   \n",
       "19999                                      1.332401   \n",
       "\n",
       "       heart__fft_coefficient__attr_\"abs\"__coeff_30  \\\n",
       "0                                          1.815374   \n",
       "1                                          1.713876   \n",
       "2                                          1.118439   \n",
       "3                                          3.188068   \n",
       "4                                          1.441028   \n",
       "...                                             ...   \n",
       "19995                                      1.025180   \n",
       "19996                                      0.520034   \n",
       "19997                                      1.007128   \n",
       "19998                                      2.328580   \n",
       "19999                                      1.229578   \n",
       "\n",
       "       heart__fft_coefficient__attr_\"abs\"__coeff_29  \\\n",
       "0                                          2.789240   \n",
       "1                                          1.776822   \n",
       "2                                          1.964690   \n",
       "3                                          2.066035   \n",
       "4                                          1.176947   \n",
       "...                                             ...   \n",
       "19995                                      1.911093   \n",
       "19996                                      3.177382   \n",
       "19997                                      2.084967   \n",
       "19998                                      2.672429   \n",
       "19999                                      0.343820   \n",
       "\n",
       "       heart__fft_coefficient__attr_\"abs\"__coeff_28  ...  \\\n",
       "0                                          1.313624  ...   \n",
       "1                                          1.986185  ...   \n",
       "2                                          0.909907  ...   \n",
       "3                                          1.146562  ...   \n",
       "4                                          1.901223  ...   \n",
       "...                                             ...  ...   \n",
       "19995                                      0.382575  ...   \n",
       "19996                                      2.364181  ...   \n",
       "19997                                      2.363280  ...   \n",
       "19998                                      1.100239  ...   \n",
       "19999                                      1.339221  ...   \n",
       "\n",
       "       heart__fft_coefficient__attr_\"abs\"__coeff_84  \\\n",
       "0                                          0.563470   \n",
       "1                                          0.037307   \n",
       "2                                          0.738423   \n",
       "3                                          0.273141   \n",
       "4                                          0.644046   \n",
       "...                                             ...   \n",
       "19995                                      0.546742   \n",
       "19996                                      0.491662   \n",
       "19997                                      0.529880   \n",
       "19998                                      0.527500   \n",
       "19999                                      0.248776   \n",
       "\n",
       "       heart__fft_coefficient__attr_\"imag\"__coeff_97  \\\n",
       "0                                          -0.040576   \n",
       "1                                           0.010074   \n",
       "2                                          -0.159505   \n",
       "3                                           0.366949   \n",
       "4                                          -0.129700   \n",
       "...                                              ...   \n",
       "19995                                      -0.060254   \n",
       "19996                                       0.016413   \n",
       "19997                                       0.001012   \n",
       "19998                                      -0.103574   \n",
       "19999                                       0.091218   \n",
       "\n",
       "       heart__fft_coefficient__attr_\"abs\"__coeff_90  \\\n",
       "0                                          0.485441   \n",
       "1                                          0.272897   \n",
       "2                                          0.418298   \n",
       "3                                          0.891690   \n",
       "4                                          0.578559   \n",
       "...                                             ...   \n",
       "19995                                      0.507950   \n",
       "19996                                      0.480380   \n",
       "19997                                      0.768960   \n",
       "19998                                      0.521222   \n",
       "19999                                      0.659750   \n",
       "\n",
       "       heart__fft_coefficient__attr_\"abs\"__coeff_94  \\\n",
       "0                                          0.472059   \n",
       "1                                          0.247538   \n",
       "2                                          0.566628   \n",
       "3                                          0.214585   \n",
       "4                                          0.783258   \n",
       "...                                             ...   \n",
       "19995                                      0.560193   \n",
       "19996                                      0.459171   \n",
       "19997                                      0.834159   \n",
       "19998                                      0.426435   \n",
       "19999                                      0.636282   \n",
       "\n",
       "       heart__fft_coefficient__attr_\"abs\"__coeff_92  \\\n",
       "0                                          0.448017   \n",
       "1                                          0.286948   \n",
       "2                                          0.849684   \n",
       "3                                          0.927562   \n",
       "4                                          0.480598   \n",
       "...                                             ...   \n",
       "19995                                      0.541534   \n",
       "19996                                      0.363756   \n",
       "19997                                      0.672114   \n",
       "19998                                      0.636887   \n",
       "19999                                      0.319922   \n",
       "\n",
       "       heart__fft_coefficient__attr_\"real\"__coeff_97  \\\n",
       "0                                           0.449347   \n",
       "1                                           0.143829   \n",
       "2                                           0.950851   \n",
       "3                                           0.648872   \n",
       "4                                           0.485003   \n",
       "...                                              ...   \n",
       "19995                                       0.249750   \n",
       "19996                                       0.427028   \n",
       "19997                                       0.520215   \n",
       "19998                                       0.446365   \n",
       "19999                                       0.472824   \n",
       "\n",
       "       heart__fft_coefficient__attr_\"abs\"__coeff_75  \\\n",
       "0                                          0.479951   \n",
       "1                                          0.189416   \n",
       "2                                          0.779324   \n",
       "3                                          0.730178   \n",
       "4                                          0.667111   \n",
       "...                                             ...   \n",
       "19995                                      0.608796   \n",
       "19996                                      0.544692   \n",
       "19997                                      0.341519   \n",
       "19998                                      0.551442   \n",
       "19999                                      0.355830   \n",
       "\n",
       "       heart__fft_coefficient__attr_\"real\"__coeff_88  \\\n",
       "0                                           0.480448   \n",
       "1                                           0.124293   \n",
       "2                                           0.439255   \n",
       "3                                           0.606528   \n",
       "4                                           0.594234   \n",
       "...                                              ...   \n",
       "19995                                       0.455444   \n",
       "19996                                       0.754834   \n",
       "19997                                       0.713419   \n",
       "19998                                       0.503703   \n",
       "19999                                       0.346311   \n",
       "\n",
       "       heart__fft_coefficient__attr_\"real\"__coeff_92  \\\n",
       "0                                           0.442279   \n",
       "1                                           0.154624   \n",
       "2                                           0.839315   \n",
       "3                                           0.830105   \n",
       "4                                           0.447980   \n",
       "...                                              ...   \n",
       "19995                                       0.535306   \n",
       "19996                                       0.361866   \n",
       "19997                                       0.664354   \n",
       "19998                                       0.635246   \n",
       "19999                                       0.312797   \n",
       "\n",
       "       heart__fft_coefficient__attr_\"real\"__coeff_83  \n",
       "0                                           0.355992  \n",
       "1                                           0.077530  \n",
       "2                                           0.454957  \n",
       "3                                           0.662320  \n",
       "4                                           0.511133  \n",
       "...                                              ...  \n",
       "19995                                       0.268471  \n",
       "19996                                       0.536087  \n",
       "19997                                       0.370047  \n",
       "19998                                       0.258394  \n",
       "19999                                       0.540855  \n",
       "\n",
       "[20000 rows x 703 columns]"
      ]
     },
     "execution_count": 8,
     "metadata": {},
     "output_type": "execute_result"
    }
   ],
   "source": [
    "features_filtered_test = features_df_test[features_filtered.columns]\n",
    "features_filtered_test"
   ]
  },
  {
   "cell_type": "code",
   "execution_count": 4,
   "id": "25f30b47",
   "metadata": {},
   "outputs": [],
   "source": [
    "import pickle\n",
    "with open('./feature_df.pkl','rb') as file:\n",
    "    features_df = pickle.load(file)"
   ]
  },
  {
   "cell_type": "code",
   "execution_count": 7,
   "id": "16c87451",
   "metadata": {},
   "outputs": [],
   "source": [
    "with open('./feature_df_test.pkl','rb') as file:\n",
    "    features_df_test = pickle.load(file)"
   ]
  },
  {
   "cell_type": "markdown",
   "id": "d1b29651",
   "metadata": {},
   "source": [
    "# XGBoost"
   ]
  },
  {
   "cell_type": "code",
   "execution_count": 9,
   "id": "d543d0f8",
   "metadata": {
    "ExecuteTime": {
     "end_time": "2022-03-27T12:32:12.367097Z",
     "start_time": "2022-03-27T12:32:12.367097Z"
    }
   },
   "outputs": [
    {
     "name": "stderr",
     "output_type": "stream",
     "text": [
      "c:\\users\\tengx\\appdata\\local\\programs\\python\\python38\\lib\\site-packages\\xgboost\\compat.py:36: FutureWarning: pandas.Int64Index is deprecated and will be removed from pandas in a future version. Use pandas.Index with the appropriate dtype instead.\n",
      "  from pandas import MultiIndex, Int64Index\n",
      "c:\\users\\tengx\\appdata\\local\\programs\\python\\python38\\lib\\site-packages\\xgboost\\sklearn.py:1224: UserWarning: The use of label encoder in XGBClassifier is deprecated and will be removed in a future release. To remove this warning, do the following: 1) Pass option use_label_encoder=False when constructing XGBClassifier object; and 2) Encode your labels (y) as integers starting with 0, i.e. 0, 1, 2, ..., [num_class - 1].\n",
      "  warnings.warn(label_encoder_deprecation_msg, UserWarning)\n"
     ]
    },
    {
     "name": "stdout",
     "output_type": "stream",
     "text": [
      "[14:57:46] WARNING: C:/Users/Administrator/workspace/xgboost-win64_release_1.5.1/src/learner.cc:576: \n",
      "Parameters: { \"min_child_samples\" } might not be used.\n",
      "\n",
      "  This could be a false alarm, with some parameters getting used by language bindings but\n",
      "  then being mistakenly passed down to XGBoost core, or some parameter actually being used\n",
      "  but getting flagged wrongly here. Please open an issue if you find any such cases.\n",
      "\n",
      "\n"
     ]
    },
    {
     "data": {
      "text/plain": [
       "XGBClassifier(base_score=0.5, booster='gbtree', colsample_bylevel=1,\n",
       "              colsample_bynode=1, colsample_bytree=0.8,\n",
       "              enable_categorical=False, eval_metric='auc', gamma=0, gpu_id=0,\n",
       "              importance_type=None, interaction_constraints='',\n",
       "              learning_rate=0.01, max_delta_step=0, max_depth=6,\n",
       "              min_child_samples=3, min_child_weight=1, missing=nan,\n",
       "              monotone_constraints='()', n_estimators=2000, n_jobs=8,\n",
       "              num_parallel_tree=1, objective='multi:softprob', predictor='auto',\n",
       "              random_state=0, reg_alpha=0, reg_lambda=0.5,\n",
       "              scale_pos_weight=None, subsample=0.8, tree_method='gpu_hist',\n",
       "              validate_parameters=1, ...)"
      ]
     },
     "execution_count": 9,
     "metadata": {},
     "output_type": "execute_result"
    }
   ],
   "source": [
    "import xgboost as xgb\n",
    "# 可以使用到GPU\n",
    "# Objective的类型：binary:logistic, multi:softmax\n",
    "\n",
    "model_xgb = xgb.XGBClassifier(\n",
    "            max_depth=6, learning_rate=0.01, n_estimators=2000, \n",
    "            objective='multi:softprob', tree_method='gpu_hist', \n",
    "            subsample=0.8, colsample_bytree=0.8, \n",
    "            min_child_samples=3, eval_metric='auc', reg_lambda=0.5\n",
    "        )\n",
    "model_xgb.fit(features_filtered.values,train['label'].values)"
   ]
  },
  {
   "cell_type": "markdown",
   "id": "01c0a3b6",
   "metadata": {},
   "source": [
    "## submission - method1"
   ]
  },
  {
   "cell_type": "code",
   "execution_count": 12,
   "id": "51d77e8f",
   "metadata": {
    "ExecuteTime": {
     "end_time": "2022-03-27T12:32:12.471107Z",
     "start_time": "2022-03-27T12:32:12.471107Z"
    }
   },
   "outputs": [
    {
     "data": {
      "text/plain": [
       "array([[9.9924004e-01, 7.3201529e-04, 1.5601268e-05, 1.2321216e-05],\n",
       "       [3.0692761e-05, 1.5304638e-04, 9.9981076e-01, 5.4925799e-06],\n",
       "       [3.4874922e-06, 1.8957886e-05, 2.1114909e-05, 9.9995649e-01],\n",
       "       ...,\n",
       "       [1.3951477e-01, 2.7034606e-04, 8.6014551e-01, 6.9369853e-05],\n",
       "       [9.9959642e-01, 3.7822066e-04, 2.1999846e-05, 3.4262939e-06],\n",
       "       [9.1098177e-01, 9.5387567e-03, 1.1500796e-02, 6.7978710e-02]],\n",
       "      dtype=float32)"
      ]
     },
     "execution_count": 12,
     "metadata": {},
     "output_type": "execute_result"
    }
   ],
   "source": [
    "y_pred = model_xgb.predict_proba(features_filtered_test.values)\n",
    "y_pred"
   ]
  },
  {
   "cell_type": "code",
   "execution_count": null,
   "id": "5521dbce",
   "metadata": {
    "ExecuteTime": {
     "end_time": "2022-03-27T12:32:12.483095Z",
     "start_time": "2022-03-27T12:32:12.483095Z"
    }
   },
   "outputs": [],
   "source": [
    "# proba = [0,1] ===> score = 500"
   ]
  },
  {
   "cell_type": "code",
   "execution_count": 14,
   "id": "43a5142e",
   "metadata": {
    "ExecuteTime": {
     "end_time": "2022-03-27T12:32:12.491092Z",
     "start_time": "2022-03-27T12:32:12.491092Z"
    }
   },
   "outputs": [
    {
     "data": {
      "text/html": [
       "<div>\n",
       "<style scoped>\n",
       "    .dataframe tbody tr th:only-of-type {\n",
       "        vertical-align: middle;\n",
       "    }\n",
       "\n",
       "    .dataframe tbody tr th {\n",
       "        vertical-align: top;\n",
       "    }\n",
       "\n",
       "    .dataframe thead th {\n",
       "        text-align: right;\n",
       "    }\n",
       "</style>\n",
       "<table border=\"1\" class=\"dataframe\">\n",
       "  <thead>\n",
       "    <tr style=\"text-align: right;\">\n",
       "      <th></th>\n",
       "      <th>id</th>\n",
       "      <th>label_0</th>\n",
       "      <th>label_1</th>\n",
       "      <th>label_2</th>\n",
       "      <th>label_3</th>\n",
       "    </tr>\n",
       "  </thead>\n",
       "  <tbody>\n",
       "    <tr>\n",
       "      <th>0</th>\n",
       "      <td>100000</td>\n",
       "      <td>0.999240</td>\n",
       "      <td>0.000732</td>\n",
       "      <td>0.000016</td>\n",
       "      <td>0.000012</td>\n",
       "    </tr>\n",
       "    <tr>\n",
       "      <th>1</th>\n",
       "      <td>100001</td>\n",
       "      <td>0.000031</td>\n",
       "      <td>0.000153</td>\n",
       "      <td>0.999811</td>\n",
       "      <td>0.000005</td>\n",
       "    </tr>\n",
       "    <tr>\n",
       "      <th>2</th>\n",
       "      <td>100002</td>\n",
       "      <td>0.000003</td>\n",
       "      <td>0.000019</td>\n",
       "      <td>0.000021</td>\n",
       "      <td>0.999956</td>\n",
       "    </tr>\n",
       "    <tr>\n",
       "      <th>3</th>\n",
       "      <td>100003</td>\n",
       "      <td>0.999837</td>\n",
       "      <td>0.000124</td>\n",
       "      <td>0.000034</td>\n",
       "      <td>0.000004</td>\n",
       "    </tr>\n",
       "    <tr>\n",
       "      <th>4</th>\n",
       "      <td>100004</td>\n",
       "      <td>0.999899</td>\n",
       "      <td>0.000025</td>\n",
       "      <td>0.000054</td>\n",
       "      <td>0.000022</td>\n",
       "    </tr>\n",
       "    <tr>\n",
       "      <th>...</th>\n",
       "      <td>...</td>\n",
       "      <td>...</td>\n",
       "      <td>...</td>\n",
       "      <td>...</td>\n",
       "      <td>...</td>\n",
       "    </tr>\n",
       "    <tr>\n",
       "      <th>19995</th>\n",
       "      <td>119995</td>\n",
       "      <td>0.987541</td>\n",
       "      <td>0.008321</td>\n",
       "      <td>0.000234</td>\n",
       "      <td>0.003904</td>\n",
       "    </tr>\n",
       "    <tr>\n",
       "      <th>19996</th>\n",
       "      <td>119996</td>\n",
       "      <td>0.999756</td>\n",
       "      <td>0.000185</td>\n",
       "      <td>0.000054</td>\n",
       "      <td>0.000004</td>\n",
       "    </tr>\n",
       "    <tr>\n",
       "      <th>19997</th>\n",
       "      <td>119997</td>\n",
       "      <td>0.139515</td>\n",
       "      <td>0.000270</td>\n",
       "      <td>0.860146</td>\n",
       "      <td>0.000069</td>\n",
       "    </tr>\n",
       "    <tr>\n",
       "      <th>19998</th>\n",
       "      <td>119998</td>\n",
       "      <td>0.999596</td>\n",
       "      <td>0.000378</td>\n",
       "      <td>0.000022</td>\n",
       "      <td>0.000003</td>\n",
       "    </tr>\n",
       "    <tr>\n",
       "      <th>19999</th>\n",
       "      <td>119999</td>\n",
       "      <td>0.910982</td>\n",
       "      <td>0.009539</td>\n",
       "      <td>0.011501</td>\n",
       "      <td>0.067979</td>\n",
       "    </tr>\n",
       "  </tbody>\n",
       "</table>\n",
       "<p>20000 rows × 5 columns</p>\n",
       "</div>"
      ],
      "text/plain": [
       "           id   label_0   label_1   label_2   label_3\n",
       "0      100000  0.999240  0.000732  0.000016  0.000012\n",
       "1      100001  0.000031  0.000153  0.999811  0.000005\n",
       "2      100002  0.000003  0.000019  0.000021  0.999956\n",
       "3      100003  0.999837  0.000124  0.000034  0.000004\n",
       "4      100004  0.999899  0.000025  0.000054  0.000022\n",
       "...       ...       ...       ...       ...       ...\n",
       "19995  119995  0.987541  0.008321  0.000234  0.003904\n",
       "19996  119996  0.999756  0.000185  0.000054  0.000004\n",
       "19997  119997  0.139515  0.000270  0.860146  0.000069\n",
       "19998  119998  0.999596  0.000378  0.000022  0.000003\n",
       "19999  119999  0.910982  0.009539  0.011501  0.067979\n",
       "\n",
       "[20000 rows x 5 columns]"
      ]
     },
     "execution_count": 14,
     "metadata": {},
     "output_type": "execute_result"
    }
   ],
   "source": [
    "result = pd.read_csv('./sample_submit.csv')\n",
    "\n",
    "result['label_0'] = y_pred[:,0]\n",
    "result['label_1'] = y_pred[:,1]\n",
    "result['label_2'] = y_pred[:,2]\n",
    "result['label_3'] = y_pred[:,3]\n",
    "result"
   ]
  },
  {
   "cell_type": "code",
   "execution_count": 15,
   "id": "c0c9c2b2",
   "metadata": {},
   "outputs": [],
   "source": [
    "result.to_csv('./predict_ts_xgb_1.csv', index=False)"
   ]
  },
  {
   "cell_type": "markdown",
   "id": "451afcb1",
   "metadata": {},
   "source": [
    "## submission - method2"
   ]
  },
  {
   "cell_type": "code",
   "execution_count": 16,
   "id": "50c6b712",
   "metadata": {},
   "outputs": [
    {
     "data": {
      "text/plain": [
       "array([0, 2, 3, ..., 2, 0, 0], dtype=int64)"
      ]
     },
     "execution_count": 16,
     "metadata": {},
     "output_type": "execute_result"
    }
   ],
   "source": [
    "max_index = y_pred.argmax(axis=1)\n",
    "max_index"
   ]
  },
  {
   "cell_type": "code",
   "execution_count": 17,
   "id": "09d4ece7",
   "metadata": {},
   "outputs": [
    {
     "data": {
      "text/html": [
       "<div>\n",
       "<style scoped>\n",
       "    .dataframe tbody tr th:only-of-type {\n",
       "        vertical-align: middle;\n",
       "    }\n",
       "\n",
       "    .dataframe tbody tr th {\n",
       "        vertical-align: top;\n",
       "    }\n",
       "\n",
       "    .dataframe thead th {\n",
       "        text-align: right;\n",
       "    }\n",
       "</style>\n",
       "<table border=\"1\" class=\"dataframe\">\n",
       "  <thead>\n",
       "    <tr style=\"text-align: right;\">\n",
       "      <th></th>\n",
       "      <th>id</th>\n",
       "      <th>label_0</th>\n",
       "      <th>label_1</th>\n",
       "      <th>label_2</th>\n",
       "      <th>label_3</th>\n",
       "    </tr>\n",
       "  </thead>\n",
       "  <tbody>\n",
       "    <tr>\n",
       "      <th>0</th>\n",
       "      <td>100000</td>\n",
       "      <td>0.999240</td>\n",
       "      <td>0.000732</td>\n",
       "      <td>0.000016</td>\n",
       "      <td>0.000012</td>\n",
       "    </tr>\n",
       "    <tr>\n",
       "      <th>1</th>\n",
       "      <td>100001</td>\n",
       "      <td>0.000031</td>\n",
       "      <td>0.000153</td>\n",
       "      <td>0.999811</td>\n",
       "      <td>0.000005</td>\n",
       "    </tr>\n",
       "    <tr>\n",
       "      <th>2</th>\n",
       "      <td>100002</td>\n",
       "      <td>0.000003</td>\n",
       "      <td>0.000019</td>\n",
       "      <td>0.000021</td>\n",
       "      <td>0.999956</td>\n",
       "    </tr>\n",
       "    <tr>\n",
       "      <th>3</th>\n",
       "      <td>100003</td>\n",
       "      <td>0.999837</td>\n",
       "      <td>0.000124</td>\n",
       "      <td>0.000034</td>\n",
       "      <td>0.000004</td>\n",
       "    </tr>\n",
       "    <tr>\n",
       "      <th>4</th>\n",
       "      <td>100004</td>\n",
       "      <td>0.999899</td>\n",
       "      <td>0.000025</td>\n",
       "      <td>0.000054</td>\n",
       "      <td>0.000022</td>\n",
       "    </tr>\n",
       "    <tr>\n",
       "      <th>...</th>\n",
       "      <td>...</td>\n",
       "      <td>...</td>\n",
       "      <td>...</td>\n",
       "      <td>...</td>\n",
       "      <td>...</td>\n",
       "    </tr>\n",
       "    <tr>\n",
       "      <th>19995</th>\n",
       "      <td>119995</td>\n",
       "      <td>0.987541</td>\n",
       "      <td>0.008321</td>\n",
       "      <td>0.000234</td>\n",
       "      <td>0.003904</td>\n",
       "    </tr>\n",
       "    <tr>\n",
       "      <th>19996</th>\n",
       "      <td>119996</td>\n",
       "      <td>0.999756</td>\n",
       "      <td>0.000185</td>\n",
       "      <td>0.000054</td>\n",
       "      <td>0.000004</td>\n",
       "    </tr>\n",
       "    <tr>\n",
       "      <th>19997</th>\n",
       "      <td>119997</td>\n",
       "      <td>0.139515</td>\n",
       "      <td>0.000270</td>\n",
       "      <td>0.860146</td>\n",
       "      <td>0.000069</td>\n",
       "    </tr>\n",
       "    <tr>\n",
       "      <th>19998</th>\n",
       "      <td>119998</td>\n",
       "      <td>0.999596</td>\n",
       "      <td>0.000378</td>\n",
       "      <td>0.000022</td>\n",
       "      <td>0.000003</td>\n",
       "    </tr>\n",
       "    <tr>\n",
       "      <th>19999</th>\n",
       "      <td>119999</td>\n",
       "      <td>0.910982</td>\n",
       "      <td>0.009539</td>\n",
       "      <td>0.011501</td>\n",
       "      <td>0.067979</td>\n",
       "    </tr>\n",
       "  </tbody>\n",
       "</table>\n",
       "<p>20000 rows × 5 columns</p>\n",
       "</div>"
      ],
      "text/plain": [
       "           id   label_0   label_1   label_2   label_3\n",
       "0      100000  0.999240  0.000732  0.000016  0.000012\n",
       "1      100001  0.000031  0.000153  0.999811  0.000005\n",
       "2      100002  0.000003  0.000019  0.000021  0.999956\n",
       "3      100003  0.999837  0.000124  0.000034  0.000004\n",
       "4      100004  0.999899  0.000025  0.000054  0.000022\n",
       "...       ...       ...       ...       ...       ...\n",
       "19995  119995  0.987541  0.008321  0.000234  0.003904\n",
       "19996  119996  0.999756  0.000185  0.000054  0.000004\n",
       "19997  119997  0.139515  0.000270  0.860146  0.000069\n",
       "19998  119998  0.999596  0.000378  0.000022  0.000003\n",
       "19999  119999  0.910982  0.009539  0.011501  0.067979\n",
       "\n",
       "[20000 rows x 5 columns]"
      ]
     },
     "execution_count": 17,
     "metadata": {},
     "output_type": "execute_result"
    }
   ],
   "source": [
    "result2 = result.copy()\n",
    "result2"
   ]
  },
  {
   "cell_type": "code",
   "execution_count": 18,
   "id": "4f9151fb",
   "metadata": {},
   "outputs": [
    {
     "data": {
      "text/html": [
       "<div>\n",
       "<style scoped>\n",
       "    .dataframe tbody tr th:only-of-type {\n",
       "        vertical-align: middle;\n",
       "    }\n",
       "\n",
       "    .dataframe tbody tr th {\n",
       "        vertical-align: top;\n",
       "    }\n",
       "\n",
       "    .dataframe thead th {\n",
       "        text-align: right;\n",
       "    }\n",
       "</style>\n",
       "<table border=\"1\" class=\"dataframe\">\n",
       "  <thead>\n",
       "    <tr style=\"text-align: right;\">\n",
       "      <th></th>\n",
       "      <th>label_0</th>\n",
       "      <th>label_1</th>\n",
       "      <th>label_2</th>\n",
       "      <th>label_3</th>\n",
       "    </tr>\n",
       "  </thead>\n",
       "  <tbody>\n",
       "    <tr>\n",
       "      <th>0</th>\n",
       "      <td>1</td>\n",
       "      <td>0</td>\n",
       "      <td>0</td>\n",
       "      <td>0</td>\n",
       "    </tr>\n",
       "    <tr>\n",
       "      <th>1</th>\n",
       "      <td>0</td>\n",
       "      <td>0</td>\n",
       "      <td>1</td>\n",
       "      <td>0</td>\n",
       "    </tr>\n",
       "    <tr>\n",
       "      <th>2</th>\n",
       "      <td>0</td>\n",
       "      <td>0</td>\n",
       "      <td>0</td>\n",
       "      <td>1</td>\n",
       "    </tr>\n",
       "    <tr>\n",
       "      <th>3</th>\n",
       "      <td>1</td>\n",
       "      <td>0</td>\n",
       "      <td>0</td>\n",
       "      <td>0</td>\n",
       "    </tr>\n",
       "    <tr>\n",
       "      <th>4</th>\n",
       "      <td>1</td>\n",
       "      <td>0</td>\n",
       "      <td>0</td>\n",
       "      <td>0</td>\n",
       "    </tr>\n",
       "    <tr>\n",
       "      <th>...</th>\n",
       "      <td>...</td>\n",
       "      <td>...</td>\n",
       "      <td>...</td>\n",
       "      <td>...</td>\n",
       "    </tr>\n",
       "    <tr>\n",
       "      <th>19995</th>\n",
       "      <td>1</td>\n",
       "      <td>0</td>\n",
       "      <td>0</td>\n",
       "      <td>0</td>\n",
       "    </tr>\n",
       "    <tr>\n",
       "      <th>19996</th>\n",
       "      <td>1</td>\n",
       "      <td>0</td>\n",
       "      <td>0</td>\n",
       "      <td>0</td>\n",
       "    </tr>\n",
       "    <tr>\n",
       "      <th>19997</th>\n",
       "      <td>0</td>\n",
       "      <td>0</td>\n",
       "      <td>1</td>\n",
       "      <td>0</td>\n",
       "    </tr>\n",
       "    <tr>\n",
       "      <th>19998</th>\n",
       "      <td>1</td>\n",
       "      <td>0</td>\n",
       "      <td>0</td>\n",
       "      <td>0</td>\n",
       "    </tr>\n",
       "    <tr>\n",
       "      <th>19999</th>\n",
       "      <td>1</td>\n",
       "      <td>0</td>\n",
       "      <td>0</td>\n",
       "      <td>0</td>\n",
       "    </tr>\n",
       "  </tbody>\n",
       "</table>\n",
       "<p>20000 rows × 4 columns</p>\n",
       "</div>"
      ],
      "text/plain": [
       "       label_0  label_1  label_2  label_3\n",
       "0            1        0        0        0\n",
       "1            0        0        1        0\n",
       "2            0        0        0        1\n",
       "3            1        0        0        0\n",
       "4            1        0        0        0\n",
       "...        ...      ...      ...      ...\n",
       "19995        1        0        0        0\n",
       "19996        1        0        0        0\n",
       "19997        0        0        1        0\n",
       "19998        1        0        0        0\n",
       "19999        1        0        0        0\n",
       "\n",
       "[20000 rows x 4 columns]"
      ]
     },
     "execution_count": 18,
     "metadata": {},
     "output_type": "execute_result"
    }
   ],
   "source": [
    "result_temp = pd.get_dummies(max_index, prefix='label')\n",
    "result_temp"
   ]
  },
  {
   "cell_type": "code",
   "execution_count": 19,
   "id": "5b8017b8",
   "metadata": {},
   "outputs": [
    {
     "data": {
      "text/html": [
       "<div>\n",
       "<style scoped>\n",
       "    .dataframe tbody tr th:only-of-type {\n",
       "        vertical-align: middle;\n",
       "    }\n",
       "\n",
       "    .dataframe tbody tr th {\n",
       "        vertical-align: top;\n",
       "    }\n",
       "\n",
       "    .dataframe thead th {\n",
       "        text-align: right;\n",
       "    }\n",
       "</style>\n",
       "<table border=\"1\" class=\"dataframe\">\n",
       "  <thead>\n",
       "    <tr style=\"text-align: right;\">\n",
       "      <th></th>\n",
       "      <th>id</th>\n",
       "      <th>label_0</th>\n",
       "      <th>label_1</th>\n",
       "      <th>label_2</th>\n",
       "      <th>label_3</th>\n",
       "    </tr>\n",
       "  </thead>\n",
       "  <tbody>\n",
       "    <tr>\n",
       "      <th>0</th>\n",
       "      <td>100000</td>\n",
       "      <td>1</td>\n",
       "      <td>0</td>\n",
       "      <td>0</td>\n",
       "      <td>0</td>\n",
       "    </tr>\n",
       "    <tr>\n",
       "      <th>1</th>\n",
       "      <td>100001</td>\n",
       "      <td>0</td>\n",
       "      <td>0</td>\n",
       "      <td>1</td>\n",
       "      <td>0</td>\n",
       "    </tr>\n",
       "    <tr>\n",
       "      <th>2</th>\n",
       "      <td>100002</td>\n",
       "      <td>0</td>\n",
       "      <td>0</td>\n",
       "      <td>0</td>\n",
       "      <td>1</td>\n",
       "    </tr>\n",
       "    <tr>\n",
       "      <th>3</th>\n",
       "      <td>100003</td>\n",
       "      <td>1</td>\n",
       "      <td>0</td>\n",
       "      <td>0</td>\n",
       "      <td>0</td>\n",
       "    </tr>\n",
       "    <tr>\n",
       "      <th>4</th>\n",
       "      <td>100004</td>\n",
       "      <td>1</td>\n",
       "      <td>0</td>\n",
       "      <td>0</td>\n",
       "      <td>0</td>\n",
       "    </tr>\n",
       "    <tr>\n",
       "      <th>...</th>\n",
       "      <td>...</td>\n",
       "      <td>...</td>\n",
       "      <td>...</td>\n",
       "      <td>...</td>\n",
       "      <td>...</td>\n",
       "    </tr>\n",
       "    <tr>\n",
       "      <th>19995</th>\n",
       "      <td>119995</td>\n",
       "      <td>1</td>\n",
       "      <td>0</td>\n",
       "      <td>0</td>\n",
       "      <td>0</td>\n",
       "    </tr>\n",
       "    <tr>\n",
       "      <th>19996</th>\n",
       "      <td>119996</td>\n",
       "      <td>1</td>\n",
       "      <td>0</td>\n",
       "      <td>0</td>\n",
       "      <td>0</td>\n",
       "    </tr>\n",
       "    <tr>\n",
       "      <th>19997</th>\n",
       "      <td>119997</td>\n",
       "      <td>0</td>\n",
       "      <td>0</td>\n",
       "      <td>1</td>\n",
       "      <td>0</td>\n",
       "    </tr>\n",
       "    <tr>\n",
       "      <th>19998</th>\n",
       "      <td>119998</td>\n",
       "      <td>1</td>\n",
       "      <td>0</td>\n",
       "      <td>0</td>\n",
       "      <td>0</td>\n",
       "    </tr>\n",
       "    <tr>\n",
       "      <th>19999</th>\n",
       "      <td>119999</td>\n",
       "      <td>1</td>\n",
       "      <td>0</td>\n",
       "      <td>0</td>\n",
       "      <td>0</td>\n",
       "    </tr>\n",
       "  </tbody>\n",
       "</table>\n",
       "<p>20000 rows × 5 columns</p>\n",
       "</div>"
      ],
      "text/plain": [
       "           id  label_0  label_1  label_2  label_3\n",
       "0      100000        1        0        0        0\n",
       "1      100001        0        0        1        0\n",
       "2      100002        0        0        0        1\n",
       "3      100003        1        0        0        0\n",
       "4      100004        1        0        0        0\n",
       "...       ...      ...      ...      ...      ...\n",
       "19995  119995        1        0        0        0\n",
       "19996  119996        1        0        0        0\n",
       "19997  119997        0        0        1        0\n",
       "19998  119998        1        0        0        0\n",
       "19999  119999        1        0        0        0\n",
       "\n",
       "[20000 rows x 5 columns]"
      ]
     },
     "execution_count": 19,
     "metadata": {},
     "output_type": "execute_result"
    }
   ],
   "source": [
    "result2['label_0'] = result_temp['label_0']\n",
    "result2['label_1'] = result_temp['label_1']\n",
    "result2['label_2'] = result_temp['label_2']\n",
    "result2['label_3'] = result_temp['label_3']\n",
    "result2"
   ]
  },
  {
   "cell_type": "code",
   "execution_count": 20,
   "id": "ab39f25a",
   "metadata": {},
   "outputs": [],
   "source": [
    "result2.to_csv('./predict_ts_xgb_2.csv', index=False)"
   ]
  },
  {
   "cell_type": "code",
   "execution_count": null,
   "id": "d8a90c27",
   "metadata": {},
   "outputs": [],
   "source": []
  },
  {
   "cell_type": "code",
   "execution_count": null,
   "id": "67a9f0cd",
   "metadata": {},
   "outputs": [],
   "source": []
  },
  {
   "cell_type": "code",
   "execution_count": null,
   "id": "3ceb627c",
   "metadata": {},
   "outputs": [],
   "source": []
  }
 ],
 "metadata": {
  "kernelspec": {
   "display_name": "Python 3 (ipykernel)",
   "language": "python",
   "name": "python3"
  },
  "language_info": {
   "codemirror_mode": {
    "name": "ipython",
    "version": 3
   },
   "file_extension": ".py",
   "mimetype": "text/x-python",
   "name": "python",
   "nbconvert_exporter": "python",
   "pygments_lexer": "ipython3",
   "version": "3.8.9"
  },
  "toc": {
   "base_numbering": 1,
   "nav_menu": {},
   "number_sections": true,
   "sideBar": true,
   "skip_h1_title": false,
   "title_cell": "Table of Contents",
   "title_sidebar": "Contents",
   "toc_cell": false,
   "toc_position": {
    "height": "calc(100% - 180px)",
    "left": "10px",
    "top": "150px",
    "width": "240px"
   },
   "toc_section_display": true,
   "toc_window_display": true
  },
  "toc-autonumbering": true,
  "varInspector": {
   "cols": {
    "lenName": 16,
    "lenType": 16,
    "lenVar": 40
   },
   "kernels_config": {
    "python": {
     "delete_cmd_postfix": "",
     "delete_cmd_prefix": "del ",
     "library": "var_list.py",
     "varRefreshCmd": "print(var_dic_list())"
    },
    "r": {
     "delete_cmd_postfix": ") ",
     "delete_cmd_prefix": "rm(",
     "library": "var_list.r",
     "varRefreshCmd": "cat(var_dic_list()) "
    }
   },
   "types_to_exclude": [
    "module",
    "function",
    "builtin_function_or_method",
    "instance",
    "_Feature"
   ],
   "window_display": false
  }
 },
 "nbformat": 4,
 "nbformat_minor": 5
}
